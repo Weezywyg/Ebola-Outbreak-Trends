{
 "cells": [
  {
   "cell_type": "markdown",
   "id": "4f749303",
   "metadata": {},
   "source": [
    "# Ebola Analysis and insignt\n",
    "This dataset provides an overview of Ebola cases and deaths across different countries over time. It includes columns for the country, date, cumulative confirmed, probable, and suspected cases, as well as cumulative deaths. The data spans from 2014 to 2016, capturing the impact of the Ebola outbreak in various regions. Countries like Liberia, Sierra Leone, and Guinea exhibit high case and death counts, reflecting the severity of the epidemic. The dataset can be used to analyze trends, mortality rates, and the spread of the disease across different nations. Let me know if you need deeper insights or visualizations."
   ]
  },
  {
   "cell_type": "code",
   "execution_count": 1,
   "id": "db8a62e2",
   "metadata": {},
   "outputs": [],
   "source": [
    "import pandas as pd\n",
    "import numpy as np\n",
    "import matplotlib.pyplot as plt\n",
    "import seaborn as sns\n",
    "import plotly.express as px\n",
    "import pandas as pd\n",
    "import matplotlib.pyplot as plt\n",
    "import plotly.graph_objects as go"
   ]
  },
  {
   "cell_type": "code",
   "execution_count": 2,
   "id": "d7284d60",
   "metadata": {},
   "outputs": [
    {
     "data": {
      "application/vnd.microsoft.datawrangler.viewer.v0+json": {
       "columns": [
        {
         "name": "index",
         "rawType": "int64",
         "type": "integer"
        },
        {
         "name": "Country",
         "rawType": "object",
         "type": "string"
        },
        {
         "name": "Date",
         "rawType": "datetime64[ns]",
         "type": "datetime"
        },
        {
         "name": "Cumulative no. of confirmed, probable and suspected cases",
         "rawType": "float64",
         "type": "float"
        },
        {
         "name": "Cumulative no. of confirmed, probable and suspected deaths",
         "rawType": "float64",
         "type": "float"
        }
       ],
       "ref": "45f0fabd-ae28-4f09-9c43-ec918a0d7fda",
       "rows": [
        [
         "0",
         "Guinea",
         "2014-08-29 00:00:00",
         "648.0",
         "430.0"
        ],
        [
         "1",
         "Nigeria",
         "2014-08-29 00:00:00",
         "19.0",
         "7.0"
        ],
        [
         "2",
         "Sierra Leone",
         "2014-08-29 00:00:00",
         "1026.0",
         "422.0"
        ],
        [
         "3",
         "Liberia",
         "2014-08-29 00:00:00",
         "1378.0",
         "694.0"
        ],
        [
         "4",
         "Sierra Leone",
         "2014-09-05 00:00:00",
         "1261.0",
         "491.0"
        ],
        [
         "5",
         "Nigeria",
         "2014-09-05 00:00:00",
         "22.0",
         "8.0"
        ],
        [
         "6",
         "Liberia",
         "2014-09-05 00:00:00",
         "1871.0",
         "1089.0"
        ],
        [
         "7",
         "Guinea",
         "2014-09-05 00:00:00",
         "812.0",
         "517.0"
        ],
        [
         "8",
         "Senegal",
         "2014-09-05 00:00:00",
         "1.0",
         "0.0"
        ],
        [
         "9",
         "Senegal",
         "2014-09-08 00:00:00",
         "3.0",
         "0.0"
        ],
        [
         "10",
         "Guinea",
         "2014-09-08 00:00:00",
         "862.0",
         "555.0"
        ],
        [
         "11",
         "Sierra Leone",
         "2014-09-08 00:00:00",
         "1361.0",
         "509.0"
        ],
        [
         "12",
         "Liberia",
         "2014-09-08 00:00:00",
         "2046.0",
         "1224.0"
        ],
        [
         "13",
         "Nigeria",
         "2014-09-08 00:00:00",
         "21.0",
         "8.0"
        ],
        [
         "14",
         "Guinea",
         "2014-09-12 00:00:00",
         "861.0",
         "557.0"
        ],
        [
         "15",
         "Sierra Leone",
         "2014-09-12 00:00:00",
         "1424.0",
         "524.0"
        ],
        [
         "16",
         "Nigeria",
         "2014-09-12 00:00:00",
         "21.0",
         "8.0"
        ],
        [
         "17",
         "Liberia",
         "2014-09-12 00:00:00",
         "2081.0",
         "1137.0"
        ],
        [
         "18",
         "Senegal",
         "2014-09-12 00:00:00",
         "3.0",
         "0.0"
        ],
        [
         "19",
         "Senegal",
         "2014-09-16 00:00:00",
         "1.0",
         "0.0"
        ],
        [
         "20",
         "Sierra Leone",
         "2014-09-16 00:00:00",
         "1620.0",
         "562.0"
        ],
        [
         "21",
         "Guinea",
         "2014-09-16 00:00:00",
         "936.0",
         "595.0"
        ],
        [
         "22",
         "Nigeria",
         "2014-09-16 00:00:00",
         "21.0",
         "8.0"
        ],
        [
         "23",
         "Liberia",
         "2014-09-16 00:00:00",
         "2407.0",
         "1296.0"
        ],
        [
         "24",
         "Nigeria",
         "2014-09-18 00:00:00",
         "21.0",
         "8.0"
        ],
        [
         "25",
         "Guinea",
         "2014-09-18 00:00:00",
         "942.0",
         "601.0"
        ],
        [
         "26",
         "Sierra Leone",
         "2014-09-18 00:00:00",
         "1673.0",
         "562.0"
        ],
        [
         "27",
         "Liberia",
         "2014-09-18 00:00:00",
         "2710.0",
         "1459.0"
        ],
        [
         "28",
         "Senegal",
         "2014-09-18 00:00:00",
         "1.0",
         "0.0"
        ],
        [
         "29",
         "Nigeria",
         "2014-09-22 00:00:00",
         "20.0",
         "8.0"
        ],
        [
         "30",
         "Sierra Leone",
         "2014-09-22 00:00:00",
         "1813.0",
         "593.0"
        ],
        [
         "31",
         "Liberia",
         "2014-09-22 00:00:00",
         "3022.0",
         "1578.0"
        ],
        [
         "32",
         "Senegal",
         "2014-09-22 00:00:00",
         "1.0",
         "0.0"
        ],
        [
         "33",
         "Guinea",
         "2014-09-22 00:00:00",
         "1008.0",
         "632.0"
        ],
        [
         "34",
         "Liberia",
         "2014-09-24 00:00:00",
         "3280.0",
         "1677.0"
        ],
        [
         "35",
         "Guinea",
         "2014-09-24 00:00:00",
         "1022.0",
         "635.0"
        ],
        [
         "36",
         "Nigeria",
         "2014-09-24 00:00:00",
         "20.0",
         "8.0"
        ],
        [
         "37",
         "Senegal",
         "2014-09-24 00:00:00",
         "1.0",
         "0.0"
        ],
        [
         "38",
         "Sierra Leone",
         "2014-09-24 00:00:00",
         "1940.0",
         "597.0"
        ],
        [
         "39",
         "Sierra Leone",
         "2014-09-26 00:00:00",
         "2021.0",
         "605.0"
        ],
        [
         "40",
         "Liberia",
         "2014-09-26 00:00:00",
         "3458.0",
         "1830.0"
        ],
        [
         "41",
         "Senegal",
         "2014-09-26 00:00:00",
         "1.0",
         "0.0"
        ],
        [
         "42",
         "Guinea",
         "2014-09-26 00:00:00",
         "1074.0",
         "648.0"
        ],
        [
         "43",
         "Nigeria",
         "2014-09-26 00:00:00",
         "20.0",
         "8.0"
        ],
        [
         "44",
         "Guinea",
         "2014-10-01 00:00:00",
         "1157.0",
         "710.0"
        ],
        [
         "45",
         "Senegal",
         "2014-10-01 00:00:00",
         "1.0",
         "0.0"
        ],
        [
         "46",
         "Nigeria",
         "2014-10-01 00:00:00",
         "20.0",
         "8.0"
        ],
        [
         "47",
         "Sierra Leone",
         "2014-10-01 00:00:00",
         "2304.0",
         "622.0"
        ],
        [
         "48",
         "Liberia",
         "2014-10-01 00:00:00",
         "3696.0",
         "1998.0"
        ],
        [
         "49",
         "United States of America",
         "2014-10-03 00:00:00",
         "1.0",
         "0.0"
        ]
       ],
       "shape": {
        "columns": 4,
        "rows": 2485
       }
      },
      "text/html": [
       "<div>\n",
       "<style scoped>\n",
       "    .dataframe tbody tr th:only-of-type {\n",
       "        vertical-align: middle;\n",
       "    }\n",
       "\n",
       "    .dataframe tbody tr th {\n",
       "        vertical-align: top;\n",
       "    }\n",
       "\n",
       "    .dataframe thead th {\n",
       "        text-align: right;\n",
       "    }\n",
       "</style>\n",
       "<table border=\"1\" class=\"dataframe\">\n",
       "  <thead>\n",
       "    <tr style=\"text-align: right;\">\n",
       "      <th></th>\n",
       "      <th>Country</th>\n",
       "      <th>Date</th>\n",
       "      <th>Cumulative no. of confirmed, probable and suspected cases</th>\n",
       "      <th>Cumulative no. of confirmed, probable and suspected deaths</th>\n",
       "    </tr>\n",
       "  </thead>\n",
       "  <tbody>\n",
       "    <tr>\n",
       "      <th>0</th>\n",
       "      <td>Guinea</td>\n",
       "      <td>2014-08-29</td>\n",
       "      <td>648.0</td>\n",
       "      <td>430.0</td>\n",
       "    </tr>\n",
       "    <tr>\n",
       "      <th>1</th>\n",
       "      <td>Nigeria</td>\n",
       "      <td>2014-08-29</td>\n",
       "      <td>19.0</td>\n",
       "      <td>7.0</td>\n",
       "    </tr>\n",
       "    <tr>\n",
       "      <th>2</th>\n",
       "      <td>Sierra Leone</td>\n",
       "      <td>2014-08-29</td>\n",
       "      <td>1026.0</td>\n",
       "      <td>422.0</td>\n",
       "    </tr>\n",
       "    <tr>\n",
       "      <th>3</th>\n",
       "      <td>Liberia</td>\n",
       "      <td>2014-08-29</td>\n",
       "      <td>1378.0</td>\n",
       "      <td>694.0</td>\n",
       "    </tr>\n",
       "    <tr>\n",
       "      <th>4</th>\n",
       "      <td>Sierra Leone</td>\n",
       "      <td>2014-09-05</td>\n",
       "      <td>1261.0</td>\n",
       "      <td>491.0</td>\n",
       "    </tr>\n",
       "    <tr>\n",
       "      <th>...</th>\n",
       "      <td>...</td>\n",
       "      <td>...</td>\n",
       "      <td>...</td>\n",
       "      <td>...</td>\n",
       "    </tr>\n",
       "    <tr>\n",
       "      <th>2480</th>\n",
       "      <td>Liberia</td>\n",
       "      <td>2016-03-23</td>\n",
       "      <td>10666.0</td>\n",
       "      <td>4806.0</td>\n",
       "    </tr>\n",
       "    <tr>\n",
       "      <th>2481</th>\n",
       "      <td>Italy</td>\n",
       "      <td>2016-03-23</td>\n",
       "      <td>1.0</td>\n",
       "      <td>0.0</td>\n",
       "    </tr>\n",
       "    <tr>\n",
       "      <th>2482</th>\n",
       "      <td>Liberia</td>\n",
       "      <td>2016-03-23</td>\n",
       "      <td>5.0</td>\n",
       "      <td>4.0</td>\n",
       "    </tr>\n",
       "    <tr>\n",
       "      <th>2483</th>\n",
       "      <td>Nigeria</td>\n",
       "      <td>2016-03-23</td>\n",
       "      <td>20.0</td>\n",
       "      <td>8.0</td>\n",
       "    </tr>\n",
       "    <tr>\n",
       "      <th>2484</th>\n",
       "      <td>United States of America</td>\n",
       "      <td>2016-03-23</td>\n",
       "      <td>4.0</td>\n",
       "      <td>1.0</td>\n",
       "    </tr>\n",
       "  </tbody>\n",
       "</table>\n",
       "<p>2485 rows × 4 columns</p>\n",
       "</div>"
      ],
      "text/plain": [
       "                       Country       Date  \\\n",
       "0                       Guinea 2014-08-29   \n",
       "1                      Nigeria 2014-08-29   \n",
       "2                 Sierra Leone 2014-08-29   \n",
       "3                      Liberia 2014-08-29   \n",
       "4                 Sierra Leone 2014-09-05   \n",
       "...                        ...        ...   \n",
       "2480                   Liberia 2016-03-23   \n",
       "2481                     Italy 2016-03-23   \n",
       "2482                   Liberia 2016-03-23   \n",
       "2483                   Nigeria 2016-03-23   \n",
       "2484  United States of America 2016-03-23   \n",
       "\n",
       "      Cumulative no. of confirmed, probable and suspected cases  \\\n",
       "0                                                 648.0           \n",
       "1                                                  19.0           \n",
       "2                                                1026.0           \n",
       "3                                                1378.0           \n",
       "4                                                1261.0           \n",
       "...                                                 ...           \n",
       "2480                                            10666.0           \n",
       "2481                                                1.0           \n",
       "2482                                                5.0           \n",
       "2483                                               20.0           \n",
       "2484                                                4.0           \n",
       "\n",
       "      Cumulative no. of confirmed, probable and suspected deaths  \n",
       "0                                                 430.0           \n",
       "1                                                   7.0           \n",
       "2                                                 422.0           \n",
       "3                                                 694.0           \n",
       "4                                                 491.0           \n",
       "...                                                 ...           \n",
       "2480                                             4806.0           \n",
       "2481                                                0.0           \n",
       "2482                                                4.0           \n",
       "2483                                                8.0           \n",
       "2484                                                1.0           \n",
       "\n",
       "[2485 rows x 4 columns]"
      ]
     },
     "execution_count": 2,
     "metadata": {},
     "output_type": "execute_result"
    }
   ],
   "source": [
    "Ebola_Report = pd.read_csv(\"ebola_2014_2016_clean.csv\", parse_dates=['Date'])\n",
    "Ebola_Report"
   ]
  },
  {
   "cell_type": "code",
   "execution_count": 3,
   "id": "85f4f1e2",
   "metadata": {},
   "outputs": [
    {
     "name": "stdout",
     "output_type": "stream",
     "text": [
      "<class 'pandas.core.frame.DataFrame'>\n",
      "RangeIndex: 2485 entries, 0 to 2484\n",
      "Data columns (total 4 columns):\n",
      " #   Column                                                      Non-Null Count  Dtype         \n",
      "---  ------                                                      --------------  -----         \n",
      " 0   Country                                                     2485 non-null   object        \n",
      " 1   Date                                                        2485 non-null   datetime64[ns]\n",
      " 2   Cumulative no. of confirmed, probable and suspected cases   2477 non-null   float64       \n",
      " 3   Cumulative no. of confirmed, probable and suspected deaths  2485 non-null   float64       \n",
      "dtypes: datetime64[ns](1), float64(2), object(1)\n",
      "memory usage: 77.8+ KB\n"
     ]
    }
   ],
   "source": [
    "Ebola_Report.info()"
   ]
  },
  {
   "cell_type": "code",
   "execution_count": 4,
   "id": "5ac0d5f2",
   "metadata": {},
   "outputs": [
    {
     "data": {
      "application/vnd.microsoft.datawrangler.viewer.v0+json": {
       "columns": [
        {
         "name": "index",
         "rawType": "int64",
         "type": "integer"
        },
        {
         "name": "Country",
         "rawType": "object",
         "type": "string"
        },
        {
         "name": "Date",
         "rawType": "datetime64[ns]",
         "type": "datetime"
        },
        {
         "name": "Cumulative no. of confirmed, probable and suspected cases",
         "rawType": "float64",
         "type": "float"
        },
        {
         "name": "Cumulative no. of confirmed, probable and suspected deaths",
         "rawType": "float64",
         "type": "float"
        }
       ],
       "ref": "40cb962b-6d31-4f2f-832b-5121cc3c9453",
       "rows": [
        [
         "0",
         "Guinea",
         "2014-08-29 00:00:00",
         "648.0",
         "430.0"
        ],
        [
         "1",
         "Nigeria",
         "2014-08-29 00:00:00",
         "19.0",
         "7.0"
        ],
        [
         "2",
         "Sierra Leone",
         "2014-08-29 00:00:00",
         "1026.0",
         "422.0"
        ],
        [
         "3",
         "Liberia",
         "2014-08-29 00:00:00",
         "1378.0",
         "694.0"
        ],
        [
         "4",
         "Sierra Leone",
         "2014-09-05 00:00:00",
         "1261.0",
         "491.0"
        ]
       ],
       "shape": {
        "columns": 4,
        "rows": 5
       }
      },
      "text/html": [
       "<div>\n",
       "<style scoped>\n",
       "    .dataframe tbody tr th:only-of-type {\n",
       "        vertical-align: middle;\n",
       "    }\n",
       "\n",
       "    .dataframe tbody tr th {\n",
       "        vertical-align: top;\n",
       "    }\n",
       "\n",
       "    .dataframe thead th {\n",
       "        text-align: right;\n",
       "    }\n",
       "</style>\n",
       "<table border=\"1\" class=\"dataframe\">\n",
       "  <thead>\n",
       "    <tr style=\"text-align: right;\">\n",
       "      <th></th>\n",
       "      <th>Country</th>\n",
       "      <th>Date</th>\n",
       "      <th>Cumulative no. of confirmed, probable and suspected cases</th>\n",
       "      <th>Cumulative no. of confirmed, probable and suspected deaths</th>\n",
       "    </tr>\n",
       "  </thead>\n",
       "  <tbody>\n",
       "    <tr>\n",
       "      <th>0</th>\n",
       "      <td>Guinea</td>\n",
       "      <td>2014-08-29</td>\n",
       "      <td>648.0</td>\n",
       "      <td>430.0</td>\n",
       "    </tr>\n",
       "    <tr>\n",
       "      <th>1</th>\n",
       "      <td>Nigeria</td>\n",
       "      <td>2014-08-29</td>\n",
       "      <td>19.0</td>\n",
       "      <td>7.0</td>\n",
       "    </tr>\n",
       "    <tr>\n",
       "      <th>2</th>\n",
       "      <td>Sierra Leone</td>\n",
       "      <td>2014-08-29</td>\n",
       "      <td>1026.0</td>\n",
       "      <td>422.0</td>\n",
       "    </tr>\n",
       "    <tr>\n",
       "      <th>3</th>\n",
       "      <td>Liberia</td>\n",
       "      <td>2014-08-29</td>\n",
       "      <td>1378.0</td>\n",
       "      <td>694.0</td>\n",
       "    </tr>\n",
       "    <tr>\n",
       "      <th>4</th>\n",
       "      <td>Sierra Leone</td>\n",
       "      <td>2014-09-05</td>\n",
       "      <td>1261.0</td>\n",
       "      <td>491.0</td>\n",
       "    </tr>\n",
       "  </tbody>\n",
       "</table>\n",
       "</div>"
      ],
      "text/plain": [
       "        Country       Date  \\\n",
       "0        Guinea 2014-08-29   \n",
       "1       Nigeria 2014-08-29   \n",
       "2  Sierra Leone 2014-08-29   \n",
       "3       Liberia 2014-08-29   \n",
       "4  Sierra Leone 2014-09-05   \n",
       "\n",
       "   Cumulative no. of confirmed, probable and suspected cases  \\\n",
       "0                                              648.0           \n",
       "1                                               19.0           \n",
       "2                                             1026.0           \n",
       "3                                             1378.0           \n",
       "4                                             1261.0           \n",
       "\n",
       "   Cumulative no. of confirmed, probable and suspected deaths  \n",
       "0                                              430.0           \n",
       "1                                                7.0           \n",
       "2                                              422.0           \n",
       "3                                              694.0           \n",
       "4                                              491.0           "
      ]
     },
     "execution_count": 4,
     "metadata": {},
     "output_type": "execute_result"
    }
   ],
   "source": [
    "Ebola_Report.head(5)"
   ]
  },
  {
   "cell_type": "code",
   "execution_count": 5,
   "id": "904e3b3f",
   "metadata": {},
   "outputs": [
    {
     "data": {
      "application/vnd.microsoft.datawrangler.viewer.v0+json": {
       "columns": [
        {
         "name": "index",
         "rawType": "int64",
         "type": "integer"
        },
        {
         "name": "Country",
         "rawType": "object",
         "type": "string"
        },
        {
         "name": "Date",
         "rawType": "datetime64[ns]",
         "type": "datetime"
        },
        {
         "name": "Cumulative no. of confirmed, probable and suspected cases",
         "rawType": "float64",
         "type": "float"
        },
        {
         "name": "Cumulative no. of confirmed, probable and suspected deaths",
         "rawType": "float64",
         "type": "float"
        }
       ],
       "ref": "de6b4d4d-b205-4102-b69c-e054cf7d2b4a",
       "rows": [
        [
         "2480",
         "Liberia",
         "2016-03-23 00:00:00",
         "10666.0",
         "4806.0"
        ],
        [
         "2481",
         "Italy",
         "2016-03-23 00:00:00",
         "1.0",
         "0.0"
        ],
        [
         "2482",
         "Liberia",
         "2016-03-23 00:00:00",
         "5.0",
         "4.0"
        ],
        [
         "2483",
         "Nigeria",
         "2016-03-23 00:00:00",
         "20.0",
         "8.0"
        ],
        [
         "2484",
         "United States of America",
         "2016-03-23 00:00:00",
         "4.0",
         "1.0"
        ]
       ],
       "shape": {
        "columns": 4,
        "rows": 5
       }
      },
      "text/html": [
       "<div>\n",
       "<style scoped>\n",
       "    .dataframe tbody tr th:only-of-type {\n",
       "        vertical-align: middle;\n",
       "    }\n",
       "\n",
       "    .dataframe tbody tr th {\n",
       "        vertical-align: top;\n",
       "    }\n",
       "\n",
       "    .dataframe thead th {\n",
       "        text-align: right;\n",
       "    }\n",
       "</style>\n",
       "<table border=\"1\" class=\"dataframe\">\n",
       "  <thead>\n",
       "    <tr style=\"text-align: right;\">\n",
       "      <th></th>\n",
       "      <th>Country</th>\n",
       "      <th>Date</th>\n",
       "      <th>Cumulative no. of confirmed, probable and suspected cases</th>\n",
       "      <th>Cumulative no. of confirmed, probable and suspected deaths</th>\n",
       "    </tr>\n",
       "  </thead>\n",
       "  <tbody>\n",
       "    <tr>\n",
       "      <th>2480</th>\n",
       "      <td>Liberia</td>\n",
       "      <td>2016-03-23</td>\n",
       "      <td>10666.0</td>\n",
       "      <td>4806.0</td>\n",
       "    </tr>\n",
       "    <tr>\n",
       "      <th>2481</th>\n",
       "      <td>Italy</td>\n",
       "      <td>2016-03-23</td>\n",
       "      <td>1.0</td>\n",
       "      <td>0.0</td>\n",
       "    </tr>\n",
       "    <tr>\n",
       "      <th>2482</th>\n",
       "      <td>Liberia</td>\n",
       "      <td>2016-03-23</td>\n",
       "      <td>5.0</td>\n",
       "      <td>4.0</td>\n",
       "    </tr>\n",
       "    <tr>\n",
       "      <th>2483</th>\n",
       "      <td>Nigeria</td>\n",
       "      <td>2016-03-23</td>\n",
       "      <td>20.0</td>\n",
       "      <td>8.0</td>\n",
       "    </tr>\n",
       "    <tr>\n",
       "      <th>2484</th>\n",
       "      <td>United States of America</td>\n",
       "      <td>2016-03-23</td>\n",
       "      <td>4.0</td>\n",
       "      <td>1.0</td>\n",
       "    </tr>\n",
       "  </tbody>\n",
       "</table>\n",
       "</div>"
      ],
      "text/plain": [
       "                       Country       Date  \\\n",
       "2480                   Liberia 2016-03-23   \n",
       "2481                     Italy 2016-03-23   \n",
       "2482                   Liberia 2016-03-23   \n",
       "2483                   Nigeria 2016-03-23   \n",
       "2484  United States of America 2016-03-23   \n",
       "\n",
       "      Cumulative no. of confirmed, probable and suspected cases  \\\n",
       "2480                                            10666.0           \n",
       "2481                                                1.0           \n",
       "2482                                                5.0           \n",
       "2483                                               20.0           \n",
       "2484                                                4.0           \n",
       "\n",
       "      Cumulative no. of confirmed, probable and suspected deaths  \n",
       "2480                                             4806.0           \n",
       "2481                                                0.0           \n",
       "2482                                                4.0           \n",
       "2483                                                8.0           \n",
       "2484                                                1.0           "
      ]
     },
     "execution_count": 5,
     "metadata": {},
     "output_type": "execute_result"
    }
   ],
   "source": [
    "Ebola_Report.tail(5)"
   ]
  },
  {
   "cell_type": "code",
   "execution_count": 6,
   "id": "8c12a08a",
   "metadata": {},
   "outputs": [
    {
     "data": {
      "application/vnd.microsoft.datawrangler.viewer.v0+json": {
       "columns": [
        {
         "name": "index",
         "rawType": "int64",
         "type": "integer"
        },
        {
         "name": "index",
         "rawType": "int64",
         "type": "integer"
        },
        {
         "name": "Country",
         "rawType": "object",
         "type": "string"
        },
        {
         "name": "Date",
         "rawType": "datetime64[ns]",
         "type": "datetime"
        },
        {
         "name": "Cumulative no. of confirmed, probable and suspected cases",
         "rawType": "float64",
         "type": "float"
        },
        {
         "name": "Cumulative no. of confirmed, probable and suspected deaths",
         "rawType": "float64",
         "type": "float"
        }
       ],
       "ref": "4d03b4f9-8c36-4edf-8c19-9c015eddf98e",
       "rows": [
        [
         "0",
         "0",
         "Guinea",
         "2014-08-29 00:00:00",
         "648.0",
         "430.0"
        ],
        [
         "1",
         "1",
         "Nigeria",
         "2014-08-29 00:00:00",
         "19.0",
         "7.0"
        ],
        [
         "2",
         "2",
         "Sierra Leone",
         "2014-08-29 00:00:00",
         "1026.0",
         "422.0"
        ],
        [
         "3",
         "3",
         "Liberia",
         "2014-08-29 00:00:00",
         "1378.0",
         "694.0"
        ],
        [
         "4",
         "4",
         "Sierra Leone",
         "2014-09-05 00:00:00",
         "1261.0",
         "491.0"
        ],
        [
         "5",
         "5",
         "Nigeria",
         "2014-09-05 00:00:00",
         "22.0",
         "8.0"
        ],
        [
         "6",
         "6",
         "Liberia",
         "2014-09-05 00:00:00",
         "1871.0",
         "1089.0"
        ],
        [
         "7",
         "7",
         "Guinea",
         "2014-09-05 00:00:00",
         "812.0",
         "517.0"
        ],
        [
         "8",
         "8",
         "Senegal",
         "2014-09-05 00:00:00",
         "1.0",
         "0.0"
        ],
        [
         "9",
         "9",
         "Senegal",
         "2014-09-08 00:00:00",
         "3.0",
         "0.0"
        ],
        [
         "10",
         "10",
         "Guinea",
         "2014-09-08 00:00:00",
         "862.0",
         "555.0"
        ],
        [
         "11",
         "11",
         "Sierra Leone",
         "2014-09-08 00:00:00",
         "1361.0",
         "509.0"
        ],
        [
         "12",
         "12",
         "Liberia",
         "2014-09-08 00:00:00",
         "2046.0",
         "1224.0"
        ],
        [
         "13",
         "13",
         "Nigeria",
         "2014-09-08 00:00:00",
         "21.0",
         "8.0"
        ],
        [
         "14",
         "14",
         "Guinea",
         "2014-09-12 00:00:00",
         "861.0",
         "557.0"
        ],
        [
         "15",
         "15",
         "Sierra Leone",
         "2014-09-12 00:00:00",
         "1424.0",
         "524.0"
        ],
        [
         "16",
         "16",
         "Nigeria",
         "2014-09-12 00:00:00",
         "21.0",
         "8.0"
        ],
        [
         "17",
         "17",
         "Liberia",
         "2014-09-12 00:00:00",
         "2081.0",
         "1137.0"
        ],
        [
         "18",
         "18",
         "Senegal",
         "2014-09-12 00:00:00",
         "3.0",
         "0.0"
        ],
        [
         "19",
         "19",
         "Senegal",
         "2014-09-16 00:00:00",
         "1.0",
         "0.0"
        ],
        [
         "20",
         "20",
         "Sierra Leone",
         "2014-09-16 00:00:00",
         "1620.0",
         "562.0"
        ],
        [
         "21",
         "21",
         "Guinea",
         "2014-09-16 00:00:00",
         "936.0",
         "595.0"
        ],
        [
         "22",
         "22",
         "Nigeria",
         "2014-09-16 00:00:00",
         "21.0",
         "8.0"
        ],
        [
         "23",
         "23",
         "Liberia",
         "2014-09-16 00:00:00",
         "2407.0",
         "1296.0"
        ],
        [
         "24",
         "24",
         "Nigeria",
         "2014-09-18 00:00:00",
         "21.0",
         "8.0"
        ],
        [
         "25",
         "25",
         "Guinea",
         "2014-09-18 00:00:00",
         "942.0",
         "601.0"
        ],
        [
         "26",
         "26",
         "Sierra Leone",
         "2014-09-18 00:00:00",
         "1673.0",
         "562.0"
        ],
        [
         "27",
         "27",
         "Liberia",
         "2014-09-18 00:00:00",
         "2710.0",
         "1459.0"
        ],
        [
         "28",
         "28",
         "Senegal",
         "2014-09-18 00:00:00",
         "1.0",
         "0.0"
        ],
        [
         "29",
         "29",
         "Nigeria",
         "2014-09-22 00:00:00",
         "20.0",
         "8.0"
        ],
        [
         "30",
         "30",
         "Sierra Leone",
         "2014-09-22 00:00:00",
         "1813.0",
         "593.0"
        ],
        [
         "31",
         "31",
         "Liberia",
         "2014-09-22 00:00:00",
         "3022.0",
         "1578.0"
        ],
        [
         "32",
         "32",
         "Senegal",
         "2014-09-22 00:00:00",
         "1.0",
         "0.0"
        ],
        [
         "33",
         "33",
         "Guinea",
         "2014-09-22 00:00:00",
         "1008.0",
         "632.0"
        ],
        [
         "34",
         "34",
         "Liberia",
         "2014-09-24 00:00:00",
         "3280.0",
         "1677.0"
        ],
        [
         "35",
         "35",
         "Guinea",
         "2014-09-24 00:00:00",
         "1022.0",
         "635.0"
        ],
        [
         "36",
         "36",
         "Nigeria",
         "2014-09-24 00:00:00",
         "20.0",
         "8.0"
        ],
        [
         "37",
         "37",
         "Senegal",
         "2014-09-24 00:00:00",
         "1.0",
         "0.0"
        ],
        [
         "38",
         "38",
         "Sierra Leone",
         "2014-09-24 00:00:00",
         "1940.0",
         "597.0"
        ],
        [
         "39",
         "39",
         "Sierra Leone",
         "2014-09-26 00:00:00",
         "2021.0",
         "605.0"
        ],
        [
         "40",
         "40",
         "Liberia",
         "2014-09-26 00:00:00",
         "3458.0",
         "1830.0"
        ],
        [
         "41",
         "41",
         "Senegal",
         "2014-09-26 00:00:00",
         "1.0",
         "0.0"
        ],
        [
         "42",
         "42",
         "Guinea",
         "2014-09-26 00:00:00",
         "1074.0",
         "648.0"
        ],
        [
         "43",
         "43",
         "Nigeria",
         "2014-09-26 00:00:00",
         "20.0",
         "8.0"
        ],
        [
         "44",
         "44",
         "Guinea",
         "2014-10-01 00:00:00",
         "1157.0",
         "710.0"
        ],
        [
         "45",
         "45",
         "Senegal",
         "2014-10-01 00:00:00",
         "1.0",
         "0.0"
        ],
        [
         "46",
         "46",
         "Nigeria",
         "2014-10-01 00:00:00",
         "20.0",
         "8.0"
        ],
        [
         "47",
         "47",
         "Sierra Leone",
         "2014-10-01 00:00:00",
         "2304.0",
         "622.0"
        ],
        [
         "48",
         "48",
         "Liberia",
         "2014-10-01 00:00:00",
         "3696.0",
         "1998.0"
        ],
        [
         "49",
         "49",
         "United States of America",
         "2014-10-03 00:00:00",
         "1.0",
         "0.0"
        ]
       ],
       "shape": {
        "columns": 5,
        "rows": 2485
       }
      },
      "text/html": [
       "<div>\n",
       "<style scoped>\n",
       "    .dataframe tbody tr th:only-of-type {\n",
       "        vertical-align: middle;\n",
       "    }\n",
       "\n",
       "    .dataframe tbody tr th {\n",
       "        vertical-align: top;\n",
       "    }\n",
       "\n",
       "    .dataframe thead th {\n",
       "        text-align: right;\n",
       "    }\n",
       "</style>\n",
       "<table border=\"1\" class=\"dataframe\">\n",
       "  <thead>\n",
       "    <tr style=\"text-align: right;\">\n",
       "      <th></th>\n",
       "      <th>index</th>\n",
       "      <th>Country</th>\n",
       "      <th>Date</th>\n",
       "      <th>Cumulative no. of confirmed, probable and suspected cases</th>\n",
       "      <th>Cumulative no. of confirmed, probable and suspected deaths</th>\n",
       "    </tr>\n",
       "  </thead>\n",
       "  <tbody>\n",
       "    <tr>\n",
       "      <th>0</th>\n",
       "      <td>0</td>\n",
       "      <td>Guinea</td>\n",
       "      <td>2014-08-29</td>\n",
       "      <td>648.0</td>\n",
       "      <td>430.0</td>\n",
       "    </tr>\n",
       "    <tr>\n",
       "      <th>1</th>\n",
       "      <td>1</td>\n",
       "      <td>Nigeria</td>\n",
       "      <td>2014-08-29</td>\n",
       "      <td>19.0</td>\n",
       "      <td>7.0</td>\n",
       "    </tr>\n",
       "    <tr>\n",
       "      <th>2</th>\n",
       "      <td>2</td>\n",
       "      <td>Sierra Leone</td>\n",
       "      <td>2014-08-29</td>\n",
       "      <td>1026.0</td>\n",
       "      <td>422.0</td>\n",
       "    </tr>\n",
       "    <tr>\n",
       "      <th>3</th>\n",
       "      <td>3</td>\n",
       "      <td>Liberia</td>\n",
       "      <td>2014-08-29</td>\n",
       "      <td>1378.0</td>\n",
       "      <td>694.0</td>\n",
       "    </tr>\n",
       "    <tr>\n",
       "      <th>4</th>\n",
       "      <td>4</td>\n",
       "      <td>Sierra Leone</td>\n",
       "      <td>2014-09-05</td>\n",
       "      <td>1261.0</td>\n",
       "      <td>491.0</td>\n",
       "    </tr>\n",
       "    <tr>\n",
       "      <th>...</th>\n",
       "      <td>...</td>\n",
       "      <td>...</td>\n",
       "      <td>...</td>\n",
       "      <td>...</td>\n",
       "      <td>...</td>\n",
       "    </tr>\n",
       "    <tr>\n",
       "      <th>2480</th>\n",
       "      <td>2480</td>\n",
       "      <td>Liberia</td>\n",
       "      <td>2016-03-23</td>\n",
       "      <td>10666.0</td>\n",
       "      <td>4806.0</td>\n",
       "    </tr>\n",
       "    <tr>\n",
       "      <th>2481</th>\n",
       "      <td>2481</td>\n",
       "      <td>Italy</td>\n",
       "      <td>2016-03-23</td>\n",
       "      <td>1.0</td>\n",
       "      <td>0.0</td>\n",
       "    </tr>\n",
       "    <tr>\n",
       "      <th>2482</th>\n",
       "      <td>2482</td>\n",
       "      <td>Liberia</td>\n",
       "      <td>2016-03-23</td>\n",
       "      <td>5.0</td>\n",
       "      <td>4.0</td>\n",
       "    </tr>\n",
       "    <tr>\n",
       "      <th>2483</th>\n",
       "      <td>2483</td>\n",
       "      <td>Nigeria</td>\n",
       "      <td>2016-03-23</td>\n",
       "      <td>20.0</td>\n",
       "      <td>8.0</td>\n",
       "    </tr>\n",
       "    <tr>\n",
       "      <th>2484</th>\n",
       "      <td>2484</td>\n",
       "      <td>United States of America</td>\n",
       "      <td>2016-03-23</td>\n",
       "      <td>4.0</td>\n",
       "      <td>1.0</td>\n",
       "    </tr>\n",
       "  </tbody>\n",
       "</table>\n",
       "<p>2485 rows × 5 columns</p>\n",
       "</div>"
      ],
      "text/plain": [
       "      index                   Country       Date  \\\n",
       "0         0                    Guinea 2014-08-29   \n",
       "1         1                   Nigeria 2014-08-29   \n",
       "2         2              Sierra Leone 2014-08-29   \n",
       "3         3                   Liberia 2014-08-29   \n",
       "4         4              Sierra Leone 2014-09-05   \n",
       "...     ...                       ...        ...   \n",
       "2480   2480                   Liberia 2016-03-23   \n",
       "2481   2481                     Italy 2016-03-23   \n",
       "2482   2482                   Liberia 2016-03-23   \n",
       "2483   2483                   Nigeria 2016-03-23   \n",
       "2484   2484  United States of America 2016-03-23   \n",
       "\n",
       "      Cumulative no. of confirmed, probable and suspected cases  \\\n",
       "0                                                 648.0           \n",
       "1                                                  19.0           \n",
       "2                                                1026.0           \n",
       "3                                                1378.0           \n",
       "4                                                1261.0           \n",
       "...                                                 ...           \n",
       "2480                                            10666.0           \n",
       "2481                                                1.0           \n",
       "2482                                                5.0           \n",
       "2483                                               20.0           \n",
       "2484                                                4.0           \n",
       "\n",
       "      Cumulative no. of confirmed, probable and suspected deaths  \n",
       "0                                                 430.0           \n",
       "1                                                   7.0           \n",
       "2                                                 422.0           \n",
       "3                                                 694.0           \n",
       "4                                                 491.0           \n",
       "...                                                 ...           \n",
       "2480                                             4806.0           \n",
       "2481                                                0.0           \n",
       "2482                                                4.0           \n",
       "2483                                                8.0           \n",
       "2484                                                1.0           \n",
       "\n",
       "[2485 rows x 5 columns]"
      ]
     },
     "execution_count": 6,
     "metadata": {},
     "output_type": "execute_result"
    }
   ],
   "source": [
    "Ebola_Report.reset_index()"
   ]
  },
  {
   "cell_type": "code",
   "execution_count": 7,
   "id": "ba4e9a57",
   "metadata": {},
   "outputs": [],
   "source": [
    "Ebola_Report.rename(columns={\"Cumulative no. of confirmed, probable and suspected cases\" : \"Outbreak Case\", \"Cumulative no. of confirmed, probable and suspected deaths\" : \"Death Confirmed\"}, inplace=True)"
   ]
  },
  {
   "cell_type": "code",
   "execution_count": 8,
   "id": "6daf22fd",
   "metadata": {},
   "outputs": [
    {
     "data": {
      "application/vnd.microsoft.datawrangler.viewer.v0+json": {
       "columns": [
        {
         "name": "index",
         "rawType": "int64",
         "type": "integer"
        },
        {
         "name": "Country",
         "rawType": "object",
         "type": "string"
        },
        {
         "name": "Date",
         "rawType": "datetime64[ns]",
         "type": "datetime"
        },
        {
         "name": "Outbreak Case",
         "rawType": "float64",
         "type": "float"
        },
        {
         "name": "Death Confirmed",
         "rawType": "float64",
         "type": "float"
        }
       ],
       "ref": "adb5084a-2e81-453d-9d50-2f164d9e73a5",
       "rows": [
        [
         "0",
         "Guinea",
         "2014-08-29 00:00:00",
         "648.0",
         "430.0"
        ],
        [
         "1",
         "Nigeria",
         "2014-08-29 00:00:00",
         "19.0",
         "7.0"
        ],
        [
         "2",
         "Sierra Leone",
         "2014-08-29 00:00:00",
         "1026.0",
         "422.0"
        ],
        [
         "3",
         "Liberia",
         "2014-08-29 00:00:00",
         "1378.0",
         "694.0"
        ],
        [
         "4",
         "Sierra Leone",
         "2014-09-05 00:00:00",
         "1261.0",
         "491.0"
        ],
        [
         "5",
         "Nigeria",
         "2014-09-05 00:00:00",
         "22.0",
         "8.0"
        ],
        [
         "6",
         "Liberia",
         "2014-09-05 00:00:00",
         "1871.0",
         "1089.0"
        ],
        [
         "7",
         "Guinea",
         "2014-09-05 00:00:00",
         "812.0",
         "517.0"
        ],
        [
         "8",
         "Senegal",
         "2014-09-05 00:00:00",
         "1.0",
         "0.0"
        ],
        [
         "9",
         "Senegal",
         "2014-09-08 00:00:00",
         "3.0",
         "0.0"
        ],
        [
         "10",
         "Guinea",
         "2014-09-08 00:00:00",
         "862.0",
         "555.0"
        ],
        [
         "11",
         "Sierra Leone",
         "2014-09-08 00:00:00",
         "1361.0",
         "509.0"
        ],
        [
         "12",
         "Liberia",
         "2014-09-08 00:00:00",
         "2046.0",
         "1224.0"
        ],
        [
         "13",
         "Nigeria",
         "2014-09-08 00:00:00",
         "21.0",
         "8.0"
        ],
        [
         "14",
         "Guinea",
         "2014-09-12 00:00:00",
         "861.0",
         "557.0"
        ],
        [
         "15",
         "Sierra Leone",
         "2014-09-12 00:00:00",
         "1424.0",
         "524.0"
        ],
        [
         "16",
         "Nigeria",
         "2014-09-12 00:00:00",
         "21.0",
         "8.0"
        ],
        [
         "17",
         "Liberia",
         "2014-09-12 00:00:00",
         "2081.0",
         "1137.0"
        ],
        [
         "18",
         "Senegal",
         "2014-09-12 00:00:00",
         "3.0",
         "0.0"
        ],
        [
         "19",
         "Senegal",
         "2014-09-16 00:00:00",
         "1.0",
         "0.0"
        ],
        [
         "20",
         "Sierra Leone",
         "2014-09-16 00:00:00",
         "1620.0",
         "562.0"
        ],
        [
         "21",
         "Guinea",
         "2014-09-16 00:00:00",
         "936.0",
         "595.0"
        ],
        [
         "22",
         "Nigeria",
         "2014-09-16 00:00:00",
         "21.0",
         "8.0"
        ],
        [
         "23",
         "Liberia",
         "2014-09-16 00:00:00",
         "2407.0",
         "1296.0"
        ],
        [
         "24",
         "Nigeria",
         "2014-09-18 00:00:00",
         "21.0",
         "8.0"
        ],
        [
         "25",
         "Guinea",
         "2014-09-18 00:00:00",
         "942.0",
         "601.0"
        ],
        [
         "26",
         "Sierra Leone",
         "2014-09-18 00:00:00",
         "1673.0",
         "562.0"
        ],
        [
         "27",
         "Liberia",
         "2014-09-18 00:00:00",
         "2710.0",
         "1459.0"
        ],
        [
         "28",
         "Senegal",
         "2014-09-18 00:00:00",
         "1.0",
         "0.0"
        ],
        [
         "29",
         "Nigeria",
         "2014-09-22 00:00:00",
         "20.0",
         "8.0"
        ],
        [
         "30",
         "Sierra Leone",
         "2014-09-22 00:00:00",
         "1813.0",
         "593.0"
        ],
        [
         "31",
         "Liberia",
         "2014-09-22 00:00:00",
         "3022.0",
         "1578.0"
        ],
        [
         "32",
         "Senegal",
         "2014-09-22 00:00:00",
         "1.0",
         "0.0"
        ],
        [
         "33",
         "Guinea",
         "2014-09-22 00:00:00",
         "1008.0",
         "632.0"
        ],
        [
         "34",
         "Liberia",
         "2014-09-24 00:00:00",
         "3280.0",
         "1677.0"
        ],
        [
         "35",
         "Guinea",
         "2014-09-24 00:00:00",
         "1022.0",
         "635.0"
        ],
        [
         "36",
         "Nigeria",
         "2014-09-24 00:00:00",
         "20.0",
         "8.0"
        ],
        [
         "37",
         "Senegal",
         "2014-09-24 00:00:00",
         "1.0",
         "0.0"
        ],
        [
         "38",
         "Sierra Leone",
         "2014-09-24 00:00:00",
         "1940.0",
         "597.0"
        ],
        [
         "39",
         "Sierra Leone",
         "2014-09-26 00:00:00",
         "2021.0",
         "605.0"
        ],
        [
         "40",
         "Liberia",
         "2014-09-26 00:00:00",
         "3458.0",
         "1830.0"
        ],
        [
         "41",
         "Senegal",
         "2014-09-26 00:00:00",
         "1.0",
         "0.0"
        ],
        [
         "42",
         "Guinea",
         "2014-09-26 00:00:00",
         "1074.0",
         "648.0"
        ],
        [
         "43",
         "Nigeria",
         "2014-09-26 00:00:00",
         "20.0",
         "8.0"
        ],
        [
         "44",
         "Guinea",
         "2014-10-01 00:00:00",
         "1157.0",
         "710.0"
        ],
        [
         "45",
         "Senegal",
         "2014-10-01 00:00:00",
         "1.0",
         "0.0"
        ],
        [
         "46",
         "Nigeria",
         "2014-10-01 00:00:00",
         "20.0",
         "8.0"
        ],
        [
         "47",
         "Sierra Leone",
         "2014-10-01 00:00:00",
         "2304.0",
         "622.0"
        ],
        [
         "48",
         "Liberia",
         "2014-10-01 00:00:00",
         "3696.0",
         "1998.0"
        ],
        [
         "49",
         "United States of America",
         "2014-10-03 00:00:00",
         "1.0",
         "0.0"
        ]
       ],
       "shape": {
        "columns": 4,
        "rows": 2485
       }
      },
      "text/html": [
       "<div>\n",
       "<style scoped>\n",
       "    .dataframe tbody tr th:only-of-type {\n",
       "        vertical-align: middle;\n",
       "    }\n",
       "\n",
       "    .dataframe tbody tr th {\n",
       "        vertical-align: top;\n",
       "    }\n",
       "\n",
       "    .dataframe thead th {\n",
       "        text-align: right;\n",
       "    }\n",
       "</style>\n",
       "<table border=\"1\" class=\"dataframe\">\n",
       "  <thead>\n",
       "    <tr style=\"text-align: right;\">\n",
       "      <th></th>\n",
       "      <th>Country</th>\n",
       "      <th>Date</th>\n",
       "      <th>Outbreak Case</th>\n",
       "      <th>Death Confirmed</th>\n",
       "    </tr>\n",
       "  </thead>\n",
       "  <tbody>\n",
       "    <tr>\n",
       "      <th>0</th>\n",
       "      <td>Guinea</td>\n",
       "      <td>2014-08-29</td>\n",
       "      <td>648.0</td>\n",
       "      <td>430.0</td>\n",
       "    </tr>\n",
       "    <tr>\n",
       "      <th>1</th>\n",
       "      <td>Nigeria</td>\n",
       "      <td>2014-08-29</td>\n",
       "      <td>19.0</td>\n",
       "      <td>7.0</td>\n",
       "    </tr>\n",
       "    <tr>\n",
       "      <th>2</th>\n",
       "      <td>Sierra Leone</td>\n",
       "      <td>2014-08-29</td>\n",
       "      <td>1026.0</td>\n",
       "      <td>422.0</td>\n",
       "    </tr>\n",
       "    <tr>\n",
       "      <th>3</th>\n",
       "      <td>Liberia</td>\n",
       "      <td>2014-08-29</td>\n",
       "      <td>1378.0</td>\n",
       "      <td>694.0</td>\n",
       "    </tr>\n",
       "    <tr>\n",
       "      <th>4</th>\n",
       "      <td>Sierra Leone</td>\n",
       "      <td>2014-09-05</td>\n",
       "      <td>1261.0</td>\n",
       "      <td>491.0</td>\n",
       "    </tr>\n",
       "    <tr>\n",
       "      <th>...</th>\n",
       "      <td>...</td>\n",
       "      <td>...</td>\n",
       "      <td>...</td>\n",
       "      <td>...</td>\n",
       "    </tr>\n",
       "    <tr>\n",
       "      <th>2480</th>\n",
       "      <td>Liberia</td>\n",
       "      <td>2016-03-23</td>\n",
       "      <td>10666.0</td>\n",
       "      <td>4806.0</td>\n",
       "    </tr>\n",
       "    <tr>\n",
       "      <th>2481</th>\n",
       "      <td>Italy</td>\n",
       "      <td>2016-03-23</td>\n",
       "      <td>1.0</td>\n",
       "      <td>0.0</td>\n",
       "    </tr>\n",
       "    <tr>\n",
       "      <th>2482</th>\n",
       "      <td>Liberia</td>\n",
       "      <td>2016-03-23</td>\n",
       "      <td>5.0</td>\n",
       "      <td>4.0</td>\n",
       "    </tr>\n",
       "    <tr>\n",
       "      <th>2483</th>\n",
       "      <td>Nigeria</td>\n",
       "      <td>2016-03-23</td>\n",
       "      <td>20.0</td>\n",
       "      <td>8.0</td>\n",
       "    </tr>\n",
       "    <tr>\n",
       "      <th>2484</th>\n",
       "      <td>United States of America</td>\n",
       "      <td>2016-03-23</td>\n",
       "      <td>4.0</td>\n",
       "      <td>1.0</td>\n",
       "    </tr>\n",
       "  </tbody>\n",
       "</table>\n",
       "<p>2485 rows × 4 columns</p>\n",
       "</div>"
      ],
      "text/plain": [
       "                       Country       Date  Outbreak Case  Death Confirmed\n",
       "0                       Guinea 2014-08-29          648.0            430.0\n",
       "1                      Nigeria 2014-08-29           19.0              7.0\n",
       "2                 Sierra Leone 2014-08-29         1026.0            422.0\n",
       "3                      Liberia 2014-08-29         1378.0            694.0\n",
       "4                 Sierra Leone 2014-09-05         1261.0            491.0\n",
       "...                        ...        ...            ...              ...\n",
       "2480                   Liberia 2016-03-23        10666.0           4806.0\n",
       "2481                     Italy 2016-03-23            1.0              0.0\n",
       "2482                   Liberia 2016-03-23            5.0              4.0\n",
       "2483                   Nigeria 2016-03-23           20.0              8.0\n",
       "2484  United States of America 2016-03-23            4.0              1.0\n",
       "\n",
       "[2485 rows x 4 columns]"
      ]
     },
     "execution_count": 8,
     "metadata": {},
     "output_type": "execute_result"
    }
   ],
   "source": [
    "Ebola_Report"
   ]
  },
  {
   "cell_type": "code",
   "execution_count": 9,
   "id": "299711ad",
   "metadata": {},
   "outputs": [],
   "source": [
    "Report = Ebola_Report.groupby([\"Date\", \"Country\"])[[\"Death Confirmed\", \"Outbreak Case\"]].sum()"
   ]
  },
  {
   "cell_type": "code",
   "execution_count": 10,
   "id": "9cd36c0a",
   "metadata": {},
   "outputs": [],
   "source": [
    "Report.reset_index(inplace=True)"
   ]
  },
  {
   "cell_type": "code",
   "execution_count": 11,
   "id": "ef95e509",
   "metadata": {},
   "outputs": [
    {
     "data": {
      "application/vnd.microsoft.datawrangler.viewer.v0+json": {
       "columns": [
        {
         "name": "index",
         "rawType": "int64",
         "type": "integer"
        },
        {
         "name": "Date",
         "rawType": "datetime64[ns]",
         "type": "datetime"
        },
        {
         "name": "Country",
         "rawType": "object",
         "type": "string"
        },
        {
         "name": "Death Confirmed",
         "rawType": "float64",
         "type": "float"
        },
        {
         "name": "Outbreak Case",
         "rawType": "float64",
         "type": "float"
        }
       ],
       "ref": "8ec49a6f-33b3-48aa-993b-e05abce7ef97",
       "rows": [
        [
         "0",
         "2014-08-29 00:00:00",
         "Guinea",
         "430.0",
         "648.0"
        ],
        [
         "1",
         "2014-08-29 00:00:00",
         "Liberia",
         "694.0",
         "1378.0"
        ],
        [
         "2",
         "2014-08-29 00:00:00",
         "Nigeria",
         "7.0",
         "19.0"
        ],
        [
         "3",
         "2014-08-29 00:00:00",
         "Sierra Leone",
         "422.0",
         "1026.0"
        ],
        [
         "4",
         "2014-09-05 00:00:00",
         "Guinea",
         "517.0",
         "812.0"
        ],
        [
         "5",
         "2014-09-05 00:00:00",
         "Liberia",
         "1089.0",
         "1871.0"
        ],
        [
         "6",
         "2014-09-05 00:00:00",
         "Nigeria",
         "8.0",
         "22.0"
        ],
        [
         "7",
         "2014-09-05 00:00:00",
         "Senegal",
         "0.0",
         "1.0"
        ],
        [
         "8",
         "2014-09-05 00:00:00",
         "Sierra Leone",
         "491.0",
         "1261.0"
        ],
        [
         "9",
         "2014-09-08 00:00:00",
         "Guinea",
         "555.0",
         "862.0"
        ],
        [
         "10",
         "2014-09-08 00:00:00",
         "Liberia",
         "1224.0",
         "2046.0"
        ],
        [
         "11",
         "2014-09-08 00:00:00",
         "Nigeria",
         "8.0",
         "21.0"
        ],
        [
         "12",
         "2014-09-08 00:00:00",
         "Senegal",
         "0.0",
         "3.0"
        ],
        [
         "13",
         "2014-09-08 00:00:00",
         "Sierra Leone",
         "509.0",
         "1361.0"
        ],
        [
         "14",
         "2014-09-12 00:00:00",
         "Guinea",
         "557.0",
         "861.0"
        ],
        [
         "15",
         "2014-09-12 00:00:00",
         "Liberia",
         "1137.0",
         "2081.0"
        ],
        [
         "16",
         "2014-09-12 00:00:00",
         "Nigeria",
         "8.0",
         "21.0"
        ],
        [
         "17",
         "2014-09-12 00:00:00",
         "Senegal",
         "0.0",
         "3.0"
        ],
        [
         "18",
         "2014-09-12 00:00:00",
         "Sierra Leone",
         "524.0",
         "1424.0"
        ],
        [
         "19",
         "2014-09-16 00:00:00",
         "Guinea",
         "595.0",
         "936.0"
        ],
        [
         "20",
         "2014-09-16 00:00:00",
         "Liberia",
         "1296.0",
         "2407.0"
        ],
        [
         "21",
         "2014-09-16 00:00:00",
         "Nigeria",
         "8.0",
         "21.0"
        ],
        [
         "22",
         "2014-09-16 00:00:00",
         "Senegal",
         "0.0",
         "1.0"
        ],
        [
         "23",
         "2014-09-16 00:00:00",
         "Sierra Leone",
         "562.0",
         "1620.0"
        ],
        [
         "24",
         "2014-09-18 00:00:00",
         "Guinea",
         "601.0",
         "942.0"
        ],
        [
         "25",
         "2014-09-18 00:00:00",
         "Liberia",
         "1459.0",
         "2710.0"
        ],
        [
         "26",
         "2014-09-18 00:00:00",
         "Nigeria",
         "8.0",
         "21.0"
        ],
        [
         "27",
         "2014-09-18 00:00:00",
         "Senegal",
         "0.0",
         "1.0"
        ],
        [
         "28",
         "2014-09-18 00:00:00",
         "Sierra Leone",
         "562.0",
         "1673.0"
        ],
        [
         "29",
         "2014-09-22 00:00:00",
         "Guinea",
         "632.0",
         "1008.0"
        ],
        [
         "30",
         "2014-09-22 00:00:00",
         "Liberia",
         "1578.0",
         "3022.0"
        ],
        [
         "31",
         "2014-09-22 00:00:00",
         "Nigeria",
         "8.0",
         "20.0"
        ],
        [
         "32",
         "2014-09-22 00:00:00",
         "Senegal",
         "0.0",
         "1.0"
        ],
        [
         "33",
         "2014-09-22 00:00:00",
         "Sierra Leone",
         "593.0",
         "1813.0"
        ],
        [
         "34",
         "2014-09-24 00:00:00",
         "Guinea",
         "635.0",
         "1022.0"
        ],
        [
         "35",
         "2014-09-24 00:00:00",
         "Liberia",
         "1677.0",
         "3280.0"
        ],
        [
         "36",
         "2014-09-24 00:00:00",
         "Nigeria",
         "8.0",
         "20.0"
        ],
        [
         "37",
         "2014-09-24 00:00:00",
         "Senegal",
         "0.0",
         "1.0"
        ],
        [
         "38",
         "2014-09-24 00:00:00",
         "Sierra Leone",
         "597.0",
         "1940.0"
        ],
        [
         "39",
         "2014-09-26 00:00:00",
         "Guinea",
         "648.0",
         "1074.0"
        ],
        [
         "40",
         "2014-09-26 00:00:00",
         "Liberia",
         "1830.0",
         "3458.0"
        ],
        [
         "41",
         "2014-09-26 00:00:00",
         "Nigeria",
         "8.0",
         "20.0"
        ],
        [
         "42",
         "2014-09-26 00:00:00",
         "Senegal",
         "0.0",
         "1.0"
        ],
        [
         "43",
         "2014-09-26 00:00:00",
         "Sierra Leone",
         "605.0",
         "2021.0"
        ],
        [
         "44",
         "2014-10-01 00:00:00",
         "Guinea",
         "710.0",
         "1157.0"
        ],
        [
         "45",
         "2014-10-01 00:00:00",
         "Liberia",
         "1998.0",
         "3696.0"
        ],
        [
         "46",
         "2014-10-01 00:00:00",
         "Nigeria",
         "8.0",
         "20.0"
        ],
        [
         "47",
         "2014-10-01 00:00:00",
         "Senegal",
         "0.0",
         "1.0"
        ],
        [
         "48",
         "2014-10-01 00:00:00",
         "Sierra Leone",
         "622.0",
         "2304.0"
        ],
        [
         "49",
         "2014-10-03 00:00:00",
         "Guinea",
         "739.0",
         "1199.0"
        ]
       ],
       "shape": {
        "columns": 4,
        "rows": 2379
       }
      },
      "text/html": [
       "<div>\n",
       "<style scoped>\n",
       "    .dataframe tbody tr th:only-of-type {\n",
       "        vertical-align: middle;\n",
       "    }\n",
       "\n",
       "    .dataframe tbody tr th {\n",
       "        vertical-align: top;\n",
       "    }\n",
       "\n",
       "    .dataframe thead th {\n",
       "        text-align: right;\n",
       "    }\n",
       "</style>\n",
       "<table border=\"1\" class=\"dataframe\">\n",
       "  <thead>\n",
       "    <tr style=\"text-align: right;\">\n",
       "      <th></th>\n",
       "      <th>Date</th>\n",
       "      <th>Country</th>\n",
       "      <th>Death Confirmed</th>\n",
       "      <th>Outbreak Case</th>\n",
       "    </tr>\n",
       "  </thead>\n",
       "  <tbody>\n",
       "    <tr>\n",
       "      <th>0</th>\n",
       "      <td>2014-08-29</td>\n",
       "      <td>Guinea</td>\n",
       "      <td>430.0</td>\n",
       "      <td>648.0</td>\n",
       "    </tr>\n",
       "    <tr>\n",
       "      <th>1</th>\n",
       "      <td>2014-08-29</td>\n",
       "      <td>Liberia</td>\n",
       "      <td>694.0</td>\n",
       "      <td>1378.0</td>\n",
       "    </tr>\n",
       "    <tr>\n",
       "      <th>2</th>\n",
       "      <td>2014-08-29</td>\n",
       "      <td>Nigeria</td>\n",
       "      <td>7.0</td>\n",
       "      <td>19.0</td>\n",
       "    </tr>\n",
       "    <tr>\n",
       "      <th>3</th>\n",
       "      <td>2014-08-29</td>\n",
       "      <td>Sierra Leone</td>\n",
       "      <td>422.0</td>\n",
       "      <td>1026.0</td>\n",
       "    </tr>\n",
       "    <tr>\n",
       "      <th>4</th>\n",
       "      <td>2014-09-05</td>\n",
       "      <td>Guinea</td>\n",
       "      <td>517.0</td>\n",
       "      <td>812.0</td>\n",
       "    </tr>\n",
       "    <tr>\n",
       "      <th>...</th>\n",
       "      <td>...</td>\n",
       "      <td>...</td>\n",
       "      <td>...</td>\n",
       "      <td>...</td>\n",
       "    </tr>\n",
       "    <tr>\n",
       "      <th>2374</th>\n",
       "      <td>2016-03-23</td>\n",
       "      <td>Senegal</td>\n",
       "      <td>0.0</td>\n",
       "      <td>1.0</td>\n",
       "    </tr>\n",
       "    <tr>\n",
       "      <th>2375</th>\n",
       "      <td>2016-03-23</td>\n",
       "      <td>Sierra Leone</td>\n",
       "      <td>3955.0</td>\n",
       "      <td>14122.0</td>\n",
       "    </tr>\n",
       "    <tr>\n",
       "      <th>2376</th>\n",
       "      <td>2016-03-23</td>\n",
       "      <td>Spain</td>\n",
       "      <td>0.0</td>\n",
       "      <td>1.0</td>\n",
       "    </tr>\n",
       "    <tr>\n",
       "      <th>2377</th>\n",
       "      <td>2016-03-23</td>\n",
       "      <td>United Kingdom</td>\n",
       "      <td>0.0</td>\n",
       "      <td>1.0</td>\n",
       "    </tr>\n",
       "    <tr>\n",
       "      <th>2378</th>\n",
       "      <td>2016-03-23</td>\n",
       "      <td>United States of America</td>\n",
       "      <td>1.0</td>\n",
       "      <td>4.0</td>\n",
       "    </tr>\n",
       "  </tbody>\n",
       "</table>\n",
       "<p>2379 rows × 4 columns</p>\n",
       "</div>"
      ],
      "text/plain": [
       "           Date                   Country  Death Confirmed  Outbreak Case\n",
       "0    2014-08-29                    Guinea            430.0          648.0\n",
       "1    2014-08-29                   Liberia            694.0         1378.0\n",
       "2    2014-08-29                   Nigeria              7.0           19.0\n",
       "3    2014-08-29              Sierra Leone            422.0         1026.0\n",
       "4    2014-09-05                    Guinea            517.0          812.0\n",
       "...         ...                       ...              ...            ...\n",
       "2374 2016-03-23                   Senegal              0.0            1.0\n",
       "2375 2016-03-23              Sierra Leone           3955.0        14122.0\n",
       "2376 2016-03-23                     Spain              0.0            1.0\n",
       "2377 2016-03-23            United Kingdom              0.0            1.0\n",
       "2378 2016-03-23  United States of America              1.0            4.0\n",
       "\n",
       "[2379 rows x 4 columns]"
      ]
     },
     "execution_count": 11,
     "metadata": {},
     "output_type": "execute_result"
    }
   ],
   "source": [
    "Report"
   ]
  },
  {
   "cell_type": "code",
   "execution_count": 52,
   "id": "c110f4a3",
   "metadata": {},
   "outputs": [],
   "source": [
    "Report.to_csv(\"Ebola report.csv\")"
   ]
  },
  {
   "cell_type": "code",
   "execution_count": 12,
   "id": "a8c71261",
   "metadata": {},
   "outputs": [],
   "source": [
    "Report['Year'] = Report['Date'].dt.year"
   ]
  },
  {
   "cell_type": "code",
   "execution_count": 13,
   "id": "49d82b13",
   "metadata": {},
   "outputs": [
    {
     "data": {
      "application/vnd.microsoft.datawrangler.viewer.v0+json": {
       "columns": [
        {
         "name": "index",
         "rawType": "int64",
         "type": "integer"
        },
        {
         "name": "Date",
         "rawType": "datetime64[ns]",
         "type": "datetime"
        },
        {
         "name": "Country",
         "rawType": "object",
         "type": "string"
        },
        {
         "name": "Death Confirmed",
         "rawType": "float64",
         "type": "float"
        },
        {
         "name": "Outbreak Case",
         "rawType": "float64",
         "type": "float"
        },
        {
         "name": "Year",
         "rawType": "int32",
         "type": "integer"
        }
       ],
       "ref": "c80b73d5-1040-4bbd-a06e-d6d8b6c8384e",
       "rows": [
        [
         "0",
         "2014-08-29 00:00:00",
         "Guinea",
         "430.0",
         "648.0",
         "2014"
        ],
        [
         "1",
         "2014-08-29 00:00:00",
         "Liberia",
         "694.0",
         "1378.0",
         "2014"
        ],
        [
         "2",
         "2014-08-29 00:00:00",
         "Nigeria",
         "7.0",
         "19.0",
         "2014"
        ],
        [
         "3",
         "2014-08-29 00:00:00",
         "Sierra Leone",
         "422.0",
         "1026.0",
         "2014"
        ],
        [
         "4",
         "2014-09-05 00:00:00",
         "Guinea",
         "517.0",
         "812.0",
         "2014"
        ],
        [
         "5",
         "2014-09-05 00:00:00",
         "Liberia",
         "1089.0",
         "1871.0",
         "2014"
        ],
        [
         "6",
         "2014-09-05 00:00:00",
         "Nigeria",
         "8.0",
         "22.0",
         "2014"
        ],
        [
         "7",
         "2014-09-05 00:00:00",
         "Senegal",
         "0.0",
         "1.0",
         "2014"
        ],
        [
         "8",
         "2014-09-05 00:00:00",
         "Sierra Leone",
         "491.0",
         "1261.0",
         "2014"
        ],
        [
         "9",
         "2014-09-08 00:00:00",
         "Guinea",
         "555.0",
         "862.0",
         "2014"
        ],
        [
         "10",
         "2014-09-08 00:00:00",
         "Liberia",
         "1224.0",
         "2046.0",
         "2014"
        ],
        [
         "11",
         "2014-09-08 00:00:00",
         "Nigeria",
         "8.0",
         "21.0",
         "2014"
        ],
        [
         "12",
         "2014-09-08 00:00:00",
         "Senegal",
         "0.0",
         "3.0",
         "2014"
        ],
        [
         "13",
         "2014-09-08 00:00:00",
         "Sierra Leone",
         "509.0",
         "1361.0",
         "2014"
        ],
        [
         "14",
         "2014-09-12 00:00:00",
         "Guinea",
         "557.0",
         "861.0",
         "2014"
        ],
        [
         "15",
         "2014-09-12 00:00:00",
         "Liberia",
         "1137.0",
         "2081.0",
         "2014"
        ],
        [
         "16",
         "2014-09-12 00:00:00",
         "Nigeria",
         "8.0",
         "21.0",
         "2014"
        ],
        [
         "17",
         "2014-09-12 00:00:00",
         "Senegal",
         "0.0",
         "3.0",
         "2014"
        ],
        [
         "18",
         "2014-09-12 00:00:00",
         "Sierra Leone",
         "524.0",
         "1424.0",
         "2014"
        ],
        [
         "19",
         "2014-09-16 00:00:00",
         "Guinea",
         "595.0",
         "936.0",
         "2014"
        ],
        [
         "20",
         "2014-09-16 00:00:00",
         "Liberia",
         "1296.0",
         "2407.0",
         "2014"
        ],
        [
         "21",
         "2014-09-16 00:00:00",
         "Nigeria",
         "8.0",
         "21.0",
         "2014"
        ],
        [
         "22",
         "2014-09-16 00:00:00",
         "Senegal",
         "0.0",
         "1.0",
         "2014"
        ],
        [
         "23",
         "2014-09-16 00:00:00",
         "Sierra Leone",
         "562.0",
         "1620.0",
         "2014"
        ],
        [
         "24",
         "2014-09-18 00:00:00",
         "Guinea",
         "601.0",
         "942.0",
         "2014"
        ],
        [
         "25",
         "2014-09-18 00:00:00",
         "Liberia",
         "1459.0",
         "2710.0",
         "2014"
        ],
        [
         "26",
         "2014-09-18 00:00:00",
         "Nigeria",
         "8.0",
         "21.0",
         "2014"
        ],
        [
         "27",
         "2014-09-18 00:00:00",
         "Senegal",
         "0.0",
         "1.0",
         "2014"
        ],
        [
         "28",
         "2014-09-18 00:00:00",
         "Sierra Leone",
         "562.0",
         "1673.0",
         "2014"
        ],
        [
         "29",
         "2014-09-22 00:00:00",
         "Guinea",
         "632.0",
         "1008.0",
         "2014"
        ],
        [
         "30",
         "2014-09-22 00:00:00",
         "Liberia",
         "1578.0",
         "3022.0",
         "2014"
        ],
        [
         "31",
         "2014-09-22 00:00:00",
         "Nigeria",
         "8.0",
         "20.0",
         "2014"
        ],
        [
         "32",
         "2014-09-22 00:00:00",
         "Senegal",
         "0.0",
         "1.0",
         "2014"
        ],
        [
         "33",
         "2014-09-22 00:00:00",
         "Sierra Leone",
         "593.0",
         "1813.0",
         "2014"
        ],
        [
         "34",
         "2014-09-24 00:00:00",
         "Guinea",
         "635.0",
         "1022.0",
         "2014"
        ],
        [
         "35",
         "2014-09-24 00:00:00",
         "Liberia",
         "1677.0",
         "3280.0",
         "2014"
        ],
        [
         "36",
         "2014-09-24 00:00:00",
         "Nigeria",
         "8.0",
         "20.0",
         "2014"
        ],
        [
         "37",
         "2014-09-24 00:00:00",
         "Senegal",
         "0.0",
         "1.0",
         "2014"
        ],
        [
         "38",
         "2014-09-24 00:00:00",
         "Sierra Leone",
         "597.0",
         "1940.0",
         "2014"
        ],
        [
         "39",
         "2014-09-26 00:00:00",
         "Guinea",
         "648.0",
         "1074.0",
         "2014"
        ],
        [
         "40",
         "2014-09-26 00:00:00",
         "Liberia",
         "1830.0",
         "3458.0",
         "2014"
        ],
        [
         "41",
         "2014-09-26 00:00:00",
         "Nigeria",
         "8.0",
         "20.0",
         "2014"
        ],
        [
         "42",
         "2014-09-26 00:00:00",
         "Senegal",
         "0.0",
         "1.0",
         "2014"
        ],
        [
         "43",
         "2014-09-26 00:00:00",
         "Sierra Leone",
         "605.0",
         "2021.0",
         "2014"
        ],
        [
         "44",
         "2014-10-01 00:00:00",
         "Guinea",
         "710.0",
         "1157.0",
         "2014"
        ],
        [
         "45",
         "2014-10-01 00:00:00",
         "Liberia",
         "1998.0",
         "3696.0",
         "2014"
        ],
        [
         "46",
         "2014-10-01 00:00:00",
         "Nigeria",
         "8.0",
         "20.0",
         "2014"
        ],
        [
         "47",
         "2014-10-01 00:00:00",
         "Senegal",
         "0.0",
         "1.0",
         "2014"
        ],
        [
         "48",
         "2014-10-01 00:00:00",
         "Sierra Leone",
         "622.0",
         "2304.0",
         "2014"
        ],
        [
         "49",
         "2014-10-03 00:00:00",
         "Guinea",
         "739.0",
         "1199.0",
         "2014"
        ]
       ],
       "shape": {
        "columns": 5,
        "rows": 2379
       }
      },
      "text/html": [
       "<div>\n",
       "<style scoped>\n",
       "    .dataframe tbody tr th:only-of-type {\n",
       "        vertical-align: middle;\n",
       "    }\n",
       "\n",
       "    .dataframe tbody tr th {\n",
       "        vertical-align: top;\n",
       "    }\n",
       "\n",
       "    .dataframe thead th {\n",
       "        text-align: right;\n",
       "    }\n",
       "</style>\n",
       "<table border=\"1\" class=\"dataframe\">\n",
       "  <thead>\n",
       "    <tr style=\"text-align: right;\">\n",
       "      <th></th>\n",
       "      <th>Date</th>\n",
       "      <th>Country</th>\n",
       "      <th>Death Confirmed</th>\n",
       "      <th>Outbreak Case</th>\n",
       "      <th>Year</th>\n",
       "    </tr>\n",
       "  </thead>\n",
       "  <tbody>\n",
       "    <tr>\n",
       "      <th>0</th>\n",
       "      <td>2014-08-29</td>\n",
       "      <td>Guinea</td>\n",
       "      <td>430.0</td>\n",
       "      <td>648.0</td>\n",
       "      <td>2014</td>\n",
       "    </tr>\n",
       "    <tr>\n",
       "      <th>1</th>\n",
       "      <td>2014-08-29</td>\n",
       "      <td>Liberia</td>\n",
       "      <td>694.0</td>\n",
       "      <td>1378.0</td>\n",
       "      <td>2014</td>\n",
       "    </tr>\n",
       "    <tr>\n",
       "      <th>2</th>\n",
       "      <td>2014-08-29</td>\n",
       "      <td>Nigeria</td>\n",
       "      <td>7.0</td>\n",
       "      <td>19.0</td>\n",
       "      <td>2014</td>\n",
       "    </tr>\n",
       "    <tr>\n",
       "      <th>3</th>\n",
       "      <td>2014-08-29</td>\n",
       "      <td>Sierra Leone</td>\n",
       "      <td>422.0</td>\n",
       "      <td>1026.0</td>\n",
       "      <td>2014</td>\n",
       "    </tr>\n",
       "    <tr>\n",
       "      <th>4</th>\n",
       "      <td>2014-09-05</td>\n",
       "      <td>Guinea</td>\n",
       "      <td>517.0</td>\n",
       "      <td>812.0</td>\n",
       "      <td>2014</td>\n",
       "    </tr>\n",
       "    <tr>\n",
       "      <th>...</th>\n",
       "      <td>...</td>\n",
       "      <td>...</td>\n",
       "      <td>...</td>\n",
       "      <td>...</td>\n",
       "      <td>...</td>\n",
       "    </tr>\n",
       "    <tr>\n",
       "      <th>2374</th>\n",
       "      <td>2016-03-23</td>\n",
       "      <td>Senegal</td>\n",
       "      <td>0.0</td>\n",
       "      <td>1.0</td>\n",
       "      <td>2016</td>\n",
       "    </tr>\n",
       "    <tr>\n",
       "      <th>2375</th>\n",
       "      <td>2016-03-23</td>\n",
       "      <td>Sierra Leone</td>\n",
       "      <td>3955.0</td>\n",
       "      <td>14122.0</td>\n",
       "      <td>2016</td>\n",
       "    </tr>\n",
       "    <tr>\n",
       "      <th>2376</th>\n",
       "      <td>2016-03-23</td>\n",
       "      <td>Spain</td>\n",
       "      <td>0.0</td>\n",
       "      <td>1.0</td>\n",
       "      <td>2016</td>\n",
       "    </tr>\n",
       "    <tr>\n",
       "      <th>2377</th>\n",
       "      <td>2016-03-23</td>\n",
       "      <td>United Kingdom</td>\n",
       "      <td>0.0</td>\n",
       "      <td>1.0</td>\n",
       "      <td>2016</td>\n",
       "    </tr>\n",
       "    <tr>\n",
       "      <th>2378</th>\n",
       "      <td>2016-03-23</td>\n",
       "      <td>United States of America</td>\n",
       "      <td>1.0</td>\n",
       "      <td>4.0</td>\n",
       "      <td>2016</td>\n",
       "    </tr>\n",
       "  </tbody>\n",
       "</table>\n",
       "<p>2379 rows × 5 columns</p>\n",
       "</div>"
      ],
      "text/plain": [
       "           Date                   Country  Death Confirmed  Outbreak Case  \\\n",
       "0    2014-08-29                    Guinea            430.0          648.0   \n",
       "1    2014-08-29                   Liberia            694.0         1378.0   \n",
       "2    2014-08-29                   Nigeria              7.0           19.0   \n",
       "3    2014-08-29              Sierra Leone            422.0         1026.0   \n",
       "4    2014-09-05                    Guinea            517.0          812.0   \n",
       "...         ...                       ...              ...            ...   \n",
       "2374 2016-03-23                   Senegal              0.0            1.0   \n",
       "2375 2016-03-23              Sierra Leone           3955.0        14122.0   \n",
       "2376 2016-03-23                     Spain              0.0            1.0   \n",
       "2377 2016-03-23            United Kingdom              0.0            1.0   \n",
       "2378 2016-03-23  United States of America              1.0            4.0   \n",
       "\n",
       "      Year  \n",
       "0     2014  \n",
       "1     2014  \n",
       "2     2014  \n",
       "3     2014  \n",
       "4     2014  \n",
       "...    ...  \n",
       "2374  2016  \n",
       "2375  2016  \n",
       "2376  2016  \n",
       "2377  2016  \n",
       "2378  2016  \n",
       "\n",
       "[2379 rows x 5 columns]"
      ]
     },
     "execution_count": 13,
     "metadata": {},
     "output_type": "execute_result"
    }
   ],
   "source": [
    "Report"
   ]
  },
  {
   "cell_type": "code",
   "execution_count": 14,
   "id": "dd577209",
   "metadata": {},
   "outputs": [],
   "source": [
    "Year_Report = Report.groupby([\"Year\", \"Country\"])[[\"Death Confirmed\", \"Outbreak Case\"]].sum()"
   ]
  },
  {
   "cell_type": "code",
   "execution_count": 15,
   "id": "8d848845",
   "metadata": {},
   "outputs": [],
   "source": [
    "Year_Report.reset_index(inplace=True)"
   ]
  },
  {
   "cell_type": "code",
   "execution_count": 16,
   "id": "b5b4b200",
   "metadata": {},
   "outputs": [
    {
     "data": {
      "application/vnd.microsoft.datawrangler.viewer.v0+json": {
       "columns": [
        {
         "name": "index",
         "rawType": "int64",
         "type": "integer"
        },
        {
         "name": "Year",
         "rawType": "int32",
         "type": "integer"
        },
        {
         "name": "Country",
         "rawType": "object",
         "type": "string"
        },
        {
         "name": "Death Confirmed",
         "rawType": "float64",
         "type": "float"
        },
        {
         "name": "Outbreak Case",
         "rawType": "float64",
         "type": "float"
        }
       ],
       "ref": "8183b047-de36-4408-a199-11acc3a79c40",
       "rows": [
        [
         "0",
         "2014",
         "Guinea",
         "40462.0",
         "66190.0"
        ],
        [
         "1",
         "2014",
         "Liberia",
         "95625.0",
         "210796.0"
        ],
        [
         "2",
         "2014",
         "Mali",
         "101.0",
         "129.0"
        ],
        [
         "3",
         "2014",
         "Nigeria",
         "303.0",
         "765.0"
        ],
        [
         "4",
         "2014",
         "Senegal",
         "0.0",
         "41.0"
        ],
        [
         "5",
         "2014",
         "Sierra Leone",
         "51945.0",
         "192291.0"
        ],
        [
         "6",
         "2014",
         "Spain",
         "0.0",
         "26.0"
        ],
        [
         "7",
         "2014",
         "United States of America",
         "25.0",
         "99.0"
        ],
        [
         "8",
         "2015",
         "Guinea",
         "520071.0",
         "784124.0"
        ],
        [
         "9",
         "2015",
         "Italy",
         "0.0",
         "140.0"
        ],
        [
         "10",
         "2015",
         "Liberia",
         "999395.0",
         "2237646.0"
        ],
        [
         "11",
         "2015",
         "Mali",
         "1320.0",
         "1728.0"
        ],
        [
         "12",
         "2015",
         "Nigeria",
         "1728.0",
         "4320.0"
        ],
        [
         "13",
         "2015",
         "Senegal",
         "0.0",
         "216.0"
        ],
        [
         "14",
         "2015",
         "Sierra Leone",
         "832934.0",
         "2797015.0"
        ],
        [
         "15",
         "2015",
         "Spain",
         "0.0",
         "216.0"
        ],
        [
         "16",
         "2015",
         "United Kingdom",
         "0.0",
         "214.0"
        ],
        [
         "17",
         "2015",
         "United States of America",
         "216.0",
         "864.0"
        ],
        [
         "18",
         "2016",
         "Guinea",
         "2536.0",
         "3804.0"
        ],
        [
         "19",
         "2016",
         "Italy",
         "0.0",
         "1.0"
        ],
        [
         "20",
         "2016",
         "Liberia",
         "4813.0",
         "10680.0"
        ],
        [
         "21",
         "2016",
         "Mali",
         "6.0",
         "8.0"
        ],
        [
         "22",
         "2016",
         "Nigeria",
         "8.0",
         "20.0"
        ],
        [
         "23",
         "2016",
         "Senegal",
         "0.0",
         "1.0"
        ],
        [
         "24",
         "2016",
         "Sierra Leone",
         "3955.0",
         "14122.0"
        ],
        [
         "25",
         "2016",
         "Spain",
         "0.0",
         "1.0"
        ],
        [
         "26",
         "2016",
         "United Kingdom",
         "0.0",
         "1.0"
        ],
        [
         "27",
         "2016",
         "United States of America",
         "1.0",
         "4.0"
        ]
       ],
       "shape": {
        "columns": 4,
        "rows": 28
       }
      },
      "text/html": [
       "<div>\n",
       "<style scoped>\n",
       "    .dataframe tbody tr th:only-of-type {\n",
       "        vertical-align: middle;\n",
       "    }\n",
       "\n",
       "    .dataframe tbody tr th {\n",
       "        vertical-align: top;\n",
       "    }\n",
       "\n",
       "    .dataframe thead th {\n",
       "        text-align: right;\n",
       "    }\n",
       "</style>\n",
       "<table border=\"1\" class=\"dataframe\">\n",
       "  <thead>\n",
       "    <tr style=\"text-align: right;\">\n",
       "      <th></th>\n",
       "      <th>Year</th>\n",
       "      <th>Country</th>\n",
       "      <th>Death Confirmed</th>\n",
       "      <th>Outbreak Case</th>\n",
       "    </tr>\n",
       "  </thead>\n",
       "  <tbody>\n",
       "    <tr>\n",
       "      <th>0</th>\n",
       "      <td>2014</td>\n",
       "      <td>Guinea</td>\n",
       "      <td>40462.0</td>\n",
       "      <td>66190.0</td>\n",
       "    </tr>\n",
       "    <tr>\n",
       "      <th>1</th>\n",
       "      <td>2014</td>\n",
       "      <td>Liberia</td>\n",
       "      <td>95625.0</td>\n",
       "      <td>210796.0</td>\n",
       "    </tr>\n",
       "    <tr>\n",
       "      <th>2</th>\n",
       "      <td>2014</td>\n",
       "      <td>Mali</td>\n",
       "      <td>101.0</td>\n",
       "      <td>129.0</td>\n",
       "    </tr>\n",
       "    <tr>\n",
       "      <th>3</th>\n",
       "      <td>2014</td>\n",
       "      <td>Nigeria</td>\n",
       "      <td>303.0</td>\n",
       "      <td>765.0</td>\n",
       "    </tr>\n",
       "    <tr>\n",
       "      <th>4</th>\n",
       "      <td>2014</td>\n",
       "      <td>Senegal</td>\n",
       "      <td>0.0</td>\n",
       "      <td>41.0</td>\n",
       "    </tr>\n",
       "    <tr>\n",
       "      <th>5</th>\n",
       "      <td>2014</td>\n",
       "      <td>Sierra Leone</td>\n",
       "      <td>51945.0</td>\n",
       "      <td>192291.0</td>\n",
       "    </tr>\n",
       "    <tr>\n",
       "      <th>6</th>\n",
       "      <td>2014</td>\n",
       "      <td>Spain</td>\n",
       "      <td>0.0</td>\n",
       "      <td>26.0</td>\n",
       "    </tr>\n",
       "    <tr>\n",
       "      <th>7</th>\n",
       "      <td>2014</td>\n",
       "      <td>United States of America</td>\n",
       "      <td>25.0</td>\n",
       "      <td>99.0</td>\n",
       "    </tr>\n",
       "    <tr>\n",
       "      <th>8</th>\n",
       "      <td>2015</td>\n",
       "      <td>Guinea</td>\n",
       "      <td>520071.0</td>\n",
       "      <td>784124.0</td>\n",
       "    </tr>\n",
       "    <tr>\n",
       "      <th>9</th>\n",
       "      <td>2015</td>\n",
       "      <td>Italy</td>\n",
       "      <td>0.0</td>\n",
       "      <td>140.0</td>\n",
       "    </tr>\n",
       "    <tr>\n",
       "      <th>10</th>\n",
       "      <td>2015</td>\n",
       "      <td>Liberia</td>\n",
       "      <td>999395.0</td>\n",
       "      <td>2237646.0</td>\n",
       "    </tr>\n",
       "    <tr>\n",
       "      <th>11</th>\n",
       "      <td>2015</td>\n",
       "      <td>Mali</td>\n",
       "      <td>1320.0</td>\n",
       "      <td>1728.0</td>\n",
       "    </tr>\n",
       "    <tr>\n",
       "      <th>12</th>\n",
       "      <td>2015</td>\n",
       "      <td>Nigeria</td>\n",
       "      <td>1728.0</td>\n",
       "      <td>4320.0</td>\n",
       "    </tr>\n",
       "    <tr>\n",
       "      <th>13</th>\n",
       "      <td>2015</td>\n",
       "      <td>Senegal</td>\n",
       "      <td>0.0</td>\n",
       "      <td>216.0</td>\n",
       "    </tr>\n",
       "    <tr>\n",
       "      <th>14</th>\n",
       "      <td>2015</td>\n",
       "      <td>Sierra Leone</td>\n",
       "      <td>832934.0</td>\n",
       "      <td>2797015.0</td>\n",
       "    </tr>\n",
       "    <tr>\n",
       "      <th>15</th>\n",
       "      <td>2015</td>\n",
       "      <td>Spain</td>\n",
       "      <td>0.0</td>\n",
       "      <td>216.0</td>\n",
       "    </tr>\n",
       "    <tr>\n",
       "      <th>16</th>\n",
       "      <td>2015</td>\n",
       "      <td>United Kingdom</td>\n",
       "      <td>0.0</td>\n",
       "      <td>214.0</td>\n",
       "    </tr>\n",
       "    <tr>\n",
       "      <th>17</th>\n",
       "      <td>2015</td>\n",
       "      <td>United States of America</td>\n",
       "      <td>216.0</td>\n",
       "      <td>864.0</td>\n",
       "    </tr>\n",
       "    <tr>\n",
       "      <th>18</th>\n",
       "      <td>2016</td>\n",
       "      <td>Guinea</td>\n",
       "      <td>2536.0</td>\n",
       "      <td>3804.0</td>\n",
       "    </tr>\n",
       "    <tr>\n",
       "      <th>19</th>\n",
       "      <td>2016</td>\n",
       "      <td>Italy</td>\n",
       "      <td>0.0</td>\n",
       "      <td>1.0</td>\n",
       "    </tr>\n",
       "    <tr>\n",
       "      <th>20</th>\n",
       "      <td>2016</td>\n",
       "      <td>Liberia</td>\n",
       "      <td>4813.0</td>\n",
       "      <td>10680.0</td>\n",
       "    </tr>\n",
       "    <tr>\n",
       "      <th>21</th>\n",
       "      <td>2016</td>\n",
       "      <td>Mali</td>\n",
       "      <td>6.0</td>\n",
       "      <td>8.0</td>\n",
       "    </tr>\n",
       "    <tr>\n",
       "      <th>22</th>\n",
       "      <td>2016</td>\n",
       "      <td>Nigeria</td>\n",
       "      <td>8.0</td>\n",
       "      <td>20.0</td>\n",
       "    </tr>\n",
       "    <tr>\n",
       "      <th>23</th>\n",
       "      <td>2016</td>\n",
       "      <td>Senegal</td>\n",
       "      <td>0.0</td>\n",
       "      <td>1.0</td>\n",
       "    </tr>\n",
       "    <tr>\n",
       "      <th>24</th>\n",
       "      <td>2016</td>\n",
       "      <td>Sierra Leone</td>\n",
       "      <td>3955.0</td>\n",
       "      <td>14122.0</td>\n",
       "    </tr>\n",
       "    <tr>\n",
       "      <th>25</th>\n",
       "      <td>2016</td>\n",
       "      <td>Spain</td>\n",
       "      <td>0.0</td>\n",
       "      <td>1.0</td>\n",
       "    </tr>\n",
       "    <tr>\n",
       "      <th>26</th>\n",
       "      <td>2016</td>\n",
       "      <td>United Kingdom</td>\n",
       "      <td>0.0</td>\n",
       "      <td>1.0</td>\n",
       "    </tr>\n",
       "    <tr>\n",
       "      <th>27</th>\n",
       "      <td>2016</td>\n",
       "      <td>United States of America</td>\n",
       "      <td>1.0</td>\n",
       "      <td>4.0</td>\n",
       "    </tr>\n",
       "  </tbody>\n",
       "</table>\n",
       "</div>"
      ],
      "text/plain": [
       "    Year                   Country  Death Confirmed  Outbreak Case\n",
       "0   2014                    Guinea          40462.0        66190.0\n",
       "1   2014                   Liberia          95625.0       210796.0\n",
       "2   2014                      Mali            101.0          129.0\n",
       "3   2014                   Nigeria            303.0          765.0\n",
       "4   2014                   Senegal              0.0           41.0\n",
       "5   2014              Sierra Leone          51945.0       192291.0\n",
       "6   2014                     Spain              0.0           26.0\n",
       "7   2014  United States of America             25.0           99.0\n",
       "8   2015                    Guinea         520071.0       784124.0\n",
       "9   2015                     Italy              0.0          140.0\n",
       "10  2015                   Liberia         999395.0      2237646.0\n",
       "11  2015                      Mali           1320.0         1728.0\n",
       "12  2015                   Nigeria           1728.0         4320.0\n",
       "13  2015                   Senegal              0.0          216.0\n",
       "14  2015              Sierra Leone         832934.0      2797015.0\n",
       "15  2015                     Spain              0.0          216.0\n",
       "16  2015            United Kingdom              0.0          214.0\n",
       "17  2015  United States of America            216.0          864.0\n",
       "18  2016                    Guinea           2536.0         3804.0\n",
       "19  2016                     Italy              0.0            1.0\n",
       "20  2016                   Liberia           4813.0        10680.0\n",
       "21  2016                      Mali              6.0            8.0\n",
       "22  2016                   Nigeria              8.0           20.0\n",
       "23  2016                   Senegal              0.0            1.0\n",
       "24  2016              Sierra Leone           3955.0        14122.0\n",
       "25  2016                     Spain              0.0            1.0\n",
       "26  2016            United Kingdom              0.0            1.0\n",
       "27  2016  United States of America              1.0            4.0"
      ]
     },
     "execution_count": 16,
     "metadata": {},
     "output_type": "execute_result"
    }
   ],
   "source": [
    "Year_Report"
   ]
  },
  {
   "cell_type": "code",
   "execution_count": 53,
   "id": "19b65d21",
   "metadata": {},
   "outputs": [],
   "source": [
    "Year_Report.to_csv(\"Year Report.csv\")"
   ]
  },
  {
   "cell_type": "code",
   "execution_count": 17,
   "id": "6916158b",
   "metadata": {},
   "outputs": [],
   "source": [
    "report2015 = Year_Report.loc[Year_Report[\"Year\"]== 2015]"
   ]
  },
  {
   "cell_type": "code",
   "execution_count": 18,
   "id": "5c177bea",
   "metadata": {},
   "outputs": [
    {
     "data": {
      "application/vnd.microsoft.datawrangler.viewer.v0+json": {
       "columns": [
        {
         "name": "index",
         "rawType": "int64",
         "type": "integer"
        },
        {
         "name": "Year",
         "rawType": "int32",
         "type": "integer"
        },
        {
         "name": "Country",
         "rawType": "object",
         "type": "string"
        },
        {
         "name": "Death Confirmed",
         "rawType": "float64",
         "type": "float"
        },
        {
         "name": "Outbreak Case",
         "rawType": "float64",
         "type": "float"
        }
       ],
       "ref": "0d109576-1097-40e5-a9f5-60bf62acca58",
       "rows": [
        [
         "8",
         "2015",
         "Guinea",
         "520071.0",
         "784124.0"
        ],
        [
         "9",
         "2015",
         "Italy",
         "0.0",
         "140.0"
        ],
        [
         "10",
         "2015",
         "Liberia",
         "999395.0",
         "2237646.0"
        ],
        [
         "11",
         "2015",
         "Mali",
         "1320.0",
         "1728.0"
        ],
        [
         "12",
         "2015",
         "Nigeria",
         "1728.0",
         "4320.0"
        ],
        [
         "13",
         "2015",
         "Senegal",
         "0.0",
         "216.0"
        ],
        [
         "14",
         "2015",
         "Sierra Leone",
         "832934.0",
         "2797015.0"
        ],
        [
         "15",
         "2015",
         "Spain",
         "0.0",
         "216.0"
        ],
        [
         "16",
         "2015",
         "United Kingdom",
         "0.0",
         "214.0"
        ],
        [
         "17",
         "2015",
         "United States of America",
         "216.0",
         "864.0"
        ]
       ],
       "shape": {
        "columns": 4,
        "rows": 10
       }
      },
      "text/html": [
       "<div>\n",
       "<style scoped>\n",
       "    .dataframe tbody tr th:only-of-type {\n",
       "        vertical-align: middle;\n",
       "    }\n",
       "\n",
       "    .dataframe tbody tr th {\n",
       "        vertical-align: top;\n",
       "    }\n",
       "\n",
       "    .dataframe thead th {\n",
       "        text-align: right;\n",
       "    }\n",
       "</style>\n",
       "<table border=\"1\" class=\"dataframe\">\n",
       "  <thead>\n",
       "    <tr style=\"text-align: right;\">\n",
       "      <th></th>\n",
       "      <th>Year</th>\n",
       "      <th>Country</th>\n",
       "      <th>Death Confirmed</th>\n",
       "      <th>Outbreak Case</th>\n",
       "    </tr>\n",
       "  </thead>\n",
       "  <tbody>\n",
       "    <tr>\n",
       "      <th>8</th>\n",
       "      <td>2015</td>\n",
       "      <td>Guinea</td>\n",
       "      <td>520071.0</td>\n",
       "      <td>784124.0</td>\n",
       "    </tr>\n",
       "    <tr>\n",
       "      <th>9</th>\n",
       "      <td>2015</td>\n",
       "      <td>Italy</td>\n",
       "      <td>0.0</td>\n",
       "      <td>140.0</td>\n",
       "    </tr>\n",
       "    <tr>\n",
       "      <th>10</th>\n",
       "      <td>2015</td>\n",
       "      <td>Liberia</td>\n",
       "      <td>999395.0</td>\n",
       "      <td>2237646.0</td>\n",
       "    </tr>\n",
       "    <tr>\n",
       "      <th>11</th>\n",
       "      <td>2015</td>\n",
       "      <td>Mali</td>\n",
       "      <td>1320.0</td>\n",
       "      <td>1728.0</td>\n",
       "    </tr>\n",
       "    <tr>\n",
       "      <th>12</th>\n",
       "      <td>2015</td>\n",
       "      <td>Nigeria</td>\n",
       "      <td>1728.0</td>\n",
       "      <td>4320.0</td>\n",
       "    </tr>\n",
       "    <tr>\n",
       "      <th>13</th>\n",
       "      <td>2015</td>\n",
       "      <td>Senegal</td>\n",
       "      <td>0.0</td>\n",
       "      <td>216.0</td>\n",
       "    </tr>\n",
       "    <tr>\n",
       "      <th>14</th>\n",
       "      <td>2015</td>\n",
       "      <td>Sierra Leone</td>\n",
       "      <td>832934.0</td>\n",
       "      <td>2797015.0</td>\n",
       "    </tr>\n",
       "    <tr>\n",
       "      <th>15</th>\n",
       "      <td>2015</td>\n",
       "      <td>Spain</td>\n",
       "      <td>0.0</td>\n",
       "      <td>216.0</td>\n",
       "    </tr>\n",
       "    <tr>\n",
       "      <th>16</th>\n",
       "      <td>2015</td>\n",
       "      <td>United Kingdom</td>\n",
       "      <td>0.0</td>\n",
       "      <td>214.0</td>\n",
       "    </tr>\n",
       "    <tr>\n",
       "      <th>17</th>\n",
       "      <td>2015</td>\n",
       "      <td>United States of America</td>\n",
       "      <td>216.0</td>\n",
       "      <td>864.0</td>\n",
       "    </tr>\n",
       "  </tbody>\n",
       "</table>\n",
       "</div>"
      ],
      "text/plain": [
       "    Year                   Country  Death Confirmed  Outbreak Case\n",
       "8   2015                    Guinea         520071.0       784124.0\n",
       "9   2015                     Italy              0.0          140.0\n",
       "10  2015                   Liberia         999395.0      2237646.0\n",
       "11  2015                      Mali           1320.0         1728.0\n",
       "12  2015                   Nigeria           1728.0         4320.0\n",
       "13  2015                   Senegal              0.0          216.0\n",
       "14  2015              Sierra Leone         832934.0      2797015.0\n",
       "15  2015                     Spain              0.0          216.0\n",
       "16  2015            United Kingdom              0.0          214.0\n",
       "17  2015  United States of America            216.0          864.0"
      ]
     },
     "execution_count": 18,
     "metadata": {},
     "output_type": "execute_result"
    }
   ],
   "source": [
    "report2015"
   ]
  },
  {
   "cell_type": "code",
   "execution_count": 19,
   "id": "5a28f26d",
   "metadata": {},
   "outputs": [],
   "source": [
    "Report1 =Year_Report.loc[Year_Report[\"Death Confirmed\"] > 50]"
   ]
  },
  {
   "cell_type": "markdown",
   "id": "02a98f16",
   "metadata": {},
   "source": [
    "# Ebola Outbreak: Confirmed Deaths by Country"
   ]
  },
  {
   "cell_type": "code",
   "execution_count": 20,
   "id": "bdc1e936",
   "metadata": {},
   "outputs": [
    {
     "data": {
      "application/vnd.microsoft.datawrangler.viewer.v0+json": {
       "columns": [
        {
         "name": "index",
         "rawType": "int64",
         "type": "integer"
        },
        {
         "name": "Year",
         "rawType": "int32",
         "type": "integer"
        },
        {
         "name": "Country",
         "rawType": "object",
         "type": "string"
        },
        {
         "name": "Death Confirmed",
         "rawType": "float64",
         "type": "float"
        },
        {
         "name": "Outbreak Case",
         "rawType": "float64",
         "type": "float"
        }
       ],
       "ref": "6198e7a1-2eb9-4872-bf9f-7e7b26d91f97",
       "rows": [
        [
         "0",
         "2014",
         "Guinea",
         "40462.0",
         "66190.0"
        ],
        [
         "1",
         "2014",
         "Liberia",
         "95625.0",
         "210796.0"
        ],
        [
         "2",
         "2014",
         "Mali",
         "101.0",
         "129.0"
        ],
        [
         "3",
         "2014",
         "Nigeria",
         "303.0",
         "765.0"
        ],
        [
         "5",
         "2014",
         "Sierra Leone",
         "51945.0",
         "192291.0"
        ],
        [
         "8",
         "2015",
         "Guinea",
         "520071.0",
         "784124.0"
        ],
        [
         "10",
         "2015",
         "Liberia",
         "999395.0",
         "2237646.0"
        ],
        [
         "11",
         "2015",
         "Mali",
         "1320.0",
         "1728.0"
        ],
        [
         "12",
         "2015",
         "Nigeria",
         "1728.0",
         "4320.0"
        ],
        [
         "14",
         "2015",
         "Sierra Leone",
         "832934.0",
         "2797015.0"
        ],
        [
         "17",
         "2015",
         "United States of America",
         "216.0",
         "864.0"
        ],
        [
         "18",
         "2016",
         "Guinea",
         "2536.0",
         "3804.0"
        ],
        [
         "20",
         "2016",
         "Liberia",
         "4813.0",
         "10680.0"
        ],
        [
         "24",
         "2016",
         "Sierra Leone",
         "3955.0",
         "14122.0"
        ]
       ],
       "shape": {
        "columns": 4,
        "rows": 14
       }
      },
      "text/html": [
       "<div>\n",
       "<style scoped>\n",
       "    .dataframe tbody tr th:only-of-type {\n",
       "        vertical-align: middle;\n",
       "    }\n",
       "\n",
       "    .dataframe tbody tr th {\n",
       "        vertical-align: top;\n",
       "    }\n",
       "\n",
       "    .dataframe thead th {\n",
       "        text-align: right;\n",
       "    }\n",
       "</style>\n",
       "<table border=\"1\" class=\"dataframe\">\n",
       "  <thead>\n",
       "    <tr style=\"text-align: right;\">\n",
       "      <th></th>\n",
       "      <th>Year</th>\n",
       "      <th>Country</th>\n",
       "      <th>Death Confirmed</th>\n",
       "      <th>Outbreak Case</th>\n",
       "    </tr>\n",
       "  </thead>\n",
       "  <tbody>\n",
       "    <tr>\n",
       "      <th>0</th>\n",
       "      <td>2014</td>\n",
       "      <td>Guinea</td>\n",
       "      <td>40462.0</td>\n",
       "      <td>66190.0</td>\n",
       "    </tr>\n",
       "    <tr>\n",
       "      <th>1</th>\n",
       "      <td>2014</td>\n",
       "      <td>Liberia</td>\n",
       "      <td>95625.0</td>\n",
       "      <td>210796.0</td>\n",
       "    </tr>\n",
       "    <tr>\n",
       "      <th>2</th>\n",
       "      <td>2014</td>\n",
       "      <td>Mali</td>\n",
       "      <td>101.0</td>\n",
       "      <td>129.0</td>\n",
       "    </tr>\n",
       "    <tr>\n",
       "      <th>3</th>\n",
       "      <td>2014</td>\n",
       "      <td>Nigeria</td>\n",
       "      <td>303.0</td>\n",
       "      <td>765.0</td>\n",
       "    </tr>\n",
       "    <tr>\n",
       "      <th>5</th>\n",
       "      <td>2014</td>\n",
       "      <td>Sierra Leone</td>\n",
       "      <td>51945.0</td>\n",
       "      <td>192291.0</td>\n",
       "    </tr>\n",
       "    <tr>\n",
       "      <th>8</th>\n",
       "      <td>2015</td>\n",
       "      <td>Guinea</td>\n",
       "      <td>520071.0</td>\n",
       "      <td>784124.0</td>\n",
       "    </tr>\n",
       "    <tr>\n",
       "      <th>10</th>\n",
       "      <td>2015</td>\n",
       "      <td>Liberia</td>\n",
       "      <td>999395.0</td>\n",
       "      <td>2237646.0</td>\n",
       "    </tr>\n",
       "    <tr>\n",
       "      <th>11</th>\n",
       "      <td>2015</td>\n",
       "      <td>Mali</td>\n",
       "      <td>1320.0</td>\n",
       "      <td>1728.0</td>\n",
       "    </tr>\n",
       "    <tr>\n",
       "      <th>12</th>\n",
       "      <td>2015</td>\n",
       "      <td>Nigeria</td>\n",
       "      <td>1728.0</td>\n",
       "      <td>4320.0</td>\n",
       "    </tr>\n",
       "    <tr>\n",
       "      <th>14</th>\n",
       "      <td>2015</td>\n",
       "      <td>Sierra Leone</td>\n",
       "      <td>832934.0</td>\n",
       "      <td>2797015.0</td>\n",
       "    </tr>\n",
       "    <tr>\n",
       "      <th>17</th>\n",
       "      <td>2015</td>\n",
       "      <td>United States of America</td>\n",
       "      <td>216.0</td>\n",
       "      <td>864.0</td>\n",
       "    </tr>\n",
       "    <tr>\n",
       "      <th>18</th>\n",
       "      <td>2016</td>\n",
       "      <td>Guinea</td>\n",
       "      <td>2536.0</td>\n",
       "      <td>3804.0</td>\n",
       "    </tr>\n",
       "    <tr>\n",
       "      <th>20</th>\n",
       "      <td>2016</td>\n",
       "      <td>Liberia</td>\n",
       "      <td>4813.0</td>\n",
       "      <td>10680.0</td>\n",
       "    </tr>\n",
       "    <tr>\n",
       "      <th>24</th>\n",
       "      <td>2016</td>\n",
       "      <td>Sierra Leone</td>\n",
       "      <td>3955.0</td>\n",
       "      <td>14122.0</td>\n",
       "    </tr>\n",
       "  </tbody>\n",
       "</table>\n",
       "</div>"
      ],
      "text/plain": [
       "    Year                   Country  Death Confirmed  Outbreak Case\n",
       "0   2014                    Guinea          40462.0        66190.0\n",
       "1   2014                   Liberia          95625.0       210796.0\n",
       "2   2014                      Mali            101.0          129.0\n",
       "3   2014                   Nigeria            303.0          765.0\n",
       "5   2014              Sierra Leone          51945.0       192291.0\n",
       "8   2015                    Guinea         520071.0       784124.0\n",
       "10  2015                   Liberia         999395.0      2237646.0\n",
       "11  2015                      Mali           1320.0         1728.0\n",
       "12  2015                   Nigeria           1728.0         4320.0\n",
       "14  2015              Sierra Leone         832934.0      2797015.0\n",
       "17  2015  United States of America            216.0          864.0\n",
       "18  2016                    Guinea           2536.0         3804.0\n",
       "20  2016                   Liberia           4813.0        10680.0\n",
       "24  2016              Sierra Leone           3955.0        14122.0"
      ]
     },
     "execution_count": 20,
     "metadata": {},
     "output_type": "execute_result"
    }
   ],
   "source": [
    "Report1"
   ]
  },
  {
   "cell_type": "code",
   "execution_count": 55,
   "id": "ffad10a6",
   "metadata": {},
   "outputs": [],
   "source": [
    "Report1.to_csv(\"Report by country.csv\")"
   ]
  },
  {
   "cell_type": "code",
   "execution_count": 21,
   "id": "99d23c74",
   "metadata": {},
   "outputs": [
    {
     "data": {
      "image/png": "[encoded data removed]",
      "text/plain": [
       "<Figure size 1200x600 with 1 Axes>"
      ]
     },
     "metadata": {},
     "output_type": "display_data"
    }
   ],
   "source": [
    "import matplotlib.pyplot as plt\n",
    "import numpy as np\n",
    "\n",
    "plt.figure(figsize=(12, 6))\n",
    "\n",
    "countries = report2015['Country']\n",
    "deaths = report2015['Death Confirmed']\n",
    "bars = plt.bar(countries, deaths, color=(\"green\",\"yellow\"))\n",
    "\n",
    "for bar in bars:\n",
    "    yval = bar.get_height()\n",
    "    plt.text(bar.get_x() + bar.get_width()/2, yval, round(yval), ha='center', va='bottom', fontsize=10, color='black')\n",
    "\n",
    "plt.xlabel('Country', fontsize=12)\n",
    "plt.ylabel('Confirmed Deaths', fontsize=12)\n",
    "plt.title('Confirmed Deaths by Country', fontsize=14)\n",
    "\n",
    "\n",
    "plt.xticks(rotation=45)\n",
    "\n",
    "plt.gca().tick_params(axis='both', which='major', labelsize=10)\n",
    "\n",
    "plt.tight_layout()\n",
    "plt.show()\n"
   ]
  },
  {
   "cell_type": "markdown",
   "id": "1794c455",
   "metadata": {},
   "source": [
    "## Overview\n",
    "The bar chart illustrates the number of confirmed Ebola deaths in various countries affected by the outbreak. The data highlights the severity of the epidemic, particularly in West African nations.\n",
    "\n",
    "## Key Observations\n",
    "- **Liberia** recorded the highest number of confirmed deaths, reaching approximately **999,395**.\n",
    "- **Sierra Leone** followed with **832,934** confirmed deaths.\n",
    "- **Guinea** experienced **520,071** confirmed deaths.\n",
    "- Countries such as **Mali (1,320 deaths)**, **Nigeria (1,728 deaths)**, and the **United States (216 deaths)** had significantly lower death counts.\n",
    "- **Italy, Senegal, Spain, and the United Kingdom** reported **zero** confirmed deaths.\n",
    "\n",
    "## Insights\n",
    "- The outbreak was most devastating in West Africa, particularly in **Liberia, Sierra Leone, and Guinea**.\n",
    "- The relatively lower death toll in other countries indicates effective containment measures or fewer cases overall.\n",
    "- The disparity in death counts highlights the varying levels of healthcare infrastructure and outbreak response strategies.\n",
    "\n",
    "## Conclusion\n",
    "The data underscores the critical impact of Ebola in West Africa, emphasizing the need for strong public health interventions and international support in epidemic-prone regions.\n"
   ]
  },
  {
   "cell_type": "markdown",
   "id": "7d41949b",
   "metadata": {},
   "source": [
    "# Distribution of Ebola Deaths by Year"
   ]
  },
  {
   "cell_type": "code",
   "execution_count": 22,
   "id": "75f5c63c",
   "metadata": {},
   "outputs": [],
   "source": [
    "yearofdeath = Report1.groupby([\"Year\"])[[\"Death Confirmed\"]].sum()\n",
    "yearofdeath.reset_index(inplace=True)"
   ]
  },
  {
   "cell_type": "code",
   "execution_count": 23,
   "id": "2058212e",
   "metadata": {},
   "outputs": [
    {
     "data": {
      "application/vnd.microsoft.datawrangler.viewer.v0+json": {
       "columns": [
        {
         "name": "index",
         "rawType": "int64",
         "type": "integer"
        },
        {
         "name": "Year",
         "rawType": "int32",
         "type": "integer"
        },
        {
         "name": "Death Confirmed",
         "rawType": "float64",
         "type": "float"
        }
       ],
       "ref": "0bbe6b6f-b0c0-4b28-afaf-bddce4a6d9aa",
       "rows": [
        [
         "0",
         "2014",
         "188436.0"
        ],
        [
         "1",
         "2015",
         "2355664.0"
        ],
        [
         "2",
         "2016",
         "11304.0"
        ]
       ],
       "shape": {
        "columns": 2,
        "rows": 3
       }
      },
      "text/html": [
       "<div>\n",
       "<style scoped>\n",
       "    .dataframe tbody tr th:only-of-type {\n",
       "        vertical-align: middle;\n",
       "    }\n",
       "\n",
       "    .dataframe tbody tr th {\n",
       "        vertical-align: top;\n",
       "    }\n",
       "\n",
       "    .dataframe thead th {\n",
       "        text-align: right;\n",
       "    }\n",
       "</style>\n",
       "<table border=\"1\" class=\"dataframe\">\n",
       "  <thead>\n",
       "    <tr style=\"text-align: right;\">\n",
       "      <th></th>\n",
       "      <th>Year</th>\n",
       "      <th>Death Confirmed</th>\n",
       "    </tr>\n",
       "  </thead>\n",
       "  <tbody>\n",
       "    <tr>\n",
       "      <th>0</th>\n",
       "      <td>2014</td>\n",
       "      <td>188436.0</td>\n",
       "    </tr>\n",
       "    <tr>\n",
       "      <th>1</th>\n",
       "      <td>2015</td>\n",
       "      <td>2355664.0</td>\n",
       "    </tr>\n",
       "    <tr>\n",
       "      <th>2</th>\n",
       "      <td>2016</td>\n",
       "      <td>11304.0</td>\n",
       "    </tr>\n",
       "  </tbody>\n",
       "</table>\n",
       "</div>"
      ],
      "text/plain": [
       "   Year  Death Confirmed\n",
       "0  2014         188436.0\n",
       "1  2015        2355664.0\n",
       "2  2016          11304.0"
      ]
     },
     "execution_count": 23,
     "metadata": {},
     "output_type": "execute_result"
    }
   ],
   "source": [
    "yearofdeath"
   ]
  },
  {
   "cell_type": "code",
   "execution_count": 24,
   "id": "fc9146ce",
   "metadata": {},
   "outputs": [
    {
     "data": {
      "image/png": "[encoded data removed]",
      "text/plain": [
       "<Figure size 640x480 with 1 Axes>"
      ]
     },
     "metadata": {},
     "output_type": "display_data"
    }
   ],
   "source": [
    "sizes = yearofdeath[\"Death Confirmed\"]\n",
    "labels = yearofdeath[\"Year\"]\n",
    "color =[\"yellow\", \"green\", \"blue\"]\n",
    "\n",
    "plt.pie(sizes, labels = labels, colors = color, startangle=140)\n",
    "\n",
    "plt.suptitle('Distribution of Deaths by Year', fontsize=16, fontweight='bold')\n",
    "\n",
    "plt.legend(loc=\"upper right\")\n",
    "\n",
    "plt.show()"
   ]
  },
  {
   "cell_type": "markdown",
   "id": "5ac9403c",
   "metadata": {},
   "source": [
    "# Distribution of Ebola Deaths by Year\n",
    "\n",
    "## Overview\n",
    "The pie chart illustrates the distribution of confirmed Ebola deaths across the years **2014, 2015, and 2016**. The outbreak peaked in **2015**, with significantly higher deaths compared to other years.\n",
    "\n",
    "## Key Observations\n",
    "- **2015 (Green)** accounted for the vast majority of deaths, indicating the peak of the outbreak.\n",
    "- **2014 (Yellow)** had a smaller proportion, suggesting that the outbreak was still escalating.\n",
    "- **2016 (Blue)** had the fewest deaths, likely due to improved containment and response measures.\n",
    "\n",
    "## Insights\n",
    "- The high number of deaths in **2015** aligns with the peak of the Ebola crisis in West Africa.\n",
    "- The decline in **2016** suggests that intervention efforts, including quarantine measures and international aid, played a role in reducing fatalities.\n",
    "- Early-stage deaths in **2014** highlight the initial spread before reaching its peak in **2015**.\n",
    "\n",
    "## Conclusion\n",
    "The data emphasizes the importance of timely responses to outbreaks. The sharp decline in deaths after **2015** suggests that intervention measures were effective in controlling the spread and impact of Ebola.\n"
   ]
  },
  {
   "cell_type": "code",
   "execution_count": 25,
   "id": "80cdd235",
   "metadata": {},
   "outputs": [
    {
     "data": {
      "application/vnd.microsoft.datawrangler.viewer.v0+json": {
       "columns": [
        {
         "name": "index",
         "rawType": "int64",
         "type": "integer"
        },
        {
         "name": "Year",
         "rawType": "int32",
         "type": "integer"
        },
        {
         "name": "Country",
         "rawType": "object",
         "type": "string"
        },
        {
         "name": "Death Confirmed",
         "rawType": "float64",
         "type": "float"
        },
        {
         "name": "Outbreak Case",
         "rawType": "float64",
         "type": "float"
        }
       ],
       "ref": "abeaf8ab-1b3b-424d-8493-ca20e4db7bb6",
       "rows": [
        [
         "0",
         "2014",
         "Guinea",
         "40462.0",
         "66190.0"
        ],
        [
         "1",
         "2014",
         "Liberia",
         "95625.0",
         "210796.0"
        ],
        [
         "2",
         "2014",
         "Mali",
         "101.0",
         "129.0"
        ],
        [
         "3",
         "2014",
         "Nigeria",
         "303.0",
         "765.0"
        ],
        [
         "5",
         "2014",
         "Sierra Leone",
         "51945.0",
         "192291.0"
        ],
        [
         "8",
         "2015",
         "Guinea",
         "520071.0",
         "784124.0"
        ],
        [
         "10",
         "2015",
         "Liberia",
         "999395.0",
         "2237646.0"
        ],
        [
         "11",
         "2015",
         "Mali",
         "1320.0",
         "1728.0"
        ],
        [
         "12",
         "2015",
         "Nigeria",
         "1728.0",
         "4320.0"
        ],
        [
         "14",
         "2015",
         "Sierra Leone",
         "832934.0",
         "2797015.0"
        ],
        [
         "17",
         "2015",
         "United States of America",
         "216.0",
         "864.0"
        ],
        [
         "18",
         "2016",
         "Guinea",
         "2536.0",
         "3804.0"
        ],
        [
         "20",
         "2016",
         "Liberia",
         "4813.0",
         "10680.0"
        ],
        [
         "24",
         "2016",
         "Sierra Leone",
         "3955.0",
         "14122.0"
        ]
       ],
       "shape": {
        "columns": 4,
        "rows": 14
       }
      },
      "text/html": [
       "<div>\n",
       "<style scoped>\n",
       "    .dataframe tbody tr th:only-of-type {\n",
       "        vertical-align: middle;\n",
       "    }\n",
       "\n",
       "    .dataframe tbody tr th {\n",
       "        vertical-align: top;\n",
       "    }\n",
       "\n",
       "    .dataframe thead th {\n",
       "        text-align: right;\n",
       "    }\n",
       "</style>\n",
       "<table border=\"1\" class=\"dataframe\">\n",
       "  <thead>\n",
       "    <tr style=\"text-align: right;\">\n",
       "      <th></th>\n",
       "      <th>Year</th>\n",
       "      <th>Country</th>\n",
       "      <th>Death Confirmed</th>\n",
       "      <th>Outbreak Case</th>\n",
       "    </tr>\n",
       "  </thead>\n",
       "  <tbody>\n",
       "    <tr>\n",
       "      <th>0</th>\n",
       "      <td>2014</td>\n",
       "      <td>Guinea</td>\n",
       "      <td>40462.0</td>\n",
       "      <td>66190.0</td>\n",
       "    </tr>\n",
       "    <tr>\n",
       "      <th>1</th>\n",
       "      <td>2014</td>\n",
       "      <td>Liberia</td>\n",
       "      <td>95625.0</td>\n",
       "      <td>210796.0</td>\n",
       "    </tr>\n",
       "    <tr>\n",
       "      <th>2</th>\n",
       "      <td>2014</td>\n",
       "      <td>Mali</td>\n",
       "      <td>101.0</td>\n",
       "      <td>129.0</td>\n",
       "    </tr>\n",
       "    <tr>\n",
       "      <th>3</th>\n",
       "      <td>2014</td>\n",
       "      <td>Nigeria</td>\n",
       "      <td>303.0</td>\n",
       "      <td>765.0</td>\n",
       "    </tr>\n",
       "    <tr>\n",
       "      <th>5</th>\n",
       "      <td>2014</td>\n",
       "      <td>Sierra Leone</td>\n",
       "      <td>51945.0</td>\n",
       "      <td>192291.0</td>\n",
       "    </tr>\n",
       "    <tr>\n",
       "      <th>8</th>\n",
       "      <td>2015</td>\n",
       "      <td>Guinea</td>\n",
       "      <td>520071.0</td>\n",
       "      <td>784124.0</td>\n",
       "    </tr>\n",
       "    <tr>\n",
       "      <th>10</th>\n",
       "      <td>2015</td>\n",
       "      <td>Liberia</td>\n",
       "      <td>999395.0</td>\n",
       "      <td>2237646.0</td>\n",
       "    </tr>\n",
       "    <tr>\n",
       "      <th>11</th>\n",
       "      <td>2015</td>\n",
       "      <td>Mali</td>\n",
       "      <td>1320.0</td>\n",
       "      <td>1728.0</td>\n",
       "    </tr>\n",
       "    <tr>\n",
       "      <th>12</th>\n",
       "      <td>2015</td>\n",
       "      <td>Nigeria</td>\n",
       "      <td>1728.0</td>\n",
       "      <td>4320.0</td>\n",
       "    </tr>\n",
       "    <tr>\n",
       "      <th>14</th>\n",
       "      <td>2015</td>\n",
       "      <td>Sierra Leone</td>\n",
       "      <td>832934.0</td>\n",
       "      <td>2797015.0</td>\n",
       "    </tr>\n",
       "    <tr>\n",
       "      <th>17</th>\n",
       "      <td>2015</td>\n",
       "      <td>United States of America</td>\n",
       "      <td>216.0</td>\n",
       "      <td>864.0</td>\n",
       "    </tr>\n",
       "    <tr>\n",
       "      <th>18</th>\n",
       "      <td>2016</td>\n",
       "      <td>Guinea</td>\n",
       "      <td>2536.0</td>\n",
       "      <td>3804.0</td>\n",
       "    </tr>\n",
       "    <tr>\n",
       "      <th>20</th>\n",
       "      <td>2016</td>\n",
       "      <td>Liberia</td>\n",
       "      <td>4813.0</td>\n",
       "      <td>10680.0</td>\n",
       "    </tr>\n",
       "    <tr>\n",
       "      <th>24</th>\n",
       "      <td>2016</td>\n",
       "      <td>Sierra Leone</td>\n",
       "      <td>3955.0</td>\n",
       "      <td>14122.0</td>\n",
       "    </tr>\n",
       "  </tbody>\n",
       "</table>\n",
       "</div>"
      ],
      "text/plain": [
       "    Year                   Country  Death Confirmed  Outbreak Case\n",
       "0   2014                    Guinea          40462.0        66190.0\n",
       "1   2014                   Liberia          95625.0       210796.0\n",
       "2   2014                      Mali            101.0          129.0\n",
       "3   2014                   Nigeria            303.0          765.0\n",
       "5   2014              Sierra Leone          51945.0       192291.0\n",
       "8   2015                    Guinea         520071.0       784124.0\n",
       "10  2015                   Liberia         999395.0      2237646.0\n",
       "11  2015                      Mali           1320.0         1728.0\n",
       "12  2015                   Nigeria           1728.0         4320.0\n",
       "14  2015              Sierra Leone         832934.0      2797015.0\n",
       "17  2015  United States of America            216.0          864.0\n",
       "18  2016                    Guinea           2536.0         3804.0\n",
       "20  2016                   Liberia           4813.0        10680.0\n",
       "24  2016              Sierra Leone           3955.0        14122.0"
      ]
     },
     "execution_count": 25,
     "metadata": {},
     "output_type": "execute_result"
    }
   ],
   "source": [
    "Report1"
   ]
  },
  {
   "cell_type": "markdown",
   "id": "2141e903",
   "metadata": {},
   "source": [
    "# Ebola Outbreak Cases by Country\n"
   ]
  },
  {
   "cell_type": "code",
   "execution_count": 26,
   "id": "9f6dd05d",
   "metadata": {},
   "outputs": [],
   "source": [
    "Reportcase= Report1.groupby([\"Country\"])[[\"Outbreak Case\"]].sum()"
   ]
  },
  {
   "cell_type": "code",
   "execution_count": 27,
   "id": "8c65dc77",
   "metadata": {},
   "outputs": [
    {
     "data": {
      "application/vnd.microsoft.datawrangler.viewer.v0+json": {
       "columns": [
        {
         "name": "Country",
         "rawType": "object",
         "type": "string"
        },
        {
         "name": "Outbreak Case",
         "rawType": "float64",
         "type": "float"
        }
       ],
       "ref": "1434ae04-adc6-4942-96fb-fc4f106500eb",
       "rows": [
        [
         "Guinea",
         "854118.0"
        ],
        [
         "Liberia",
         "2459122.0"
        ],
        [
         "Mali",
         "1857.0"
        ],
        [
         "Nigeria",
         "5085.0"
        ],
        [
         "Sierra Leone",
         "3003428.0"
        ],
        [
         "United States of America",
         "864.0"
        ]
       ],
       "shape": {
        "columns": 1,
        "rows": 6
       }
      },
      "text/html": [
       "<div>\n",
       "<style scoped>\n",
       "    .dataframe tbody tr th:only-of-type {\n",
       "        vertical-align: middle;\n",
       "    }\n",
       "\n",
       "    .dataframe tbody tr th {\n",
       "        vertical-align: top;\n",
       "    }\n",
       "\n",
       "    .dataframe thead th {\n",
       "        text-align: right;\n",
       "    }\n",
       "</style>\n",
       "<table border=\"1\" class=\"dataframe\">\n",
       "  <thead>\n",
       "    <tr style=\"text-align: right;\">\n",
       "      <th></th>\n",
       "      <th>Outbreak Case</th>\n",
       "    </tr>\n",
       "    <tr>\n",
       "      <th>Country</th>\n",
       "      <th></th>\n",
       "    </tr>\n",
       "  </thead>\n",
       "  <tbody>\n",
       "    <tr>\n",
       "      <th>Guinea</th>\n",
       "      <td>854118.0</td>\n",
       "    </tr>\n",
       "    <tr>\n",
       "      <th>Liberia</th>\n",
       "      <td>2459122.0</td>\n",
       "    </tr>\n",
       "    <tr>\n",
       "      <th>Mali</th>\n",
       "      <td>1857.0</td>\n",
       "    </tr>\n",
       "    <tr>\n",
       "      <th>Nigeria</th>\n",
       "      <td>5085.0</td>\n",
       "    </tr>\n",
       "    <tr>\n",
       "      <th>Sierra Leone</th>\n",
       "      <td>3003428.0</td>\n",
       "    </tr>\n",
       "    <tr>\n",
       "      <th>United States of America</th>\n",
       "      <td>864.0</td>\n",
       "    </tr>\n",
       "  </tbody>\n",
       "</table>\n",
       "</div>"
      ],
      "text/plain": [
       "                          Outbreak Case\n",
       "Country                                \n",
       "Guinea                         854118.0\n",
       "Liberia                       2459122.0\n",
       "Mali                             1857.0\n",
       "Nigeria                          5085.0\n",
       "Sierra Leone                  3003428.0\n",
       "United States of America          864.0"
      ]
     },
     "execution_count": 27,
     "metadata": {},
     "output_type": "execute_result"
    }
   ],
   "source": [
    "Reportcase"
   ]
  },
  {
   "cell_type": "code",
   "execution_count": 57,
   "id": "b865a22a",
   "metadata": {},
   "outputs": [],
   "source": [
    "Reportcase.to_csv(\"Case by country.csv\")"
   ]
  },
  {
   "cell_type": "code",
   "execution_count": 28,
   "id": "279208aa",
   "metadata": {},
   "outputs": [],
   "source": [
    "Reportcase.reset_index(inplace=True)"
   ]
  },
  {
   "cell_type": "code",
   "execution_count": 29,
   "id": "5072d164",
   "metadata": {},
   "outputs": [
    {
     "data": {
      "application/vnd.microsoft.datawrangler.viewer.v0+json": {
       "columns": [
        {
         "name": "index",
         "rawType": "int64",
         "type": "integer"
        },
        {
         "name": "Country",
         "rawType": "object",
         "type": "string"
        },
        {
         "name": "Outbreak Case",
         "rawType": "float64",
         "type": "float"
        }
       ],
       "ref": "f6347977-d6c2-4bb1-a786-67e0d841eee8",
       "rows": [
        [
         "0",
         "Guinea",
         "854118.0"
        ],
        [
         "1",
         "Liberia",
         "2459122.0"
        ],
        [
         "2",
         "Mali",
         "1857.0"
        ],
        [
         "3",
         "Nigeria",
         "5085.0"
        ],
        [
         "4",
         "Sierra Leone",
         "3003428.0"
        ],
        [
         "5",
         "United States of America",
         "864.0"
        ]
       ],
       "shape": {
        "columns": 2,
        "rows": 6
       }
      },
      "text/html": [
       "<div>\n",
       "<style scoped>\n",
       "    .dataframe tbody tr th:only-of-type {\n",
       "        vertical-align: middle;\n",
       "    }\n",
       "\n",
       "    .dataframe tbody tr th {\n",
       "        vertical-align: top;\n",
       "    }\n",
       "\n",
       "    .dataframe thead th {\n",
       "        text-align: right;\n",
       "    }\n",
       "</style>\n",
       "<table border=\"1\" class=\"dataframe\">\n",
       "  <thead>\n",
       "    <tr style=\"text-align: right;\">\n",
       "      <th></th>\n",
       "      <th>Country</th>\n",
       "      <th>Outbreak Case</th>\n",
       "    </tr>\n",
       "  </thead>\n",
       "  <tbody>\n",
       "    <tr>\n",
       "      <th>0</th>\n",
       "      <td>Guinea</td>\n",
       "      <td>854118.0</td>\n",
       "    </tr>\n",
       "    <tr>\n",
       "      <th>1</th>\n",
       "      <td>Liberia</td>\n",
       "      <td>2459122.0</td>\n",
       "    </tr>\n",
       "    <tr>\n",
       "      <th>2</th>\n",
       "      <td>Mali</td>\n",
       "      <td>1857.0</td>\n",
       "    </tr>\n",
       "    <tr>\n",
       "      <th>3</th>\n",
       "      <td>Nigeria</td>\n",
       "      <td>5085.0</td>\n",
       "    </tr>\n",
       "    <tr>\n",
       "      <th>4</th>\n",
       "      <td>Sierra Leone</td>\n",
       "      <td>3003428.0</td>\n",
       "    </tr>\n",
       "    <tr>\n",
       "      <th>5</th>\n",
       "      <td>United States of America</td>\n",
       "      <td>864.0</td>\n",
       "    </tr>\n",
       "  </tbody>\n",
       "</table>\n",
       "</div>"
      ],
      "text/plain": [
       "                    Country  Outbreak Case\n",
       "0                    Guinea       854118.0\n",
       "1                   Liberia      2459122.0\n",
       "2                      Mali         1857.0\n",
       "3                   Nigeria         5085.0\n",
       "4              Sierra Leone      3003428.0\n",
       "5  United States of America          864.0"
      ]
     },
     "execution_count": 29,
     "metadata": {},
     "output_type": "execute_result"
    }
   ],
   "source": [
    "Reportcase"
   ]
  },
  {
   "cell_type": "code",
   "execution_count": 30,
   "id": "6341e998",
   "metadata": {},
   "outputs": [
    {
     "data": {
      "image/png": "[encoded data removed]",
      "text/plain": [
       "<Figure size 800x500 with 1 Axes>"
      ]
     },
     "metadata": {},
     "output_type": "display_data"
    }
   ],
   "source": [
    "Country = Reportcase[\"Country\"]\n",
    "Case = Reportcase[\"Outbreak Case\"]\n",
    "plt.figure(figsize =(8, 5))\n",
    "\n",
    "\n",
    "plt.plot(Country, Case, marker='o', linestyle='dashed', color='green', linewidth=2, markersize=8)\n",
    "\n",
    "plt.xlabel('Country')\n",
    "plt.ylabel('Outbreak Case')\n",
    "\n",
    "plt.title('Outbreak case line graph', fontsize=16, fontweight='bold' )\n",
    "\n",
    "plt.grid(True, linestyle='--', alpha=0.7)\n",
    "plt.grid(True)\n",
    "plt.tight_layout()\n",
    "\n",
    "plt.xticks( rotation = 34)\n",
    "\n",
    "plt.show()\n"
   ]
  },
  {
   "cell_type": "markdown",
   "id": "f7b70abc",
   "metadata": {},
   "source": [
    "## Overview\n",
    "The line graph displays the number of Ebola outbreak cases across different countries. The data highlights the severity of the outbreak in specific regions, with some countries experiencing significantly higher cases.\n",
    "\n",
    "## Key Observations\n",
    "- **Sierra Leone** recorded the highest number of outbreak cases, surpassing **3 million**.\n",
    "- **Liberia** had the second-highest number of cases, exceeding **2.5 million**.\n",
    "- **Guinea** also experienced a substantial outbreak, reporting nearly **1 million** cases.\n",
    "- **Mali, Nigeria, and the United States** had significantly fewer cases, indicating successful containment efforts.\n",
    "\n",
    "## Insights\n",
    "- **Sierra Leone and Liberia** were the hardest-hit countries, suggesting that containment measures faced challenges in these regions.\n",
    "- **Nigeria and Mali** had significantly fewer cases, likely due to effective border controls and rapid intervention.\n",
    "- **The United States** recorded a minimal number of cases, showing that international transmission was rare and effectively managed.\n",
    "\n",
    "## Conclusion\n",
    "The Ebola outbreak had a devastating impact, particularly in **West Africa**, with **Sierra Leone, Liberia, and Guinea** being the most affected. Countries with fewer cases likely benefited from **strong healthcare systems, early intervention, and containment strategies**.\n"
   ]
  },
  {
   "cell_type": "code",
   "execution_count": 31,
   "id": "e8d2552d",
   "metadata": {
    "scrolled": false
   },
   "outputs": [
    {
     "data": {
      "application/vnd.microsoft.datawrangler.viewer.v0+json": {
       "columns": [
        {
         "name": "index",
         "rawType": "int64",
         "type": "integer"
        },
        {
         "name": "Year",
         "rawType": "int32",
         "type": "integer"
        },
        {
         "name": "Country",
         "rawType": "object",
         "type": "string"
        },
        {
         "name": "Death Confirmed",
         "rawType": "float64",
         "type": "float"
        },
        {
         "name": "Outbreak Case",
         "rawType": "float64",
         "type": "float"
        }
       ],
       "ref": "590343b7-b954-4b06-808c-07f570a01d33",
       "rows": [
        [
         "0",
         "2014",
         "Guinea",
         "40462.0",
         "66190.0"
        ],
        [
         "1",
         "2014",
         "Liberia",
         "95625.0",
         "210796.0"
        ],
        [
         "2",
         "2014",
         "Mali",
         "101.0",
         "129.0"
        ],
        [
         "3",
         "2014",
         "Nigeria",
         "303.0",
         "765.0"
        ],
        [
         "5",
         "2014",
         "Sierra Leone",
         "51945.0",
         "192291.0"
        ],
        [
         "8",
         "2015",
         "Guinea",
         "520071.0",
         "784124.0"
        ],
        [
         "10",
         "2015",
         "Liberia",
         "999395.0",
         "2237646.0"
        ],
        [
         "11",
         "2015",
         "Mali",
         "1320.0",
         "1728.0"
        ],
        [
         "12",
         "2015",
         "Nigeria",
         "1728.0",
         "4320.0"
        ],
        [
         "14",
         "2015",
         "Sierra Leone",
         "832934.0",
         "2797015.0"
        ],
        [
         "17",
         "2015",
         "United States of America",
         "216.0",
         "864.0"
        ],
        [
         "18",
         "2016",
         "Guinea",
         "2536.0",
         "3804.0"
        ],
        [
         "20",
         "2016",
         "Liberia",
         "4813.0",
         "10680.0"
        ],
        [
         "24",
         "2016",
         "Sierra Leone",
         "3955.0",
         "14122.0"
        ]
       ],
       "shape": {
        "columns": 4,
        "rows": 14
       }
      },
      "text/html": [
       "<div>\n",
       "<style scoped>\n",
       "    .dataframe tbody tr th:only-of-type {\n",
       "        vertical-align: middle;\n",
       "    }\n",
       "\n",
       "    .dataframe tbody tr th {\n",
       "        vertical-align: top;\n",
       "    }\n",
       "\n",
       "    .dataframe thead th {\n",
       "        text-align: right;\n",
       "    }\n",
       "</style>\n",
       "<table border=\"1\" class=\"dataframe\">\n",
       "  <thead>\n",
       "    <tr style=\"text-align: right;\">\n",
       "      <th></th>\n",
       "      <th>Year</th>\n",
       "      <th>Country</th>\n",
       "      <th>Death Confirmed</th>\n",
       "      <th>Outbreak Case</th>\n",
       "    </tr>\n",
       "  </thead>\n",
       "  <tbody>\n",
       "    <tr>\n",
       "      <th>0</th>\n",
       "      <td>2014</td>\n",
       "      <td>Guinea</td>\n",
       "      <td>40462.0</td>\n",
       "      <td>66190.0</td>\n",
       "    </tr>\n",
       "    <tr>\n",
       "      <th>1</th>\n",
       "      <td>2014</td>\n",
       "      <td>Liberia</td>\n",
       "      <td>95625.0</td>\n",
       "      <td>210796.0</td>\n",
       "    </tr>\n",
       "    <tr>\n",
       "      <th>2</th>\n",
       "      <td>2014</td>\n",
       "      <td>Mali</td>\n",
       "      <td>101.0</td>\n",
       "      <td>129.0</td>\n",
       "    </tr>\n",
       "    <tr>\n",
       "      <th>3</th>\n",
       "      <td>2014</td>\n",
       "      <td>Nigeria</td>\n",
       "      <td>303.0</td>\n",
       "      <td>765.0</td>\n",
       "    </tr>\n",
       "    <tr>\n",
       "      <th>5</th>\n",
       "      <td>2014</td>\n",
       "      <td>Sierra Leone</td>\n",
       "      <td>51945.0</td>\n",
       "      <td>192291.0</td>\n",
       "    </tr>\n",
       "    <tr>\n",
       "      <th>8</th>\n",
       "      <td>2015</td>\n",
       "      <td>Guinea</td>\n",
       "      <td>520071.0</td>\n",
       "      <td>784124.0</td>\n",
       "    </tr>\n",
       "    <tr>\n",
       "      <th>10</th>\n",
       "      <td>2015</td>\n",
       "      <td>Liberia</td>\n",
       "      <td>999395.0</td>\n",
       "      <td>2237646.0</td>\n",
       "    </tr>\n",
       "    <tr>\n",
       "      <th>11</th>\n",
       "      <td>2015</td>\n",
       "      <td>Mali</td>\n",
       "      <td>1320.0</td>\n",
       "      <td>1728.0</td>\n",
       "    </tr>\n",
       "    <tr>\n",
       "      <th>12</th>\n",
       "      <td>2015</td>\n",
       "      <td>Nigeria</td>\n",
       "      <td>1728.0</td>\n",
       "      <td>4320.0</td>\n",
       "    </tr>\n",
       "    <tr>\n",
       "      <th>14</th>\n",
       "      <td>2015</td>\n",
       "      <td>Sierra Leone</td>\n",
       "      <td>832934.0</td>\n",
       "      <td>2797015.0</td>\n",
       "    </tr>\n",
       "    <tr>\n",
       "      <th>17</th>\n",
       "      <td>2015</td>\n",
       "      <td>United States of America</td>\n",
       "      <td>216.0</td>\n",
       "      <td>864.0</td>\n",
       "    </tr>\n",
       "    <tr>\n",
       "      <th>18</th>\n",
       "      <td>2016</td>\n",
       "      <td>Guinea</td>\n",
       "      <td>2536.0</td>\n",
       "      <td>3804.0</td>\n",
       "    </tr>\n",
       "    <tr>\n",
       "      <th>20</th>\n",
       "      <td>2016</td>\n",
       "      <td>Liberia</td>\n",
       "      <td>4813.0</td>\n",
       "      <td>10680.0</td>\n",
       "    </tr>\n",
       "    <tr>\n",
       "      <th>24</th>\n",
       "      <td>2016</td>\n",
       "      <td>Sierra Leone</td>\n",
       "      <td>3955.0</td>\n",
       "      <td>14122.0</td>\n",
       "    </tr>\n",
       "  </tbody>\n",
       "</table>\n",
       "</div>"
      ],
      "text/plain": [
       "    Year                   Country  Death Confirmed  Outbreak Case\n",
       "0   2014                    Guinea          40462.0        66190.0\n",
       "1   2014                   Liberia          95625.0       210796.0\n",
       "2   2014                      Mali            101.0          129.0\n",
       "3   2014                   Nigeria            303.0          765.0\n",
       "5   2014              Sierra Leone          51945.0       192291.0\n",
       "8   2015                    Guinea         520071.0       784124.0\n",
       "10  2015                   Liberia         999395.0      2237646.0\n",
       "11  2015                      Mali           1320.0         1728.0\n",
       "12  2015                   Nigeria           1728.0         4320.0\n",
       "14  2015              Sierra Leone         832934.0      2797015.0\n",
       "17  2015  United States of America            216.0          864.0\n",
       "18  2016                    Guinea           2536.0         3804.0\n",
       "20  2016                   Liberia           4813.0        10680.0\n",
       "24  2016              Sierra Leone           3955.0        14122.0"
      ]
     },
     "execution_count": 31,
     "metadata": {},
     "output_type": "execute_result"
    }
   ],
   "source": [
    "Report1"
   ]
  },
  {
   "cell_type": "markdown",
   "id": "f0fd675c",
   "metadata": {},
   "source": [
    "# Ebola Outbreak: Survival Rate Distribution\n"
   ]
  },
  {
   "cell_type": "code",
   "execution_count": 32,
   "id": "1cd68466",
   "metadata": {},
   "outputs": [
    {
     "name": "stderr",
     "output_type": "stream",
     "text": [
      "C:\\Users\\DELL\\AppData\\Local\\Temp\\ipykernel_2140\\3632980983.py:1: SettingWithCopyWarning: \n",
      "A value is trying to be set on a copy of a slice from a DataFrame.\n",
      "Try using .loc[row_indexer,col_indexer] = value instead\n",
      "\n",
      "See the caveats in the documentation: https://pandas.pydata.org/pandas-docs/stable/user_guide/indexing.html#returning-a-view-versus-a-copy\n",
      "  Report1[\"Survival\"] = Report1['Outbreak Case'].sub(Report1['Death Confirmed'])\n"
     ]
    }
   ],
   "source": [
    "Report1[\"Survival\"] = Report1['Outbreak Case'].sub(Report1['Death Confirmed'])"
   ]
  },
  {
   "cell_type": "code",
   "execution_count": 33,
   "id": "78b2d688",
   "metadata": {},
   "outputs": [
    {
     "data": {
      "application/vnd.microsoft.datawrangler.viewer.v0+json": {
       "columns": [
        {
         "name": "index",
         "rawType": "int64",
         "type": "integer"
        },
        {
         "name": "Year",
         "rawType": "int32",
         "type": "integer"
        },
        {
         "name": "Country",
         "rawType": "object",
         "type": "string"
        },
        {
         "name": "Death Confirmed",
         "rawType": "float64",
         "type": "float"
        },
        {
         "name": "Outbreak Case",
         "rawType": "float64",
         "type": "float"
        },
        {
         "name": "Survival",
         "rawType": "float64",
         "type": "float"
        }
       ],
       "ref": "7d1f87c5-9454-4238-bd3f-082e250c2fee",
       "rows": [
        [
         "0",
         "2014",
         "Guinea",
         "40462.0",
         "66190.0",
         "25728.0"
        ],
        [
         "1",
         "2014",
         "Liberia",
         "95625.0",
         "210796.0",
         "115171.0"
        ],
        [
         "2",
         "2014",
         "Mali",
         "101.0",
         "129.0",
         "28.0"
        ],
        [
         "3",
         "2014",
         "Nigeria",
         "303.0",
         "765.0",
         "462.0"
        ],
        [
         "5",
         "2014",
         "Sierra Leone",
         "51945.0",
         "192291.0",
         "140346.0"
        ],
        [
         "8",
         "2015",
         "Guinea",
         "520071.0",
         "784124.0",
         "264053.0"
        ],
        [
         "10",
         "2015",
         "Liberia",
         "999395.0",
         "2237646.0",
         "1238251.0"
        ],
        [
         "11",
         "2015",
         "Mali",
         "1320.0",
         "1728.0",
         "408.0"
        ],
        [
         "12",
         "2015",
         "Nigeria",
         "1728.0",
         "4320.0",
         "2592.0"
        ],
        [
         "14",
         "2015",
         "Sierra Leone",
         "832934.0",
         "2797015.0",
         "1964081.0"
        ],
        [
         "17",
         "2015",
         "United States of America",
         "216.0",
         "864.0",
         "648.0"
        ],
        [
         "18",
         "2016",
         "Guinea",
         "2536.0",
         "3804.0",
         "1268.0"
        ],
        [
         "20",
         "2016",
         "Liberia",
         "4813.0",
         "10680.0",
         "5867.0"
        ],
        [
         "24",
         "2016",
         "Sierra Leone",
         "3955.0",
         "14122.0",
         "10167.0"
        ]
       ],
       "shape": {
        "columns": 5,
        "rows": 14
       }
      },
      "text/html": [
       "<div>\n",
       "<style scoped>\n",
       "    .dataframe tbody tr th:only-of-type {\n",
       "        vertical-align: middle;\n",
       "    }\n",
       "\n",
       "    .dataframe tbody tr th {\n",
       "        vertical-align: top;\n",
       "    }\n",
       "\n",
       "    .dataframe thead th {\n",
       "        text-align: right;\n",
       "    }\n",
       "</style>\n",
       "<table border=\"1\" class=\"dataframe\">\n",
       "  <thead>\n",
       "    <tr style=\"text-align: right;\">\n",
       "      <th></th>\n",
       "      <th>Year</th>\n",
       "      <th>Country</th>\n",
       "      <th>Death Confirmed</th>\n",
       "      <th>Outbreak Case</th>\n",
       "      <th>Survival</th>\n",
       "    </tr>\n",
       "  </thead>\n",
       "  <tbody>\n",
       "    <tr>\n",
       "      <th>0</th>\n",
       "      <td>2014</td>\n",
       "      <td>Guinea</td>\n",
       "      <td>40462.0</td>\n",
       "      <td>66190.0</td>\n",
       "      <td>25728.0</td>\n",
       "    </tr>\n",
       "    <tr>\n",
       "      <th>1</th>\n",
       "      <td>2014</td>\n",
       "      <td>Liberia</td>\n",
       "      <td>95625.0</td>\n",
       "      <td>210796.0</td>\n",
       "      <td>115171.0</td>\n",
       "    </tr>\n",
       "    <tr>\n",
       "      <th>2</th>\n",
       "      <td>2014</td>\n",
       "      <td>Mali</td>\n",
       "      <td>101.0</td>\n",
       "      <td>129.0</td>\n",
       "      <td>28.0</td>\n",
       "    </tr>\n",
       "    <tr>\n",
       "      <th>3</th>\n",
       "      <td>2014</td>\n",
       "      <td>Nigeria</td>\n",
       "      <td>303.0</td>\n",
       "      <td>765.0</td>\n",
       "      <td>462.0</td>\n",
       "    </tr>\n",
       "    <tr>\n",
       "      <th>5</th>\n",
       "      <td>2014</td>\n",
       "      <td>Sierra Leone</td>\n",
       "      <td>51945.0</td>\n",
       "      <td>192291.0</td>\n",
       "      <td>140346.0</td>\n",
       "    </tr>\n",
       "    <tr>\n",
       "      <th>8</th>\n",
       "      <td>2015</td>\n",
       "      <td>Guinea</td>\n",
       "      <td>520071.0</td>\n",
       "      <td>784124.0</td>\n",
       "      <td>264053.0</td>\n",
       "    </tr>\n",
       "    <tr>\n",
       "      <th>10</th>\n",
       "      <td>2015</td>\n",
       "      <td>Liberia</td>\n",
       "      <td>999395.0</td>\n",
       "      <td>2237646.0</td>\n",
       "      <td>1238251.0</td>\n",
       "    </tr>\n",
       "    <tr>\n",
       "      <th>11</th>\n",
       "      <td>2015</td>\n",
       "      <td>Mali</td>\n",
       "      <td>1320.0</td>\n",
       "      <td>1728.0</td>\n",
       "      <td>408.0</td>\n",
       "    </tr>\n",
       "    <tr>\n",
       "      <th>12</th>\n",
       "      <td>2015</td>\n",
       "      <td>Nigeria</td>\n",
       "      <td>1728.0</td>\n",
       "      <td>4320.0</td>\n",
       "      <td>2592.0</td>\n",
       "    </tr>\n",
       "    <tr>\n",
       "      <th>14</th>\n",
       "      <td>2015</td>\n",
       "      <td>Sierra Leone</td>\n",
       "      <td>832934.0</td>\n",
       "      <td>2797015.0</td>\n",
       "      <td>1964081.0</td>\n",
       "    </tr>\n",
       "    <tr>\n",
       "      <th>17</th>\n",
       "      <td>2015</td>\n",
       "      <td>United States of America</td>\n",
       "      <td>216.0</td>\n",
       "      <td>864.0</td>\n",
       "      <td>648.0</td>\n",
       "    </tr>\n",
       "    <tr>\n",
       "      <th>18</th>\n",
       "      <td>2016</td>\n",
       "      <td>Guinea</td>\n",
       "      <td>2536.0</td>\n",
       "      <td>3804.0</td>\n",
       "      <td>1268.0</td>\n",
       "    </tr>\n",
       "    <tr>\n",
       "      <th>20</th>\n",
       "      <td>2016</td>\n",
       "      <td>Liberia</td>\n",
       "      <td>4813.0</td>\n",
       "      <td>10680.0</td>\n",
       "      <td>5867.0</td>\n",
       "    </tr>\n",
       "    <tr>\n",
       "      <th>24</th>\n",
       "      <td>2016</td>\n",
       "      <td>Sierra Leone</td>\n",
       "      <td>3955.0</td>\n",
       "      <td>14122.0</td>\n",
       "      <td>10167.0</td>\n",
       "    </tr>\n",
       "  </tbody>\n",
       "</table>\n",
       "</div>"
      ],
      "text/plain": [
       "    Year                   Country  Death Confirmed  Outbreak Case   Survival\n",
       "0   2014                    Guinea          40462.0        66190.0    25728.0\n",
       "1   2014                   Liberia          95625.0       210796.0   115171.0\n",
       "2   2014                      Mali            101.0          129.0       28.0\n",
       "3   2014                   Nigeria            303.0          765.0      462.0\n",
       "5   2014              Sierra Leone          51945.0       192291.0   140346.0\n",
       "8   2015                    Guinea         520071.0       784124.0   264053.0\n",
       "10  2015                   Liberia         999395.0      2237646.0  1238251.0\n",
       "11  2015                      Mali           1320.0         1728.0      408.0\n",
       "12  2015                   Nigeria           1728.0         4320.0     2592.0\n",
       "14  2015              Sierra Leone         832934.0      2797015.0  1964081.0\n",
       "17  2015  United States of America            216.0          864.0      648.0\n",
       "18  2016                    Guinea           2536.0         3804.0     1268.0\n",
       "20  2016                   Liberia           4813.0        10680.0     5867.0\n",
       "24  2016              Sierra Leone           3955.0        14122.0    10167.0"
      ]
     },
     "execution_count": 33,
     "metadata": {},
     "output_type": "execute_result"
    }
   ],
   "source": [
    "Report1"
   ]
  },
  {
   "cell_type": "code",
   "execution_count": 34,
   "id": "5e424d3e",
   "metadata": {
    "scrolled": false
   },
   "outputs": [
    {
     "data": {
      "image/png": "[encoded data removed]",
      "text/plain": [
       "<Figure size 1000x600 with 1 Axes>"
      ]
     },
     "metadata": {},
     "output_type": "display_data"
    }
   ],
   "source": [
    "data = Report1['Survival']\n",
    "plt.figure(figsize=(10, 6))\n",
    "bin1 = (Report1['Survival'].value_counts())\n",
    "\n",
    "plt.hist(data, bins=15, color=\"pink\")\n",
    "\n",
    "plt.xlabel(\"Survival\", fontsize = 10)\n",
    "plt.ylabel(\"Frequency\", fontsize = 10)\n",
    "\n",
    "plt.grid(True, linestyle='--', color='black', linewidth=0.5)\n",
    "\n",
    "plt.title(\"Survival Rate\", fontsize = 18, fontfamily = \"Algerian\", fontweight = \"bold\")\n",
    "plt.show()"
   ]
  },
  {
   "cell_type": "markdown",
   "id": "92472baa",
   "metadata": {},
   "source": [
    "\n",
    "## Overview\n",
    "The histogram visualizes the distribution of survival rates across affected regions. It provides insight into how many individuals survived the outbreak at different levels.\n",
    "\n",
    "## Key Observations\n",
    "- The majority of cases fall within the lower survival range.\n",
    "- A few countries recorded significantly higher survival counts, possibly indicating better healthcare responses.\n",
    "- The distribution suggests that survival rates were unevenly spread across regions.\n",
    "\n",
    "## Insights\n",
    "- **Most regions had low survival counts**, implying high fatality rates.\n",
    "- **Higher survival counts were rare**, occurring in only a few cases, likely where **strong medical interventions** were available.\n",
    "- **The skewed distribution** reflects the aggressive nature of the outbreak and its impact on healthcare systems.\n",
    "\n",
    "## Conclusion\n",
    "The Ebola outbreak had a devastating impact, with **limited survival in most affected regions**. Countries with **higher survival counts likely had better containment measures, medical resources, or faster responses**.\n"
   ]
  },
  {
   "cell_type": "code",
   "execution_count": 35,
   "id": "64b25727",
   "metadata": {},
   "outputs": [
    {
     "data": {
      "application/vnd.microsoft.datawrangler.viewer.v0+json": {
       "columns": [
        {
         "name": "index",
         "rawType": "int64",
         "type": "integer"
        },
        {
         "name": "Date",
         "rawType": "datetime64[ns]",
         "type": "datetime"
        },
        {
         "name": "Country",
         "rawType": "object",
         "type": "string"
        },
        {
         "name": "Death Confirmed",
         "rawType": "float64",
         "type": "float"
        },
        {
         "name": "Outbreak Case",
         "rawType": "float64",
         "type": "float"
        },
        {
         "name": "Year",
         "rawType": "int32",
         "type": "integer"
        }
       ],
       "ref": "6393fde0-3300-46fc-8412-5bc15f5213e5",
       "rows": [
        [
         "0",
         "2014-08-29 00:00:00",
         "Guinea",
         "430.0",
         "648.0",
         "2014"
        ],
        [
         "1",
         "2014-08-29 00:00:00",
         "Liberia",
         "694.0",
         "1378.0",
         "2014"
        ],
        [
         "2",
         "2014-08-29 00:00:00",
         "Nigeria",
         "7.0",
         "19.0",
         "2014"
        ],
        [
         "3",
         "2014-08-29 00:00:00",
         "Sierra Leone",
         "422.0",
         "1026.0",
         "2014"
        ],
        [
         "4",
         "2014-09-05 00:00:00",
         "Guinea",
         "517.0",
         "812.0",
         "2014"
        ],
        [
         "5",
         "2014-09-05 00:00:00",
         "Liberia",
         "1089.0",
         "1871.0",
         "2014"
        ],
        [
         "6",
         "2014-09-05 00:00:00",
         "Nigeria",
         "8.0",
         "22.0",
         "2014"
        ],
        [
         "7",
         "2014-09-05 00:00:00",
         "Senegal",
         "0.0",
         "1.0",
         "2014"
        ],
        [
         "8",
         "2014-09-05 00:00:00",
         "Sierra Leone",
         "491.0",
         "1261.0",
         "2014"
        ],
        [
         "9",
         "2014-09-08 00:00:00",
         "Guinea",
         "555.0",
         "862.0",
         "2014"
        ],
        [
         "10",
         "2014-09-08 00:00:00",
         "Liberia",
         "1224.0",
         "2046.0",
         "2014"
        ],
        [
         "11",
         "2014-09-08 00:00:00",
         "Nigeria",
         "8.0",
         "21.0",
         "2014"
        ],
        [
         "12",
         "2014-09-08 00:00:00",
         "Senegal",
         "0.0",
         "3.0",
         "2014"
        ],
        [
         "13",
         "2014-09-08 00:00:00",
         "Sierra Leone",
         "509.0",
         "1361.0",
         "2014"
        ],
        [
         "14",
         "2014-09-12 00:00:00",
         "Guinea",
         "557.0",
         "861.0",
         "2014"
        ],
        [
         "15",
         "2014-09-12 00:00:00",
         "Liberia",
         "1137.0",
         "2081.0",
         "2014"
        ],
        [
         "16",
         "2014-09-12 00:00:00",
         "Nigeria",
         "8.0",
         "21.0",
         "2014"
        ],
        [
         "17",
         "2014-09-12 00:00:00",
         "Senegal",
         "0.0",
         "3.0",
         "2014"
        ],
        [
         "18",
         "2014-09-12 00:00:00",
         "Sierra Leone",
         "524.0",
         "1424.0",
         "2014"
        ],
        [
         "19",
         "2014-09-16 00:00:00",
         "Guinea",
         "595.0",
         "936.0",
         "2014"
        ],
        [
         "20",
         "2014-09-16 00:00:00",
         "Liberia",
         "1296.0",
         "2407.0",
         "2014"
        ],
        [
         "21",
         "2014-09-16 00:00:00",
         "Nigeria",
         "8.0",
         "21.0",
         "2014"
        ],
        [
         "22",
         "2014-09-16 00:00:00",
         "Senegal",
         "0.0",
         "1.0",
         "2014"
        ],
        [
         "23",
         "2014-09-16 00:00:00",
         "Sierra Leone",
         "562.0",
         "1620.0",
         "2014"
        ],
        [
         "24",
         "2014-09-18 00:00:00",
         "Guinea",
         "601.0",
         "942.0",
         "2014"
        ],
        [
         "25",
         "2014-09-18 00:00:00",
         "Liberia",
         "1459.0",
         "2710.0",
         "2014"
        ],
        [
         "26",
         "2014-09-18 00:00:00",
         "Nigeria",
         "8.0",
         "21.0",
         "2014"
        ],
        [
         "27",
         "2014-09-18 00:00:00",
         "Senegal",
         "0.0",
         "1.0",
         "2014"
        ],
        [
         "28",
         "2014-09-18 00:00:00",
         "Sierra Leone",
         "562.0",
         "1673.0",
         "2014"
        ],
        [
         "29",
         "2014-09-22 00:00:00",
         "Guinea",
         "632.0",
         "1008.0",
         "2014"
        ],
        [
         "30",
         "2014-09-22 00:00:00",
         "Liberia",
         "1578.0",
         "3022.0",
         "2014"
        ],
        [
         "31",
         "2014-09-22 00:00:00",
         "Nigeria",
         "8.0",
         "20.0",
         "2014"
        ],
        [
         "32",
         "2014-09-22 00:00:00",
         "Senegal",
         "0.0",
         "1.0",
         "2014"
        ],
        [
         "33",
         "2014-09-22 00:00:00",
         "Sierra Leone",
         "593.0",
         "1813.0",
         "2014"
        ],
        [
         "34",
         "2014-09-24 00:00:00",
         "Guinea",
         "635.0",
         "1022.0",
         "2014"
        ],
        [
         "35",
         "2014-09-24 00:00:00",
         "Liberia",
         "1677.0",
         "3280.0",
         "2014"
        ],
        [
         "36",
         "2014-09-24 00:00:00",
         "Nigeria",
         "8.0",
         "20.0",
         "2014"
        ],
        [
         "37",
         "2014-09-24 00:00:00",
         "Senegal",
         "0.0",
         "1.0",
         "2014"
        ],
        [
         "38",
         "2014-09-24 00:00:00",
         "Sierra Leone",
         "597.0",
         "1940.0",
         "2014"
        ],
        [
         "39",
         "2014-09-26 00:00:00",
         "Guinea",
         "648.0",
         "1074.0",
         "2014"
        ],
        [
         "40",
         "2014-09-26 00:00:00",
         "Liberia",
         "1830.0",
         "3458.0",
         "2014"
        ],
        [
         "41",
         "2014-09-26 00:00:00",
         "Nigeria",
         "8.0",
         "20.0",
         "2014"
        ],
        [
         "42",
         "2014-09-26 00:00:00",
         "Senegal",
         "0.0",
         "1.0",
         "2014"
        ],
        [
         "43",
         "2014-09-26 00:00:00",
         "Sierra Leone",
         "605.0",
         "2021.0",
         "2014"
        ],
        [
         "44",
         "2014-10-01 00:00:00",
         "Guinea",
         "710.0",
         "1157.0",
         "2014"
        ],
        [
         "45",
         "2014-10-01 00:00:00",
         "Liberia",
         "1998.0",
         "3696.0",
         "2014"
        ],
        [
         "46",
         "2014-10-01 00:00:00",
         "Nigeria",
         "8.0",
         "20.0",
         "2014"
        ],
        [
         "47",
         "2014-10-01 00:00:00",
         "Senegal",
         "0.0",
         "1.0",
         "2014"
        ],
        [
         "48",
         "2014-10-01 00:00:00",
         "Sierra Leone",
         "622.0",
         "2304.0",
         "2014"
        ],
        [
         "49",
         "2014-10-03 00:00:00",
         "Guinea",
         "739.0",
         "1199.0",
         "2014"
        ]
       ],
       "shape": {
        "columns": 5,
        "rows": 2379
       }
      },
      "text/html": [
       "<div>\n",
       "<style scoped>\n",
       "    .dataframe tbody tr th:only-of-type {\n",
       "        vertical-align: middle;\n",
       "    }\n",
       "\n",
       "    .dataframe tbody tr th {\n",
       "        vertical-align: top;\n",
       "    }\n",
       "\n",
       "    .dataframe thead th {\n",
       "        text-align: right;\n",
       "    }\n",
       "</style>\n",
       "<table border=\"1\" class=\"dataframe\">\n",
       "  <thead>\n",
       "    <tr style=\"text-align: right;\">\n",
       "      <th></th>\n",
       "      <th>Date</th>\n",
       "      <th>Country</th>\n",
       "      <th>Death Confirmed</th>\n",
       "      <th>Outbreak Case</th>\n",
       "      <th>Year</th>\n",
       "    </tr>\n",
       "  </thead>\n",
       "  <tbody>\n",
       "    <tr>\n",
       "      <th>0</th>\n",
       "      <td>2014-08-29</td>\n",
       "      <td>Guinea</td>\n",
       "      <td>430.0</td>\n",
       "      <td>648.0</td>\n",
       "      <td>2014</td>\n",
       "    </tr>\n",
       "    <tr>\n",
       "      <th>1</th>\n",
       "      <td>2014-08-29</td>\n",
       "      <td>Liberia</td>\n",
       "      <td>694.0</td>\n",
       "      <td>1378.0</td>\n",
       "      <td>2014</td>\n",
       "    </tr>\n",
       "    <tr>\n",
       "      <th>2</th>\n",
       "      <td>2014-08-29</td>\n",
       "      <td>Nigeria</td>\n",
       "      <td>7.0</td>\n",
       "      <td>19.0</td>\n",
       "      <td>2014</td>\n",
       "    </tr>\n",
       "    <tr>\n",
       "      <th>3</th>\n",
       "      <td>2014-08-29</td>\n",
       "      <td>Sierra Leone</td>\n",
       "      <td>422.0</td>\n",
       "      <td>1026.0</td>\n",
       "      <td>2014</td>\n",
       "    </tr>\n",
       "    <tr>\n",
       "      <th>4</th>\n",
       "      <td>2014-09-05</td>\n",
       "      <td>Guinea</td>\n",
       "      <td>517.0</td>\n",
       "      <td>812.0</td>\n",
       "      <td>2014</td>\n",
       "    </tr>\n",
       "    <tr>\n",
       "      <th>...</th>\n",
       "      <td>...</td>\n",
       "      <td>...</td>\n",
       "      <td>...</td>\n",
       "      <td>...</td>\n",
       "      <td>...</td>\n",
       "    </tr>\n",
       "    <tr>\n",
       "      <th>2374</th>\n",
       "      <td>2016-03-23</td>\n",
       "      <td>Senegal</td>\n",
       "      <td>0.0</td>\n",
       "      <td>1.0</td>\n",
       "      <td>2016</td>\n",
       "    </tr>\n",
       "    <tr>\n",
       "      <th>2375</th>\n",
       "      <td>2016-03-23</td>\n",
       "      <td>Sierra Leone</td>\n",
       "      <td>3955.0</td>\n",
       "      <td>14122.0</td>\n",
       "      <td>2016</td>\n",
       "    </tr>\n",
       "    <tr>\n",
       "      <th>2376</th>\n",
       "      <td>2016-03-23</td>\n",
       "      <td>Spain</td>\n",
       "      <td>0.0</td>\n",
       "      <td>1.0</td>\n",
       "      <td>2016</td>\n",
       "    </tr>\n",
       "    <tr>\n",
       "      <th>2377</th>\n",
       "      <td>2016-03-23</td>\n",
       "      <td>United Kingdom</td>\n",
       "      <td>0.0</td>\n",
       "      <td>1.0</td>\n",
       "      <td>2016</td>\n",
       "    </tr>\n",
       "    <tr>\n",
       "      <th>2378</th>\n",
       "      <td>2016-03-23</td>\n",
       "      <td>United States of America</td>\n",
       "      <td>1.0</td>\n",
       "      <td>4.0</td>\n",
       "      <td>2016</td>\n",
       "    </tr>\n",
       "  </tbody>\n",
       "</table>\n",
       "<p>2379 rows × 5 columns</p>\n",
       "</div>"
      ],
      "text/plain": [
       "           Date                   Country  Death Confirmed  Outbreak Case  \\\n",
       "0    2014-08-29                    Guinea            430.0          648.0   \n",
       "1    2014-08-29                   Liberia            694.0         1378.0   \n",
       "2    2014-08-29                   Nigeria              7.0           19.0   \n",
       "3    2014-08-29              Sierra Leone            422.0         1026.0   \n",
       "4    2014-09-05                    Guinea            517.0          812.0   \n",
       "...         ...                       ...              ...            ...   \n",
       "2374 2016-03-23                   Senegal              0.0            1.0   \n",
       "2375 2016-03-23              Sierra Leone           3955.0        14122.0   \n",
       "2376 2016-03-23                     Spain              0.0            1.0   \n",
       "2377 2016-03-23            United Kingdom              0.0            1.0   \n",
       "2378 2016-03-23  United States of America              1.0            4.0   \n",
       "\n",
       "      Year  \n",
       "0     2014  \n",
       "1     2014  \n",
       "2     2014  \n",
       "3     2014  \n",
       "4     2014  \n",
       "...    ...  \n",
       "2374  2016  \n",
       "2375  2016  \n",
       "2376  2016  \n",
       "2377  2016  \n",
       "2378  2016  \n",
       "\n",
       "[2379 rows x 5 columns]"
      ]
     },
     "execution_count": 35,
     "metadata": {},
     "output_type": "execute_result"
    }
   ],
   "source": [
    "Report"
   ]
  },
  {
   "cell_type": "markdown",
   "id": "937bb21a",
   "metadata": {},
   "source": [
    "# Ebola Outbreak: Monthly Summary"
   ]
  },
  {
   "cell_type": "code",
   "execution_count": 36,
   "id": "7b248011",
   "metadata": {},
   "outputs": [],
   "source": [
    "Report[\"Month\"] = Report[\"Date\"].dt.month"
   ]
  },
  {
   "cell_type": "code",
   "execution_count": 37,
   "id": "f2162a2f",
   "metadata": {},
   "outputs": [
    {
     "data": {
      "application/vnd.microsoft.datawrangler.viewer.v0+json": {
       "columns": [
        {
         "name": "index",
         "rawType": "int64",
         "type": "integer"
        },
        {
         "name": "Date",
         "rawType": "datetime64[ns]",
         "type": "datetime"
        },
        {
         "name": "Country",
         "rawType": "object",
         "type": "string"
        },
        {
         "name": "Death Confirmed",
         "rawType": "float64",
         "type": "float"
        },
        {
         "name": "Outbreak Case",
         "rawType": "float64",
         "type": "float"
        },
        {
         "name": "Year",
         "rawType": "int32",
         "type": "integer"
        },
        {
         "name": "Month",
         "rawType": "int32",
         "type": "integer"
        }
       ],
       "ref": "cfeb66fc-b066-458d-a312-db97755f05e1",
       "rows": [
        [
         "0",
         "2014-08-29 00:00:00",
         "Guinea",
         "430.0",
         "648.0",
         "2014",
         "8"
        ],
        [
         "1",
         "2014-08-29 00:00:00",
         "Liberia",
         "694.0",
         "1378.0",
         "2014",
         "8"
        ],
        [
         "2",
         "2014-08-29 00:00:00",
         "Nigeria",
         "7.0",
         "19.0",
         "2014",
         "8"
        ],
        [
         "3",
         "2014-08-29 00:00:00",
         "Sierra Leone",
         "422.0",
         "1026.0",
         "2014",
         "8"
        ],
        [
         "4",
         "2014-09-05 00:00:00",
         "Guinea",
         "517.0",
         "812.0",
         "2014",
         "9"
        ],
        [
         "5",
         "2014-09-05 00:00:00",
         "Liberia",
         "1089.0",
         "1871.0",
         "2014",
         "9"
        ],
        [
         "6",
         "2014-09-05 00:00:00",
         "Nigeria",
         "8.0",
         "22.0",
         "2014",
         "9"
        ],
        [
         "7",
         "2014-09-05 00:00:00",
         "Senegal",
         "0.0",
         "1.0",
         "2014",
         "9"
        ],
        [
         "8",
         "2014-09-05 00:00:00",
         "Sierra Leone",
         "491.0",
         "1261.0",
         "2014",
         "9"
        ],
        [
         "9",
         "2014-09-08 00:00:00",
         "Guinea",
         "555.0",
         "862.0",
         "2014",
         "9"
        ],
        [
         "10",
         "2014-09-08 00:00:00",
         "Liberia",
         "1224.0",
         "2046.0",
         "2014",
         "9"
        ],
        [
         "11",
         "2014-09-08 00:00:00",
         "Nigeria",
         "8.0",
         "21.0",
         "2014",
         "9"
        ],
        [
         "12",
         "2014-09-08 00:00:00",
         "Senegal",
         "0.0",
         "3.0",
         "2014",
         "9"
        ],
        [
         "13",
         "2014-09-08 00:00:00",
         "Sierra Leone",
         "509.0",
         "1361.0",
         "2014",
         "9"
        ],
        [
         "14",
         "2014-09-12 00:00:00",
         "Guinea",
         "557.0",
         "861.0",
         "2014",
         "9"
        ],
        [
         "15",
         "2014-09-12 00:00:00",
         "Liberia",
         "1137.0",
         "2081.0",
         "2014",
         "9"
        ],
        [
         "16",
         "2014-09-12 00:00:00",
         "Nigeria",
         "8.0",
         "21.0",
         "2014",
         "9"
        ],
        [
         "17",
         "2014-09-12 00:00:00",
         "Senegal",
         "0.0",
         "3.0",
         "2014",
         "9"
        ],
        [
         "18",
         "2014-09-12 00:00:00",
         "Sierra Leone",
         "524.0",
         "1424.0",
         "2014",
         "9"
        ],
        [
         "19",
         "2014-09-16 00:00:00",
         "Guinea",
         "595.0",
         "936.0",
         "2014",
         "9"
        ],
        [
         "20",
         "2014-09-16 00:00:00",
         "Liberia",
         "1296.0",
         "2407.0",
         "2014",
         "9"
        ],
        [
         "21",
         "2014-09-16 00:00:00",
         "Nigeria",
         "8.0",
         "21.0",
         "2014",
         "9"
        ],
        [
         "22",
         "2014-09-16 00:00:00",
         "Senegal",
         "0.0",
         "1.0",
         "2014",
         "9"
        ],
        [
         "23",
         "2014-09-16 00:00:00",
         "Sierra Leone",
         "562.0",
         "1620.0",
         "2014",
         "9"
        ],
        [
         "24",
         "2014-09-18 00:00:00",
         "Guinea",
         "601.0",
         "942.0",
         "2014",
         "9"
        ],
        [
         "25",
         "2014-09-18 00:00:00",
         "Liberia",
         "1459.0",
         "2710.0",
         "2014",
         "9"
        ],
        [
         "26",
         "2014-09-18 00:00:00",
         "Nigeria",
         "8.0",
         "21.0",
         "2014",
         "9"
        ],
        [
         "27",
         "2014-09-18 00:00:00",
         "Senegal",
         "0.0",
         "1.0",
         "2014",
         "9"
        ],
        [
         "28",
         "2014-09-18 00:00:00",
         "Sierra Leone",
         "562.0",
         "1673.0",
         "2014",
         "9"
        ],
        [
         "29",
         "2014-09-22 00:00:00",
         "Guinea",
         "632.0",
         "1008.0",
         "2014",
         "9"
        ],
        [
         "30",
         "2014-09-22 00:00:00",
         "Liberia",
         "1578.0",
         "3022.0",
         "2014",
         "9"
        ],
        [
         "31",
         "2014-09-22 00:00:00",
         "Nigeria",
         "8.0",
         "20.0",
         "2014",
         "9"
        ],
        [
         "32",
         "2014-09-22 00:00:00",
         "Senegal",
         "0.0",
         "1.0",
         "2014",
         "9"
        ],
        [
         "33",
         "2014-09-22 00:00:00",
         "Sierra Leone",
         "593.0",
         "1813.0",
         "2014",
         "9"
        ],
        [
         "34",
         "2014-09-24 00:00:00",
         "Guinea",
         "635.0",
         "1022.0",
         "2014",
         "9"
        ],
        [
         "35",
         "2014-09-24 00:00:00",
         "Liberia",
         "1677.0",
         "3280.0",
         "2014",
         "9"
        ],
        [
         "36",
         "2014-09-24 00:00:00",
         "Nigeria",
         "8.0",
         "20.0",
         "2014",
         "9"
        ],
        [
         "37",
         "2014-09-24 00:00:00",
         "Senegal",
         "0.0",
         "1.0",
         "2014",
         "9"
        ],
        [
         "38",
         "2014-09-24 00:00:00",
         "Sierra Leone",
         "597.0",
         "1940.0",
         "2014",
         "9"
        ],
        [
         "39",
         "2014-09-26 00:00:00",
         "Guinea",
         "648.0",
         "1074.0",
         "2014",
         "9"
        ],
        [
         "40",
         "2014-09-26 00:00:00",
         "Liberia",
         "1830.0",
         "3458.0",
         "2014",
         "9"
        ],
        [
         "41",
         "2014-09-26 00:00:00",
         "Nigeria",
         "8.0",
         "20.0",
         "2014",
         "9"
        ],
        [
         "42",
         "2014-09-26 00:00:00",
         "Senegal",
         "0.0",
         "1.0",
         "2014",
         "9"
        ],
        [
         "43",
         "2014-09-26 00:00:00",
         "Sierra Leone",
         "605.0",
         "2021.0",
         "2014",
         "9"
        ],
        [
         "44",
         "2014-10-01 00:00:00",
         "Guinea",
         "710.0",
         "1157.0",
         "2014",
         "10"
        ],
        [
         "45",
         "2014-10-01 00:00:00",
         "Liberia",
         "1998.0",
         "3696.0",
         "2014",
         "10"
        ],
        [
         "46",
         "2014-10-01 00:00:00",
         "Nigeria",
         "8.0",
         "20.0",
         "2014",
         "10"
        ],
        [
         "47",
         "2014-10-01 00:00:00",
         "Senegal",
         "0.0",
         "1.0",
         "2014",
         "10"
        ],
        [
         "48",
         "2014-10-01 00:00:00",
         "Sierra Leone",
         "622.0",
         "2304.0",
         "2014",
         "10"
        ],
        [
         "49",
         "2014-10-03 00:00:00",
         "Guinea",
         "739.0",
         "1199.0",
         "2014",
         "10"
        ]
       ],
       "shape": {
        "columns": 6,
        "rows": 2379
       }
      },
      "text/html": [
       "<div>\n",
       "<style scoped>\n",
       "    .dataframe tbody tr th:only-of-type {\n",
       "        vertical-align: middle;\n",
       "    }\n",
       "\n",
       "    .dataframe tbody tr th {\n",
       "        vertical-align: top;\n",
       "    }\n",
       "\n",
       "    .dataframe thead th {\n",
       "        text-align: right;\n",
       "    }\n",
       "</style>\n",
       "<table border=\"1\" class=\"dataframe\">\n",
       "  <thead>\n",
       "    <tr style=\"text-align: right;\">\n",
       "      <th></th>\n",
       "      <th>Date</th>\n",
       "      <th>Country</th>\n",
       "      <th>Death Confirmed</th>\n",
       "      <th>Outbreak Case</th>\n",
       "      <th>Year</th>\n",
       "      <th>Month</th>\n",
       "    </tr>\n",
       "  </thead>\n",
       "  <tbody>\n",
       "    <tr>\n",
       "      <th>0</th>\n",
       "      <td>2014-08-29</td>\n",
       "      <td>Guinea</td>\n",
       "      <td>430.0</td>\n",
       "      <td>648.0</td>\n",
       "      <td>2014</td>\n",
       "      <td>8</td>\n",
       "    </tr>\n",
       "    <tr>\n",
       "      <th>1</th>\n",
       "      <td>2014-08-29</td>\n",
       "      <td>Liberia</td>\n",
       "      <td>694.0</td>\n",
       "      <td>1378.0</td>\n",
       "      <td>2014</td>\n",
       "      <td>8</td>\n",
       "    </tr>\n",
       "    <tr>\n",
       "      <th>2</th>\n",
       "      <td>2014-08-29</td>\n",
       "      <td>Nigeria</td>\n",
       "      <td>7.0</td>\n",
       "      <td>19.0</td>\n",
       "      <td>2014</td>\n",
       "      <td>8</td>\n",
       "    </tr>\n",
       "    <tr>\n",
       "      <th>3</th>\n",
       "      <td>2014-08-29</td>\n",
       "      <td>Sierra Leone</td>\n",
       "      <td>422.0</td>\n",
       "      <td>1026.0</td>\n",
       "      <td>2014</td>\n",
       "      <td>8</td>\n",
       "    </tr>\n",
       "    <tr>\n",
       "      <th>4</th>\n",
       "      <td>2014-09-05</td>\n",
       "      <td>Guinea</td>\n",
       "      <td>517.0</td>\n",
       "      <td>812.0</td>\n",
       "      <td>2014</td>\n",
       "      <td>9</td>\n",
       "    </tr>\n",
       "    <tr>\n",
       "      <th>...</th>\n",
       "      <td>...</td>\n",
       "      <td>...</td>\n",
       "      <td>...</td>\n",
       "      <td>...</td>\n",
       "      <td>...</td>\n",
       "      <td>...</td>\n",
       "    </tr>\n",
       "    <tr>\n",
       "      <th>2374</th>\n",
       "      <td>2016-03-23</td>\n",
       "      <td>Senegal</td>\n",
       "      <td>0.0</td>\n",
       "      <td>1.0</td>\n",
       "      <td>2016</td>\n",
       "      <td>3</td>\n",
       "    </tr>\n",
       "    <tr>\n",
       "      <th>2375</th>\n",
       "      <td>2016-03-23</td>\n",
       "      <td>Sierra Leone</td>\n",
       "      <td>3955.0</td>\n",
       "      <td>14122.0</td>\n",
       "      <td>2016</td>\n",
       "      <td>3</td>\n",
       "    </tr>\n",
       "    <tr>\n",
       "      <th>2376</th>\n",
       "      <td>2016-03-23</td>\n",
       "      <td>Spain</td>\n",
       "      <td>0.0</td>\n",
       "      <td>1.0</td>\n",
       "      <td>2016</td>\n",
       "      <td>3</td>\n",
       "    </tr>\n",
       "    <tr>\n",
       "      <th>2377</th>\n",
       "      <td>2016-03-23</td>\n",
       "      <td>United Kingdom</td>\n",
       "      <td>0.0</td>\n",
       "      <td>1.0</td>\n",
       "      <td>2016</td>\n",
       "      <td>3</td>\n",
       "    </tr>\n",
       "    <tr>\n",
       "      <th>2378</th>\n",
       "      <td>2016-03-23</td>\n",
       "      <td>United States of America</td>\n",
       "      <td>1.0</td>\n",
       "      <td>4.0</td>\n",
       "      <td>2016</td>\n",
       "      <td>3</td>\n",
       "    </tr>\n",
       "  </tbody>\n",
       "</table>\n",
       "<p>2379 rows × 6 columns</p>\n",
       "</div>"
      ],
      "text/plain": [
       "           Date                   Country  Death Confirmed  Outbreak Case  \\\n",
       "0    2014-08-29                    Guinea            430.0          648.0   \n",
       "1    2014-08-29                   Liberia            694.0         1378.0   \n",
       "2    2014-08-29                   Nigeria              7.0           19.0   \n",
       "3    2014-08-29              Sierra Leone            422.0         1026.0   \n",
       "4    2014-09-05                    Guinea            517.0          812.0   \n",
       "...         ...                       ...              ...            ...   \n",
       "2374 2016-03-23                   Senegal              0.0            1.0   \n",
       "2375 2016-03-23              Sierra Leone           3955.0        14122.0   \n",
       "2376 2016-03-23                     Spain              0.0            1.0   \n",
       "2377 2016-03-23            United Kingdom              0.0            1.0   \n",
       "2378 2016-03-23  United States of America              1.0            4.0   \n",
       "\n",
       "      Year  Month  \n",
       "0     2014      8  \n",
       "1     2014      8  \n",
       "2     2014      8  \n",
       "3     2014      8  \n",
       "4     2014      9  \n",
       "...    ...    ...  \n",
       "2374  2016      3  \n",
       "2375  2016      3  \n",
       "2376  2016      3  \n",
       "2377  2016      3  \n",
       "2378  2016      3  \n",
       "\n",
       "[2379 rows x 6 columns]"
      ]
     },
     "execution_count": 37,
     "metadata": {},
     "output_type": "execute_result"
    }
   ],
   "source": [
    "Report"
   ]
  },
  {
   "cell_type": "code",
   "execution_count": 38,
   "id": "662c1337",
   "metadata": {},
   "outputs": [],
   "source": [
    "monthReport = Report.groupby([\"Month\"])[['Death Confirmed', 'Outbreak Case']].sum()"
   ]
  },
  {
   "cell_type": "code",
   "execution_count": 39,
   "id": "3c2b24c2",
   "metadata": {},
   "outputs": [],
   "source": [
    "monthReport.reset_index(inplace=True)"
   ]
  },
  {
   "cell_type": "code",
   "execution_count": 40,
   "id": "abb0bb8f",
   "metadata": {},
   "outputs": [
    {
     "data": {
      "application/vnd.microsoft.datawrangler.viewer.v0+json": {
       "columns": [
        {
         "name": "index",
         "rawType": "int64",
         "type": "integer"
        },
        {
         "name": "Month",
         "rawType": "int32",
         "type": "integer"
        },
        {
         "name": "Death Confirmed",
         "rawType": "float64",
         "type": "float"
        },
        {
         "name": "Outbreak Case",
         "rawType": "float64",
         "type": "float"
        }
       ],
       "ref": "535cc852-bd89-4ebc-b726-2bf66d181a50",
       "rows": [
        [
         "0",
         "1",
         "178640.0",
         "450228.0"
        ],
        [
         "1",
         "2",
         "167259.0",
         "415694.0"
        ],
        [
         "2",
         "3",
         "183034.0",
         "445565.0"
        ],
        [
         "3",
         "4",
         "161191.0",
         "388932.0"
        ],
        [
         "4",
         "5",
         "232726.0",
         "563297.0"
        ],
        [
         "5",
         "6",
         "246198.0",
         "601666.0"
        ],
        [
         "6",
         "7",
         "259330.0",
         "637051.0"
        ],
        [
         "7",
         "8",
         "238843.0",
         "590896.0"
        ],
        [
         "8",
         "9",
         "269307.0",
         "663387.0"
        ],
        [
         "9",
         "10",
         "235704.0",
         "581248.0"
        ],
        [
         "10",
         "11",
         "161137.0",
         "416177.0"
        ],
        [
         "11",
         "12",
         "222075.0",
         "571321.0"
        ]
       ],
       "shape": {
        "columns": 3,
        "rows": 12
       }
      },
      "text/html": [
       "<div>\n",
       "<style scoped>\n",
       "    .dataframe tbody tr th:only-of-type {\n",
       "        vertical-align: middle;\n",
       "    }\n",
       "\n",
       "    .dataframe tbody tr th {\n",
       "        vertical-align: top;\n",
       "    }\n",
       "\n",
       "    .dataframe thead th {\n",
       "        text-align: right;\n",
       "    }\n",
       "</style>\n",
       "<table border=\"1\" class=\"dataframe\">\n",
       "  <thead>\n",
       "    <tr style=\"text-align: right;\">\n",
       "      <th></th>\n",
       "      <th>Month</th>\n",
       "      <th>Death Confirmed</th>\n",
       "      <th>Outbreak Case</th>\n",
       "    </tr>\n",
       "  </thead>\n",
       "  <tbody>\n",
       "    <tr>\n",
       "      <th>0</th>\n",
       "      <td>1</td>\n",
       "      <td>178640.0</td>\n",
       "      <td>450228.0</td>\n",
       "    </tr>\n",
       "    <tr>\n",
       "      <th>1</th>\n",
       "      <td>2</td>\n",
       "      <td>167259.0</td>\n",
       "      <td>415694.0</td>\n",
       "    </tr>\n",
       "    <tr>\n",
       "      <th>2</th>\n",
       "      <td>3</td>\n",
       "      <td>183034.0</td>\n",
       "      <td>445565.0</td>\n",
       "    </tr>\n",
       "    <tr>\n",
       "      <th>3</th>\n",
       "      <td>4</td>\n",
       "      <td>161191.0</td>\n",
       "      <td>388932.0</td>\n",
       "    </tr>\n",
       "    <tr>\n",
       "      <th>4</th>\n",
       "      <td>5</td>\n",
       "      <td>232726.0</td>\n",
       "      <td>563297.0</td>\n",
       "    </tr>\n",
       "    <tr>\n",
       "      <th>5</th>\n",
       "      <td>6</td>\n",
       "      <td>246198.0</td>\n",
       "      <td>601666.0</td>\n",
       "    </tr>\n",
       "    <tr>\n",
       "      <th>6</th>\n",
       "      <td>7</td>\n",
       "      <td>259330.0</td>\n",
       "      <td>637051.0</td>\n",
       "    </tr>\n",
       "    <tr>\n",
       "      <th>7</th>\n",
       "      <td>8</td>\n",
       "      <td>238843.0</td>\n",
       "      <td>590896.0</td>\n",
       "    </tr>\n",
       "    <tr>\n",
       "      <th>8</th>\n",
       "      <td>9</td>\n",
       "      <td>269307.0</td>\n",
       "      <td>663387.0</td>\n",
       "    </tr>\n",
       "    <tr>\n",
       "      <th>9</th>\n",
       "      <td>10</td>\n",
       "      <td>235704.0</td>\n",
       "      <td>581248.0</td>\n",
       "    </tr>\n",
       "    <tr>\n",
       "      <th>10</th>\n",
       "      <td>11</td>\n",
       "      <td>161137.0</td>\n",
       "      <td>416177.0</td>\n",
       "    </tr>\n",
       "    <tr>\n",
       "      <th>11</th>\n",
       "      <td>12</td>\n",
       "      <td>222075.0</td>\n",
       "      <td>571321.0</td>\n",
       "    </tr>\n",
       "  </tbody>\n",
       "</table>\n",
       "</div>"
      ],
      "text/plain": [
       "    Month  Death Confirmed  Outbreak Case\n",
       "0       1         178640.0       450228.0\n",
       "1       2         167259.0       415694.0\n",
       "2       3         183034.0       445565.0\n",
       "3       4         161191.0       388932.0\n",
       "4       5         232726.0       563297.0\n",
       "5       6         246198.0       601666.0\n",
       "6       7         259330.0       637051.0\n",
       "7       8         238843.0       590896.0\n",
       "8       9         269307.0       663387.0\n",
       "9      10         235704.0       581248.0\n",
       "10     11         161137.0       416177.0\n",
       "11     12         222075.0       571321.0"
      ]
     },
     "execution_count": 40,
     "metadata": {},
     "output_type": "execute_result"
    }
   ],
   "source": [
    "monthReport"
   ]
  },
  {
   "cell_type": "code",
   "execution_count": 41,
   "id": "77450637",
   "metadata": {},
   "outputs": [],
   "source": [
    "new_names = {\n",
    "    0: 'January',\n",
    "    1: 'February',\n",
    "    2: 'March',\n",
    "    3: 'April',\n",
    "    4: 'May',\n",
    "    5: 'june',\n",
    "    6: 'July',\n",
    "    7: 'August',\n",
    "    8: 'Sept',\n",
    "    9: 'Oct',\n",
    "    10: 'Nov',\n",
    "    11: 'Dec'\n",
    "}"
   ]
  },
  {
   "cell_type": "code",
   "execution_count": 42,
   "id": "f605827c",
   "metadata": {
    "scrolled": true
   },
   "outputs": [
    {
     "data": {
      "application/vnd.microsoft.datawrangler.viewer.v0+json": {
       "columns": [
        {
         "name": "index",
         "rawType": "int64",
         "type": "integer"
        },
        {
         "name": "Month",
         "rawType": "int32",
         "type": "integer"
        },
        {
         "name": "Death Confirmed",
         "rawType": "float64",
         "type": "float"
        },
        {
         "name": "Outbreak Case",
         "rawType": "float64",
         "type": "float"
        }
       ],
       "ref": "afaf49aa-a805-4bf0-9fc5-2d94c06eb735",
       "rows": [
        [
         "0",
         "1",
         "178640.0",
         "450228.0"
        ],
        [
         "1",
         "2",
         "167259.0",
         "415694.0"
        ],
        [
         "2",
         "3",
         "183034.0",
         "445565.0"
        ],
        [
         "3",
         "4",
         "161191.0",
         "388932.0"
        ],
        [
         "4",
         "5",
         "232726.0",
         "563297.0"
        ],
        [
         "5",
         "6",
         "246198.0",
         "601666.0"
        ],
        [
         "6",
         "7",
         "259330.0",
         "637051.0"
        ],
        [
         "7",
         "8",
         "238843.0",
         "590896.0"
        ],
        [
         "8",
         "9",
         "269307.0",
         "663387.0"
        ],
        [
         "9",
         "10",
         "235704.0",
         "581248.0"
        ],
        [
         "10",
         "11",
         "161137.0",
         "416177.0"
        ],
        [
         "11",
         "12",
         "222075.0",
         "571321.0"
        ]
       ],
       "shape": {
        "columns": 3,
        "rows": 12
       }
      },
      "text/html": [
       "<div>\n",
       "<style scoped>\n",
       "    .dataframe tbody tr th:only-of-type {\n",
       "        vertical-align: middle;\n",
       "    }\n",
       "\n",
       "    .dataframe tbody tr th {\n",
       "        vertical-align: top;\n",
       "    }\n",
       "\n",
       "    .dataframe thead th {\n",
       "        text-align: right;\n",
       "    }\n",
       "</style>\n",
       "<table border=\"1\" class=\"dataframe\">\n",
       "  <thead>\n",
       "    <tr style=\"text-align: right;\">\n",
       "      <th></th>\n",
       "      <th>Month</th>\n",
       "      <th>Death Confirmed</th>\n",
       "      <th>Outbreak Case</th>\n",
       "    </tr>\n",
       "  </thead>\n",
       "  <tbody>\n",
       "    <tr>\n",
       "      <th>0</th>\n",
       "      <td>1</td>\n",
       "      <td>178640.0</td>\n",
       "      <td>450228.0</td>\n",
       "    </tr>\n",
       "    <tr>\n",
       "      <th>1</th>\n",
       "      <td>2</td>\n",
       "      <td>167259.0</td>\n",
       "      <td>415694.0</td>\n",
       "    </tr>\n",
       "    <tr>\n",
       "      <th>2</th>\n",
       "      <td>3</td>\n",
       "      <td>183034.0</td>\n",
       "      <td>445565.0</td>\n",
       "    </tr>\n",
       "    <tr>\n",
       "      <th>3</th>\n",
       "      <td>4</td>\n",
       "      <td>161191.0</td>\n",
       "      <td>388932.0</td>\n",
       "    </tr>\n",
       "    <tr>\n",
       "      <th>4</th>\n",
       "      <td>5</td>\n",
       "      <td>232726.0</td>\n",
       "      <td>563297.0</td>\n",
       "    </tr>\n",
       "    <tr>\n",
       "      <th>5</th>\n",
       "      <td>6</td>\n",
       "      <td>246198.0</td>\n",
       "      <td>601666.0</td>\n",
       "    </tr>\n",
       "    <tr>\n",
       "      <th>6</th>\n",
       "      <td>7</td>\n",
       "      <td>259330.0</td>\n",
       "      <td>637051.0</td>\n",
       "    </tr>\n",
       "    <tr>\n",
       "      <th>7</th>\n",
       "      <td>8</td>\n",
       "      <td>238843.0</td>\n",
       "      <td>590896.0</td>\n",
       "    </tr>\n",
       "    <tr>\n",
       "      <th>8</th>\n",
       "      <td>9</td>\n",
       "      <td>269307.0</td>\n",
       "      <td>663387.0</td>\n",
       "    </tr>\n",
       "    <tr>\n",
       "      <th>9</th>\n",
       "      <td>10</td>\n",
       "      <td>235704.0</td>\n",
       "      <td>581248.0</td>\n",
       "    </tr>\n",
       "    <tr>\n",
       "      <th>10</th>\n",
       "      <td>11</td>\n",
       "      <td>161137.0</td>\n",
       "      <td>416177.0</td>\n",
       "    </tr>\n",
       "    <tr>\n",
       "      <th>11</th>\n",
       "      <td>12</td>\n",
       "      <td>222075.0</td>\n",
       "      <td>571321.0</td>\n",
       "    </tr>\n",
       "  </tbody>\n",
       "</table>\n",
       "</div>"
      ],
      "text/plain": [
       "    Month  Death Confirmed  Outbreak Case\n",
       "0       1         178640.0       450228.0\n",
       "1       2         167259.0       415694.0\n",
       "2       3         183034.0       445565.0\n",
       "3       4         161191.0       388932.0\n",
       "4       5         232726.0       563297.0\n",
       "5       6         246198.0       601666.0\n",
       "6       7         259330.0       637051.0\n",
       "7       8         238843.0       590896.0\n",
       "8       9         269307.0       663387.0\n",
       "9      10         235704.0       581248.0\n",
       "10     11         161137.0       416177.0\n",
       "11     12         222075.0       571321.0"
      ]
     },
     "execution_count": 42,
     "metadata": {},
     "output_type": "execute_result"
    }
   ],
   "source": [
    "monthReport"
   ]
  },
  {
   "cell_type": "code",
   "execution_count": 43,
   "id": "8c7294e7",
   "metadata": {
    "scrolled": true
   },
   "outputs": [],
   "source": [
    "monthReport = monthReport.rename(index=new_names)"
   ]
  },
  {
   "cell_type": "code",
   "execution_count": 44,
   "id": "e772901a",
   "metadata": {},
   "outputs": [
    {
     "data": {
      "application/vnd.microsoft.datawrangler.viewer.v0+json": {
       "columns": [
        {
         "name": "index",
         "rawType": "object",
         "type": "string"
        },
        {
         "name": "Month",
         "rawType": "int32",
         "type": "integer"
        },
        {
         "name": "Death Confirmed",
         "rawType": "float64",
         "type": "float"
        },
        {
         "name": "Outbreak Case",
         "rawType": "float64",
         "type": "float"
        }
       ],
       "ref": "77b5ef30-9879-412f-899f-ac913fa66df6",
       "rows": [
        [
         "January",
         "1",
         "178640.0",
         "450228.0"
        ],
        [
         "February",
         "2",
         "167259.0",
         "415694.0"
        ],
        [
         "March",
         "3",
         "183034.0",
         "445565.0"
        ],
        [
         "April",
         "4",
         "161191.0",
         "388932.0"
        ],
        [
         "May",
         "5",
         "232726.0",
         "563297.0"
        ],
        [
         "june",
         "6",
         "246198.0",
         "601666.0"
        ],
        [
         "July",
         "7",
         "259330.0",
         "637051.0"
        ],
        [
         "August",
         "8",
         "238843.0",
         "590896.0"
        ],
        [
         "Sept",
         "9",
         "269307.0",
         "663387.0"
        ],
        [
         "Oct",
         "10",
         "235704.0",
         "581248.0"
        ],
        [
         "Nov",
         "11",
         "161137.0",
         "416177.0"
        ],
        [
         "Dec",
         "12",
         "222075.0",
         "571321.0"
        ]
       ],
       "shape": {
        "columns": 3,
        "rows": 12
       }
      },
      "text/html": [
       "<div>\n",
       "<style scoped>\n",
       "    .dataframe tbody tr th:only-of-type {\n",
       "        vertical-align: middle;\n",
       "    }\n",
       "\n",
       "    .dataframe tbody tr th {\n",
       "        vertical-align: top;\n",
       "    }\n",
       "\n",
       "    .dataframe thead th {\n",
       "        text-align: right;\n",
       "    }\n",
       "</style>\n",
       "<table border=\"1\" class=\"dataframe\">\n",
       "  <thead>\n",
       "    <tr style=\"text-align: right;\">\n",
       "      <th></th>\n",
       "      <th>Month</th>\n",
       "      <th>Death Confirmed</th>\n",
       "      <th>Outbreak Case</th>\n",
       "    </tr>\n",
       "  </thead>\n",
       "  <tbody>\n",
       "    <tr>\n",
       "      <th>January</th>\n",
       "      <td>1</td>\n",
       "      <td>178640.0</td>\n",
       "      <td>450228.0</td>\n",
       "    </tr>\n",
       "    <tr>\n",
       "      <th>February</th>\n",
       "      <td>2</td>\n",
       "      <td>167259.0</td>\n",
       "      <td>415694.0</td>\n",
       "    </tr>\n",
       "    <tr>\n",
       "      <th>March</th>\n",
       "      <td>3</td>\n",
       "      <td>183034.0</td>\n",
       "      <td>445565.0</td>\n",
       "    </tr>\n",
       "    <tr>\n",
       "      <th>April</th>\n",
       "      <td>4</td>\n",
       "      <td>161191.0</td>\n",
       "      <td>388932.0</td>\n",
       "    </tr>\n",
       "    <tr>\n",
       "      <th>May</th>\n",
       "      <td>5</td>\n",
       "      <td>232726.0</td>\n",
       "      <td>563297.0</td>\n",
       "    </tr>\n",
       "    <tr>\n",
       "      <th>june</th>\n",
       "      <td>6</td>\n",
       "      <td>246198.0</td>\n",
       "      <td>601666.0</td>\n",
       "    </tr>\n",
       "    <tr>\n",
       "      <th>July</th>\n",
       "      <td>7</td>\n",
       "      <td>259330.0</td>\n",
       "      <td>637051.0</td>\n",
       "    </tr>\n",
       "    <tr>\n",
       "      <th>August</th>\n",
       "      <td>8</td>\n",
       "      <td>238843.0</td>\n",
       "      <td>590896.0</td>\n",
       "    </tr>\n",
       "    <tr>\n",
       "      <th>Sept</th>\n",
       "      <td>9</td>\n",
       "      <td>269307.0</td>\n",
       "      <td>663387.0</td>\n",
       "    </tr>\n",
       "    <tr>\n",
       "      <th>Oct</th>\n",
       "      <td>10</td>\n",
       "      <td>235704.0</td>\n",
       "      <td>581248.0</td>\n",
       "    </tr>\n",
       "    <tr>\n",
       "      <th>Nov</th>\n",
       "      <td>11</td>\n",
       "      <td>161137.0</td>\n",
       "      <td>416177.0</td>\n",
       "    </tr>\n",
       "    <tr>\n",
       "      <th>Dec</th>\n",
       "      <td>12</td>\n",
       "      <td>222075.0</td>\n",
       "      <td>571321.0</td>\n",
       "    </tr>\n",
       "  </tbody>\n",
       "</table>\n",
       "</div>"
      ],
      "text/plain": [
       "          Month  Death Confirmed  Outbreak Case\n",
       "January       1         178640.0       450228.0\n",
       "February      2         167259.0       415694.0\n",
       "March         3         183034.0       445565.0\n",
       "April         4         161191.0       388932.0\n",
       "May           5         232726.0       563297.0\n",
       "june          6         246198.0       601666.0\n",
       "July          7         259330.0       637051.0\n",
       "August        8         238843.0       590896.0\n",
       "Sept          9         269307.0       663387.0\n",
       "Oct          10         235704.0       581248.0\n",
       "Nov          11         161137.0       416177.0\n",
       "Dec          12         222075.0       571321.0"
      ]
     },
     "execution_count": 44,
     "metadata": {},
     "output_type": "execute_result"
    }
   ],
   "source": [
    "monthReport"
   ]
  },
  {
   "cell_type": "code",
   "execution_count": 58,
   "id": "e03c4af7",
   "metadata": {},
   "outputs": [],
   "source": [
    "monthReport.to_csv(\"month report.csv\")"
   ]
  },
  {
   "cell_type": "code",
   "execution_count": 45,
   "id": "a20cd3ae",
   "metadata": {},
   "outputs": [],
   "source": [
    "monthReport.drop(columns = \"Month\", inplace= True)"
   ]
  },
  {
   "cell_type": "code",
   "execution_count": 46,
   "id": "ce70a099",
   "metadata": {},
   "outputs": [],
   "source": [
    "monthReport.index.name = 'Month'"
   ]
  },
  {
   "cell_type": "code",
   "execution_count": 47,
   "id": "baad4d30",
   "metadata": {},
   "outputs": [],
   "source": [
    "monthReport.reset_index(inplace=True)"
   ]
  },
  {
   "cell_type": "code",
   "execution_count": 48,
   "id": "82d1aef6",
   "metadata": {},
   "outputs": [
    {
     "data": {
      "application/vnd.microsoft.datawrangler.viewer.v0+json": {
       "columns": [
        {
         "name": "index",
         "rawType": "int64",
         "type": "integer"
        },
        {
         "name": "Month",
         "rawType": "object",
         "type": "string"
        },
        {
         "name": "Death Confirmed",
         "rawType": "float64",
         "type": "float"
        },
        {
         "name": "Outbreak Case",
         "rawType": "float64",
         "type": "float"
        }
       ],
       "ref": "f253e5e6-ee29-4eab-9a8d-44f565e1ed04",
       "rows": [
        [
         "0",
         "January",
         "178640.0",
         "450228.0"
        ],
        [
         "1",
         "February",
         "167259.0",
         "415694.0"
        ],
        [
         "2",
         "March",
         "183034.0",
         "445565.0"
        ],
        [
         "3",
         "April",
         "161191.0",
         "388932.0"
        ],
        [
         "4",
         "May",
         "232726.0",
         "563297.0"
        ],
        [
         "5",
         "june",
         "246198.0",
         "601666.0"
        ],
        [
         "6",
         "July",
         "259330.0",
         "637051.0"
        ],
        [
         "7",
         "August",
         "238843.0",
         "590896.0"
        ],
        [
         "8",
         "Sept",
         "269307.0",
         "663387.0"
        ],
        [
         "9",
         "Oct",
         "235704.0",
         "581248.0"
        ],
        [
         "10",
         "Nov",
         "161137.0",
         "416177.0"
        ],
        [
         "11",
         "Dec",
         "222075.0",
         "571321.0"
        ]
       ],
       "shape": {
        "columns": 3,
        "rows": 12
       }
      },
      "text/html": [
       "<div>\n",
       "<style scoped>\n",
       "    .dataframe tbody tr th:only-of-type {\n",
       "        vertical-align: middle;\n",
       "    }\n",
       "\n",
       "    .dataframe tbody tr th {\n",
       "        vertical-align: top;\n",
       "    }\n",
       "\n",
       "    .dataframe thead th {\n",
       "        text-align: right;\n",
       "    }\n",
       "</style>\n",
       "<table border=\"1\" class=\"dataframe\">\n",
       "  <thead>\n",
       "    <tr style=\"text-align: right;\">\n",
       "      <th></th>\n",
       "      <th>Month</th>\n",
       "      <th>Death Confirmed</th>\n",
       "      <th>Outbreak Case</th>\n",
       "    </tr>\n",
       "  </thead>\n",
       "  <tbody>\n",
       "    <tr>\n",
       "      <th>0</th>\n",
       "      <td>January</td>\n",
       "      <td>178640.0</td>\n",
       "      <td>450228.0</td>\n",
       "    </tr>\n",
       "    <tr>\n",
       "      <th>1</th>\n",
       "      <td>February</td>\n",
       "      <td>167259.0</td>\n",
       "      <td>415694.0</td>\n",
       "    </tr>\n",
       "    <tr>\n",
       "      <th>2</th>\n",
       "      <td>March</td>\n",
       "      <td>183034.0</td>\n",
       "      <td>445565.0</td>\n",
       "    </tr>\n",
       "    <tr>\n",
       "      <th>3</th>\n",
       "      <td>April</td>\n",
       "      <td>161191.0</td>\n",
       "      <td>388932.0</td>\n",
       "    </tr>\n",
       "    <tr>\n",
       "      <th>4</th>\n",
       "      <td>May</td>\n",
       "      <td>232726.0</td>\n",
       "      <td>563297.0</td>\n",
       "    </tr>\n",
       "    <tr>\n",
       "      <th>5</th>\n",
       "      <td>june</td>\n",
       "      <td>246198.0</td>\n",
       "      <td>601666.0</td>\n",
       "    </tr>\n",
       "    <tr>\n",
       "      <th>6</th>\n",
       "      <td>July</td>\n",
       "      <td>259330.0</td>\n",
       "      <td>637051.0</td>\n",
       "    </tr>\n",
       "    <tr>\n",
       "      <th>7</th>\n",
       "      <td>August</td>\n",
       "      <td>238843.0</td>\n",
       "      <td>590896.0</td>\n",
       "    </tr>\n",
       "    <tr>\n",
       "      <th>8</th>\n",
       "      <td>Sept</td>\n",
       "      <td>269307.0</td>\n",
       "      <td>663387.0</td>\n",
       "    </tr>\n",
       "    <tr>\n",
       "      <th>9</th>\n",
       "      <td>Oct</td>\n",
       "      <td>235704.0</td>\n",
       "      <td>581248.0</td>\n",
       "    </tr>\n",
       "    <tr>\n",
       "      <th>10</th>\n",
       "      <td>Nov</td>\n",
       "      <td>161137.0</td>\n",
       "      <td>416177.0</td>\n",
       "    </tr>\n",
       "    <tr>\n",
       "      <th>11</th>\n",
       "      <td>Dec</td>\n",
       "      <td>222075.0</td>\n",
       "      <td>571321.0</td>\n",
       "    </tr>\n",
       "  </tbody>\n",
       "</table>\n",
       "</div>"
      ],
      "text/plain": [
       "       Month  Death Confirmed  Outbreak Case\n",
       "0    January         178640.0       450228.0\n",
       "1   February         167259.0       415694.0\n",
       "2      March         183034.0       445565.0\n",
       "3      April         161191.0       388932.0\n",
       "4        May         232726.0       563297.0\n",
       "5       june         246198.0       601666.0\n",
       "6       July         259330.0       637051.0\n",
       "7     August         238843.0       590896.0\n",
       "8       Sept         269307.0       663387.0\n",
       "9        Oct         235704.0       581248.0\n",
       "10       Nov         161137.0       416177.0\n",
       "11       Dec         222075.0       571321.0"
      ]
     },
     "execution_count": 48,
     "metadata": {},
     "output_type": "execute_result"
    }
   ],
   "source": [
    "monthReport\n"
   ]
  },
  {
   "cell_type": "markdown",
   "id": "d64dbfb6",
   "metadata": {},
   "source": [
    "## Overview\n",
    "This dataset presents the **monthly distribution** of confirmed deaths and outbreak cases. It provides insight into the trend of the Ebola outbreak over a year.\n",
    "\n",
    "## Key Observations\n",
    "- **Peak outbreak cases** occurred in **September (663,387 cases)**, followed closely by **July (637,051 cases)** and **June (601,666 cases)**.\n",
    "- **The highest number of confirmed deaths** was in **September (269,307 deaths)**, aligning with the peak outbreak cases.\n",
    "- **February recorded the lowest confirmed deaths (167,259)** and one of the lowest outbreak cases (415,694).\n",
    "- **A general upward trend** is observed in outbreak cases from January to September, followed by a decline in the later months.\n",
    "\n",
    "## Insights\n",
    "- The outbreak **intensified between May and September**, peaking in **September** before gradually declining.\n",
    "- A **strong correlation** between confirmed deaths and outbreak cases suggests **high fatality rates** throughout the year.\n",
    "- **Intervention measures might have been more effective post-September**, as indicated by the gradual decrease in outbreak cases.\n",
    "\n",
    "## Conclusion\n",
    "The **Ebola outbreak followed a seasonal pattern**, with **rising cases mid-year, peaking in September, and declining towards year-end**. This analysis highlights the need for **proactive healthcare strategies before peak seasons** to mitigate fatality rates.\n"
   ]
  },
  {
   "cell_type": "code",
   "execution_count": 49,
   "id": "1729acf2",
   "metadata": {
    "scrolled": true
   },
   "outputs": [
    {
     "data": {
      "application/vnd.plotly.v1+json": {
       "config": {
        "plotlyServerURL": "https://plot.ly"
       },
       "data": [
        {
         "fill": "tozeroy",
         "line": {
          "color": "pink"
         },
         "type": "scatter",
         "x": [
          "January",
          "February",
          "March",
          "April",
          "May",
          "june",
          "July",
          "August",
          "Sept",
          "Oct",
          "Nov",
          "Dec"
         ],
         "y": [
          178640,
          167259,
          183034,
          161191,
          232726,
          246198,
          259330,
          238843,
          269307,
          235704,
          161137,
          222075
         ]
        }
       ],
       "layout": {
        "template": {
         "data": {
          "bar": [
           {
            "error_x": {
             "color": "#2a3f5f"
            },
            "error_y": {
             "color": "#2a3f5f"
            },
            "marker": {
             "line": {
              "color": "#E5ECF6",
              "width": 0.5
             },
             "pattern": {
              "fillmode": "overlay",
              "size": 10,
              "solidity": 0.2
             }
            },
            "type": "bar"
           }
          ],
          "barpolar": [
           {
            "marker": {
             "line": {
              "color": "#E5ECF6",
              "width": 0.5
             },
             "pattern": {
              "fillmode": "overlay",
              "size": 10,
              "solidity": 0.2
             }
            },
            "type": "barpolar"
           }
          ],
          "carpet": [
           {
            "aaxis": {
             "endlinecolor": "#2a3f5f",
             "gridcolor": "white",
             "linecolor": "white",
             "minorgridcolor": "white",
             "startlinecolor": "#2a3f5f"
            },
            "baxis": {
             "endlinecolor": "#2a3f5f",
             "gridcolor": "white",
             "linecolor": "white",
             "minorgridcolor": "white",
             "startlinecolor": "#2a3f5f"
            },
            "type": "carpet"
           }
          ],
          "choropleth": [
           {
            "colorbar": {
             "outlinewidth": 0,
             "ticks": ""
            },
            "type": "choropleth"
           }
          ],
          "contour": [
           {
            "colorbar": {
             "outlinewidth": 0,
             "ticks": ""
            },
            "colorscale": [
             [
              0,
              "#0d0887"
             ],
             [
              0.1111111111111111,
              "#46039f"
             ],
             [
              0.2222222222222222,
              "#7201a8"
             ],
             [
              0.3333333333333333,
              "#9c179e"
             ],
             [
              0.4444444444444444,
              "#bd3786"
             ],
             [
              0.5555555555555556,
              "#d8576b"
             ],
             [
              0.6666666666666666,
              "#ed7953"
             ],
             [
              0.7777777777777778,
              "#fb9f3a"
             ],
             [
              0.8888888888888888,
              "#fdca26"
             ],
             [
              1,
              "#f0f921"
             ]
            ],
            "type": "contour"
           }
          ],
          "contourcarpet": [
           {
            "colorbar": {
             "outlinewidth": 0,
             "ticks": ""
            },
            "type": "contourcarpet"
           }
          ],
          "heatmap": [
           {
            "colorbar": {
             "outlinewidth": 0,
             "ticks": ""
            },
            "colorscale": [
             [
              0,
              "#0d0887"
             ],
             [
              0.1111111111111111,
              "#46039f"
             ],
             [
              0.2222222222222222,
              "#7201a8"
             ],
             [
              0.3333333333333333,
              "#9c179e"
             ],
             [
              0.4444444444444444,
              "#bd3786"
             ],
             [
              0.5555555555555556,
              "#d8576b"
             ],
             [
              0.6666666666666666,
              "#ed7953"
             ],
             [
              0.7777777777777778,
              "#fb9f3a"
             ],
             [
              0.8888888888888888,
              "#fdca26"
             ],
             [
              1,
              "#f0f921"
             ]
            ],
            "type": "heatmap"
           }
          ],
          "heatmapgl": [
           {
            "colorbar": {
             "outlinewidth": 0,
             "ticks": ""
            },
            "colorscale": [
             [
              0,
              "#0d0887"
             ],
             [
              0.1111111111111111,
              "#46039f"
             ],
             [
              0.2222222222222222,
              "#7201a8"
             ],
             [
              0.3333333333333333,
              "#9c179e"
             ],
             [
              0.4444444444444444,
              "#bd3786"
             ],
             [
              0.5555555555555556,
              "#d8576b"
             ],
             [
              0.6666666666666666,
              "#ed7953"
             ],
             [
              0.7777777777777778,
              "#fb9f3a"
             ],
             [
              0.8888888888888888,
              "#fdca26"
             ],
             [
              1,
              "#f0f921"
             ]
            ],
            "type": "heatmapgl"
           }
          ],
          "histogram": [
           {
            "marker": {
             "pattern": {
              "fillmode": "overlay",
              "size": 10,
              "solidity": 0.2
             }
            },
            "type": "histogram"
           }
          ],
          "histogram2d": [
           {
            "colorbar": {
             "outlinewidth": 0,
             "ticks": ""
            },
            "colorscale": [
             [
              0,
              "#0d0887"
             ],
             [
              0.1111111111111111,
              "#46039f"
             ],
             [
              0.2222222222222222,
              "#7201a8"
             ],
             [
              0.3333333333333333,
              "#9c179e"
             ],
             [
              0.4444444444444444,
              "#bd3786"
             ],
             [
              0.5555555555555556,
              "#d8576b"
             ],
             [
              0.6666666666666666,
              "#ed7953"
             ],
             [
              0.7777777777777778,
              "#fb9f3a"
             ],
             [
              0.8888888888888888,
              "#fdca26"
             ],
             [
              1,
              "#f0f921"
             ]
            ],
            "type": "histogram2d"
           }
          ],
          "histogram2dcontour": [
           {
            "colorbar": {
             "outlinewidth": 0,
             "ticks": ""
            },
            "colorscale": [
             [
              0,
              "#0d0887"
             ],
             [
              0.1111111111111111,
              "#46039f"
             ],
             [
              0.2222222222222222,
              "#7201a8"
             ],
             [
              0.3333333333333333,
              "#9c179e"
             ],
             [
              0.4444444444444444,
              "#bd3786"
             ],
             [
              0.5555555555555556,
              "#d8576b"
             ],
             [
              0.6666666666666666,
              "#ed7953"
             ],
             [
              0.7777777777777778,
              "#fb9f3a"
             ],
             [
              0.8888888888888888,
              "#fdca26"
             ],
             [
              1,
              "#f0f921"
             ]
            ],
            "type": "histogram2dcontour"
           }
          ],
          "mesh3d": [
           {
            "colorbar": {
             "outlinewidth": 0,
             "ticks": ""
            },
            "type": "mesh3d"
           }
          ],
          "parcoords": [
           {
            "line": {
             "colorbar": {
              "outlinewidth": 0,
              "ticks": ""
             }
            },
            "type": "parcoords"
           }
          ],
          "pie": [
           {
            "automargin": true,
            "type": "pie"
           }
          ],
          "scatter": [
           {
            "fillpattern": {
             "fillmode": "overlay",
             "size": 10,
             "solidity": 0.2
            },
            "type": "scatter"
           }
          ],
          "scatter3d": [
           {
            "line": {
             "colorbar": {
              "outlinewidth": 0,
              "ticks": ""
             }
            },
            "marker": {
             "colorbar": {
              "outlinewidth": 0,
              "ticks": ""
             }
            },
            "type": "scatter3d"
           }
          ],
          "scattercarpet": [
           {
            "marker": {
             "colorbar": {
              "outlinewidth": 0,
              "ticks": ""
             }
            },
            "type": "scattercarpet"
           }
          ],
          "scattergeo": [
           {
            "marker": {
             "colorbar": {
              "outlinewidth": 0,
              "ticks": ""
             }
            },
            "type": "scattergeo"
           }
          ],
          "scattergl": [
           {
            "marker": {
             "colorbar": {
              "outlinewidth": 0,
              "ticks": ""
             }
            },
            "type": "scattergl"
           }
          ],
          "scattermapbox": [
           {
            "marker": {
             "colorbar": {
              "outlinewidth": 0,
              "ticks": ""
             }
            },
            "type": "scattermapbox"
           }
          ],
          "scatterpolar": [
           {
            "marker": {
             "colorbar": {
              "outlinewidth": 0,
              "ticks": ""
             }
            },
            "type": "scatterpolar"
           }
          ],
          "scatterpolargl": [
           {
            "marker": {
             "colorbar": {
              "outlinewidth": 0,
              "ticks": ""
             }
            },
            "type": "scatterpolargl"
           }
          ],
          "scatterternary": [
           {
            "marker": {
             "colorbar": {
              "outlinewidth": 0,
              "ticks": ""
             }
            },
            "type": "scatterternary"
           }
          ],
          "surface": [
           {
            "colorbar": {
             "outlinewidth": 0,
             "ticks": ""
            },
            "colorscale": [
             [
              0,
              "#0d0887"
             ],
             [
              0.1111111111111111,
              "#46039f"
             ],
             [
              0.2222222222222222,
              "#7201a8"
             ],
             [
              0.3333333333333333,
              "#9c179e"
             ],
             [
              0.4444444444444444,
              "#bd3786"
             ],
             [
              0.5555555555555556,
              "#d8576b"
             ],
             [
              0.6666666666666666,
              "#ed7953"
             ],
             [
              0.7777777777777778,
              "#fb9f3a"
             ],
             [
              0.8888888888888888,
              "#fdca26"
             ],
             [
              1,
              "#f0f921"
             ]
            ],
            "type": "surface"
           }
          ],
          "table": [
           {
            "cells": {
             "fill": {
              "color": "#EBF0F8"
             },
             "line": {
              "color": "white"
             }
            },
            "header": {
             "fill": {
              "color": "#C8D4E3"
             },
             "line": {
              "color": "white"
             }
            },
            "type": "table"
           }
          ]
         },
         "layout": {
          "annotationdefaults": {
           "arrowcolor": "#2a3f5f",
           "arrowhead": 0,
           "arrowwidth": 1
          },
          "autotypenumbers": "strict",
          "coloraxis": {
           "colorbar": {
            "outlinewidth": 0,
            "ticks": ""
           }
          },
          "colorscale": {
           "diverging": [
            [
             0,
             "#8e0152"
            ],
            [
             0.1,
             "#c51b7d"
            ],
            [
             0.2,
             "#de77ae"
            ],
            [
             0.3,
             "#f1b6da"
            ],
            [
             0.4,
             "#fde0ef"
            ],
            [
             0.5,
             "#f7f7f7"
            ],
            [
             0.6,
             "#e6f5d0"
            ],
            [
             0.7,
             "#b8e186"
            ],
            [
             0.8,
             "#7fbc41"
            ],
            [
             0.9,
             "#4d9221"
            ],
            [
             1,
             "#276419"
            ]
           ],
           "sequential": [
            [
             0,
             "#0d0887"
            ],
            [
             0.1111111111111111,
             "#46039f"
            ],
            [
             0.2222222222222222,
             "#7201a8"
            ],
            [
             0.3333333333333333,
             "#9c179e"
            ],
            [
             0.4444444444444444,
             "#bd3786"
            ],
            [
             0.5555555555555556,
             "#d8576b"
            ],
            [
             0.6666666666666666,
             "#ed7953"
            ],
            [
             0.7777777777777778,
             "#fb9f3a"
            ],
            [
             0.8888888888888888,
             "#fdca26"
            ],
            [
             1,
             "#f0f921"
            ]
           ],
           "sequentialminus": [
            [
             0,
             "#0d0887"
            ],
            [
             0.1111111111111111,
             "#46039f"
            ],
            [
             0.2222222222222222,
             "#7201a8"
            ],
            [
             0.3333333333333333,
             "#9c179e"
            ],
            [
             0.4444444444444444,
             "#bd3786"
            ],
            [
             0.5555555555555556,
             "#d8576b"
            ],
            [
             0.6666666666666666,
             "#ed7953"
            ],
            [
             0.7777777777777778,
             "#fb9f3a"
            ],
            [
             0.8888888888888888,
             "#fdca26"
            ],
            [
             1,
             "#f0f921"
            ]
           ]
          },
          "colorway": [
           "#636efa",
           "#EF553B",
           "#00cc96",
           "#ab63fa",
           "#FFA15A",
           "#19d3f3",
           "#FF6692",
           "#B6E880",
           "#FF97FF",
           "#FECB52"
          ],
          "font": {
           "color": "#2a3f5f"
          },
          "geo": {
           "bgcolor": "white",
           "lakecolor": "white",
           "landcolor": "#E5ECF6",
           "showlakes": true,
           "showland": true,
           "subunitcolor": "white"
          },
          "hoverlabel": {
           "align": "left"
          },
          "hovermode": "closest",
          "mapbox": {
           "style": "light"
          },
          "paper_bgcolor": "white",
          "plot_bgcolor": "#E5ECF6",
          "polar": {
           "angularaxis": {
            "gridcolor": "white",
            "linecolor": "white",
            "ticks": ""
           },
           "bgcolor": "#E5ECF6",
           "radialaxis": {
            "gridcolor": "white",
            "linecolor": "white",
            "ticks": ""
           }
          },
          "scene": {
           "xaxis": {
            "backgroundcolor": "#E5ECF6",
            "gridcolor": "white",
            "gridwidth": 2,
            "linecolor": "white",
            "showbackground": true,
            "ticks": "",
            "zerolinecolor": "white"
           },
           "yaxis": {
            "backgroundcolor": "#E5ECF6",
            "gridcolor": "white",
            "gridwidth": 2,
            "linecolor": "white",
            "showbackground": true,
            "ticks": "",
            "zerolinecolor": "white"
           },
           "zaxis": {
            "backgroundcolor": "#E5ECF6",
            "gridcolor": "white",
            "gridwidth": 2,
            "linecolor": "white",
            "showbackground": true,
            "ticks": "",
            "zerolinecolor": "white"
           }
          },
          "shapedefaults": {
           "line": {
            "color": "#2a3f5f"
           }
          },
          "ternary": {
           "aaxis": {
            "gridcolor": "white",
            "linecolor": "white",
            "ticks": ""
           },
           "baxis": {
            "gridcolor": "white",
            "linecolor": "white",
            "ticks": ""
           },
           "bgcolor": "#E5ECF6",
           "caxis": {
            "gridcolor": "white",
            "linecolor": "white",
            "ticks": ""
           }
          },
          "title": {
           "x": 0.05
          },
          "xaxis": {
           "automargin": true,
           "gridcolor": "white",
           "linecolor": "white",
           "ticks": "",
           "title": {
            "standoff": 15
           },
           "zerolinecolor": "white",
           "zerolinewidth": 2
          },
          "yaxis": {
           "automargin": true,
           "gridcolor": "white",
           "linecolor": "white",
           "ticks": "",
           "title": {
            "standoff": 15
           },
           "zerolinecolor": "white",
           "zerolinewidth": 2
          }
         }
        },
        "title": {
         "font": {
          "size": 20
         },
         "text": "Month Death Graph",
         "x": 0.5
        },
        "xaxis": {
         "title": {
          "text": "Month"
         }
        },
        "yaxis": {
         "title": {
          "text": "Death Confirmed"
         }
        }
       }
      }
     },
     "metadata": {},
     "output_type": "display_data"
    }
   ],
   "source": [
    "x = monthReport['Month']\n",
    "y = monthReport['Death Confirmed']\n",
    "\n",
    "\n",
    "fig = go.Figure(go.Scatter(x=x, y=y, fill='tozeroy', line=dict(color='pink')))\n",
    "\n",
    "\n",
    "fig.update_layout(title='Month Death Graph',\n",
    "                  xaxis_title='Month',\n",
    "                  yaxis_title='Death Confirmed')\n",
    "\n",
    "\n",
    "fig.update_layout(title_font=dict(size=20))\n",
    "fig.update_layout(title=dict(x=0.5))\n",
    "\n",
    "\n",
    "fig.show()\n"
   ]
  },
  {
   "cell_type": "code",
   "execution_count": 50,
   "id": "2eb1b1c0",
   "metadata": {
    "scrolled": true
   },
   "outputs": [
    {
     "data": {
      "application/vnd.microsoft.datawrangler.viewer.v0+json": {
       "columns": [
        {
         "name": "index",
         "rawType": "int64",
         "type": "integer"
        },
        {
         "name": "Year",
         "rawType": "int32",
         "type": "integer"
        },
        {
         "name": "Country",
         "rawType": "object",
         "type": "string"
        },
        {
         "name": "Death Confirmed",
         "rawType": "float64",
         "type": "float"
        },
        {
         "name": "Outbreak Case",
         "rawType": "float64",
         "type": "float"
        },
        {
         "name": "Survival",
         "rawType": "float64",
         "type": "float"
        }
       ],
       "ref": "b1b33d38-bee3-400f-8487-8e436811e205",
       "rows": [
        [
         "0",
         "2014",
         "Guinea",
         "40462.0",
         "66190.0",
         "25728.0"
        ],
        [
         "1",
         "2014",
         "Liberia",
         "95625.0",
         "210796.0",
         "115171.0"
        ],
        [
         "2",
         "2014",
         "Mali",
         "101.0",
         "129.0",
         "28.0"
        ],
        [
         "3",
         "2014",
         "Nigeria",
         "303.0",
         "765.0",
         "462.0"
        ],
        [
         "5",
         "2014",
         "Sierra Leone",
         "51945.0",
         "192291.0",
         "140346.0"
        ],
        [
         "8",
         "2015",
         "Guinea",
         "520071.0",
         "784124.0",
         "264053.0"
        ],
        [
         "10",
         "2015",
         "Liberia",
         "999395.0",
         "2237646.0",
         "1238251.0"
        ],
        [
         "11",
         "2015",
         "Mali",
         "1320.0",
         "1728.0",
         "408.0"
        ],
        [
         "12",
         "2015",
         "Nigeria",
         "1728.0",
         "4320.0",
         "2592.0"
        ],
        [
         "14",
         "2015",
         "Sierra Leone",
         "832934.0",
         "2797015.0",
         "1964081.0"
        ],
        [
         "17",
         "2015",
         "United States of America",
         "216.0",
         "864.0",
         "648.0"
        ],
        [
         "18",
         "2016",
         "Guinea",
         "2536.0",
         "3804.0",
         "1268.0"
        ],
        [
         "20",
         "2016",
         "Liberia",
         "4813.0",
         "10680.0",
         "5867.0"
        ],
        [
         "24",
         "2016",
         "Sierra Leone",
         "3955.0",
         "14122.0",
         "10167.0"
        ]
       ],
       "shape": {
        "columns": 5,
        "rows": 14
       }
      },
      "text/html": [
       "<div>\n",
       "<style scoped>\n",
       "    .dataframe tbody tr th:only-of-type {\n",
       "        vertical-align: middle;\n",
       "    }\n",
       "\n",
       "    .dataframe tbody tr th {\n",
       "        vertical-align: top;\n",
       "    }\n",
       "\n",
       "    .dataframe thead th {\n",
       "        text-align: right;\n",
       "    }\n",
       "</style>\n",
       "<table border=\"1\" class=\"dataframe\">\n",
       "  <thead>\n",
       "    <tr style=\"text-align: right;\">\n",
       "      <th></th>\n",
       "      <th>Year</th>\n",
       "      <th>Country</th>\n",
       "      <th>Death Confirmed</th>\n",
       "      <th>Outbreak Case</th>\n",
       "      <th>Survival</th>\n",
       "    </tr>\n",
       "  </thead>\n",
       "  <tbody>\n",
       "    <tr>\n",
       "      <th>0</th>\n",
       "      <td>2014</td>\n",
       "      <td>Guinea</td>\n",
       "      <td>40462.0</td>\n",
       "      <td>66190.0</td>\n",
       "      <td>25728.0</td>\n",
       "    </tr>\n",
       "    <tr>\n",
       "      <th>1</th>\n",
       "      <td>2014</td>\n",
       "      <td>Liberia</td>\n",
       "      <td>95625.0</td>\n",
       "      <td>210796.0</td>\n",
       "      <td>115171.0</td>\n",
       "    </tr>\n",
       "    <tr>\n",
       "      <th>2</th>\n",
       "      <td>2014</td>\n",
       "      <td>Mali</td>\n",
       "      <td>101.0</td>\n",
       "      <td>129.0</td>\n",
       "      <td>28.0</td>\n",
       "    </tr>\n",
       "    <tr>\n",
       "      <th>3</th>\n",
       "      <td>2014</td>\n",
       "      <td>Nigeria</td>\n",
       "      <td>303.0</td>\n",
       "      <td>765.0</td>\n",
       "      <td>462.0</td>\n",
       "    </tr>\n",
       "    <tr>\n",
       "      <th>5</th>\n",
       "      <td>2014</td>\n",
       "      <td>Sierra Leone</td>\n",
       "      <td>51945.0</td>\n",
       "      <td>192291.0</td>\n",
       "      <td>140346.0</td>\n",
       "    </tr>\n",
       "    <tr>\n",
       "      <th>8</th>\n",
       "      <td>2015</td>\n",
       "      <td>Guinea</td>\n",
       "      <td>520071.0</td>\n",
       "      <td>784124.0</td>\n",
       "      <td>264053.0</td>\n",
       "    </tr>\n",
       "    <tr>\n",
       "      <th>10</th>\n",
       "      <td>2015</td>\n",
       "      <td>Liberia</td>\n",
       "      <td>999395.0</td>\n",
       "      <td>2237646.0</td>\n",
       "      <td>1238251.0</td>\n",
       "    </tr>\n",
       "    <tr>\n",
       "      <th>11</th>\n",
       "      <td>2015</td>\n",
       "      <td>Mali</td>\n",
       "      <td>1320.0</td>\n",
       "      <td>1728.0</td>\n",
       "      <td>408.0</td>\n",
       "    </tr>\n",
       "    <tr>\n",
       "      <th>12</th>\n",
       "      <td>2015</td>\n",
       "      <td>Nigeria</td>\n",
       "      <td>1728.0</td>\n",
       "      <td>4320.0</td>\n",
       "      <td>2592.0</td>\n",
       "    </tr>\n",
       "    <tr>\n",
       "      <th>14</th>\n",
       "      <td>2015</td>\n",
       "      <td>Sierra Leone</td>\n",
       "      <td>832934.0</td>\n",
       "      <td>2797015.0</td>\n",
       "      <td>1964081.0</td>\n",
       "    </tr>\n",
       "    <tr>\n",
       "      <th>17</th>\n",
       "      <td>2015</td>\n",
       "      <td>United States of America</td>\n",
       "      <td>216.0</td>\n",
       "      <td>864.0</td>\n",
       "      <td>648.0</td>\n",
       "    </tr>\n",
       "    <tr>\n",
       "      <th>18</th>\n",
       "      <td>2016</td>\n",
       "      <td>Guinea</td>\n",
       "      <td>2536.0</td>\n",
       "      <td>3804.0</td>\n",
       "      <td>1268.0</td>\n",
       "    </tr>\n",
       "    <tr>\n",
       "      <th>20</th>\n",
       "      <td>2016</td>\n",
       "      <td>Liberia</td>\n",
       "      <td>4813.0</td>\n",
       "      <td>10680.0</td>\n",
       "      <td>5867.0</td>\n",
       "    </tr>\n",
       "    <tr>\n",
       "      <th>24</th>\n",
       "      <td>2016</td>\n",
       "      <td>Sierra Leone</td>\n",
       "      <td>3955.0</td>\n",
       "      <td>14122.0</td>\n",
       "      <td>10167.0</td>\n",
       "    </tr>\n",
       "  </tbody>\n",
       "</table>\n",
       "</div>"
      ],
      "text/plain": [
       "    Year                   Country  Death Confirmed  Outbreak Case   Survival\n",
       "0   2014                    Guinea          40462.0        66190.0    25728.0\n",
       "1   2014                   Liberia          95625.0       210796.0   115171.0\n",
       "2   2014                      Mali            101.0          129.0       28.0\n",
       "3   2014                   Nigeria            303.0          765.0      462.0\n",
       "5   2014              Sierra Leone          51945.0       192291.0   140346.0\n",
       "8   2015                    Guinea         520071.0       784124.0   264053.0\n",
       "10  2015                   Liberia         999395.0      2237646.0  1238251.0\n",
       "11  2015                      Mali           1320.0         1728.0      408.0\n",
       "12  2015                   Nigeria           1728.0         4320.0     2592.0\n",
       "14  2015              Sierra Leone         832934.0      2797015.0  1964081.0\n",
       "17  2015  United States of America            216.0          864.0      648.0\n",
       "18  2016                    Guinea           2536.0         3804.0     1268.0\n",
       "20  2016                   Liberia           4813.0        10680.0     5867.0\n",
       "24  2016              Sierra Leone           3955.0        14122.0    10167.0"
      ]
     },
     "execution_count": 50,
     "metadata": {},
     "output_type": "execute_result"
    }
   ],
   "source": [
    "Report1"
   ]
  },
  {
   "cell_type": "code",
   "execution_count": 51,
   "id": "23d27d35",
   "metadata": {},
   "outputs": [
    {
     "data": {
      "application/vnd.plotly.v1+json": {
       "config": {
        "plotlyServerURL": "https://plot.ly"
       },
       "data": [
        {
         "colorbar": {
          "title": {
           "text": "Survived"
          }
         },
         "colorscale": [
          [
           0,
           "#000000"
          ],
          [
           0.0625,
           "#001f4d"
          ],
          [
           0.125,
           "#003786"
          ],
          [
           0.1875,
           "#0e58a8"
          ],
          [
           0.25,
           "#217eb8"
          ],
          [
           0.3125,
           "#30a4ca"
          ],
          [
           0.375,
           "#54c8df"
          ],
          [
           0.4375,
           "#9be4ef"
          ],
          [
           0.5,
           "#e1e9d1"
          ],
          [
           0.5625,
           "#f3d573"
          ],
          [
           0.625,
           "#e7b000"
          ],
          [
           0.6875,
           "#da8200"
          ],
          [
           0.75,
           "#c65400"
          ],
          [
           0.8125,
           "#ac2301"
          ],
          [
           0.875,
           "#820000"
          ],
          [
           0.9375,
           "#4c0000"
          ],
          [
           1,
           "#000000"
          ]
         ],
         "locationmode": "country names",
         "locations": [
          "Guinea",
          "Liberia",
          "Mali",
          "Nigeria",
          "Sierra Leone",
          "Guinea",
          "Liberia",
          "Mali",
          "Nigeria",
          "Sierra Leone",
          "United States of America",
          "Guinea",
          "Liberia",
          "Sierra Leone"
         ],
         "type": "choropleth",
         "z": [
          25728,
          115171,
          28,
          462,
          140346,
          264053,
          1238251,
          408,
          2592,
          1964081,
          648,
          1268,
          5867,
          10167
         ]
        }
       ],
       "layout": {
        "geo": {
         "projection": {
          "type": "equirectangular"
         },
         "showcoastlines": true,
         "showframe": false
        },
        "template": {
         "data": {
          "bar": [
           {
            "error_x": {
             "color": "#2a3f5f"
            },
            "error_y": {
             "color": "#2a3f5f"
            },
            "marker": {
             "line": {
              "color": "#E5ECF6",
              "width": 0.5
             },
             "pattern": {
              "fillmode": "overlay",
              "size": 10,
              "solidity": 0.2
             }
            },
            "type": "bar"
           }
          ],
          "barpolar": [
           {
            "marker": {
             "line": {
              "color": "#E5ECF6",
              "width": 0.5
             },
             "pattern": {
              "fillmode": "overlay",
              "size": 10,
              "solidity": 0.2
             }
            },
            "type": "barpolar"
           }
          ],
          "carpet": [
           {
            "aaxis": {
             "endlinecolor": "#2a3f5f",
             "gridcolor": "white",
             "linecolor": "white",
             "minorgridcolor": "white",
             "startlinecolor": "#2a3f5f"
            },
            "baxis": {
             "endlinecolor": "#2a3f5f",
             "gridcolor": "white",
             "linecolor": "white",
             "minorgridcolor": "white",
             "startlinecolor": "#2a3f5f"
            },
            "type": "carpet"
           }
          ],
          "choropleth": [
           {
            "colorbar": {
             "outlinewidth": 0,
             "ticks": ""
            },
            "type": "choropleth"
           }
          ],
          "contour": [
           {
            "colorbar": {
             "outlinewidth": 0,
             "ticks": ""
            },
            "colorscale": [
             [
              0,
              "#0d0887"
             ],
             [
              0.1111111111111111,
              "#46039f"
             ],
             [
              0.2222222222222222,
              "#7201a8"
             ],
             [
              0.3333333333333333,
              "#9c179e"
             ],
             [
              0.4444444444444444,
              "#bd3786"
             ],
             [
              0.5555555555555556,
              "#d8576b"
             ],
             [
              0.6666666666666666,
              "#ed7953"
             ],
             [
              0.7777777777777778,
              "#fb9f3a"
             ],
             [
              0.8888888888888888,
              "#fdca26"
             ],
             [
              1,
              "#f0f921"
             ]
            ],
            "type": "contour"
           }
          ],
          "contourcarpet": [
           {
            "colorbar": {
             "outlinewidth": 0,
             "ticks": ""
            },
            "type": "contourcarpet"
           }
          ],
          "heatmap": [
           {
            "colorbar": {
             "outlinewidth": 0,
             "ticks": ""
            },
            "colorscale": [
             [
              0,
              "#0d0887"
             ],
             [
              0.1111111111111111,
              "#46039f"
             ],
             [
              0.2222222222222222,
              "#7201a8"
             ],
             [
              0.3333333333333333,
              "#9c179e"
             ],
             [
              0.4444444444444444,
              "#bd3786"
             ],
             [
              0.5555555555555556,
              "#d8576b"
             ],
             [
              0.6666666666666666,
              "#ed7953"
             ],
             [
              0.7777777777777778,
              "#fb9f3a"
             ],
             [
              0.8888888888888888,
              "#fdca26"
             ],
             [
              1,
              "#f0f921"
             ]
            ],
            "type": "heatmap"
           }
          ],
          "heatmapgl": [
           {
            "colorbar": {
             "outlinewidth": 0,
             "ticks": ""
            },
            "colorscale": [
             [
              0,
              "#0d0887"
             ],
             [
              0.1111111111111111,
              "#46039f"
             ],
             [
              0.2222222222222222,
              "#7201a8"
             ],
             [
              0.3333333333333333,
              "#9c179e"
             ],
             [
              0.4444444444444444,
              "#bd3786"
             ],
             [
              0.5555555555555556,
              "#d8576b"
             ],
             [
              0.6666666666666666,
              "#ed7953"
             ],
             [
              0.7777777777777778,
              "#fb9f3a"
             ],
             [
              0.8888888888888888,
              "#fdca26"
             ],
             [
              1,
              "#f0f921"
             ]
            ],
            "type": "heatmapgl"
           }
          ],
          "histogram": [
           {
            "marker": {
             "pattern": {
              "fillmode": "overlay",
              "size": 10,
              "solidity": 0.2
             }
            },
            "type": "histogram"
           }
          ],
          "histogram2d": [
           {
            "colorbar": {
             "outlinewidth": 0,
             "ticks": ""
            },
            "colorscale": [
             [
              0,
              "#0d0887"
             ],
             [
              0.1111111111111111,
              "#46039f"
             ],
             [
              0.2222222222222222,
              "#7201a8"
             ],
             [
              0.3333333333333333,
              "#9c179e"
             ],
             [
              0.4444444444444444,
              "#bd3786"
             ],
             [
              0.5555555555555556,
              "#d8576b"
             ],
             [
              0.6666666666666666,
              "#ed7953"
             ],
             [
              0.7777777777777778,
              "#fb9f3a"
             ],
             [
              0.8888888888888888,
              "#fdca26"
             ],
             [
              1,
              "#f0f921"
             ]
            ],
            "type": "histogram2d"
           }
          ],
          "histogram2dcontour": [
           {
            "colorbar": {
             "outlinewidth": 0,
             "ticks": ""
            },
            "colorscale": [
             [
              0,
              "#0d0887"
             ],
             [
              0.1111111111111111,
              "#46039f"
             ],
             [
              0.2222222222222222,
              "#7201a8"
             ],
             [
              0.3333333333333333,
              "#9c179e"
             ],
             [
              0.4444444444444444,
              "#bd3786"
             ],
             [
              0.5555555555555556,
              "#d8576b"
             ],
             [
              0.6666666666666666,
              "#ed7953"
             ],
             [
              0.7777777777777778,
              "#fb9f3a"
             ],
             [
              0.8888888888888888,
              "#fdca26"
             ],
             [
              1,
              "#f0f921"
             ]
            ],
            "type": "histogram2dcontour"
           }
          ],
          "mesh3d": [
           {
            "colorbar": {
             "outlinewidth": 0,
             "ticks": ""
            },
            "type": "mesh3d"
           }
          ],
          "parcoords": [
           {
            "line": {
             "colorbar": {
              "outlinewidth": 0,
              "ticks": ""
             }
            },
            "type": "parcoords"
           }
          ],
          "pie": [
           {
            "automargin": true,
            "type": "pie"
           }
          ],
          "scatter": [
           {
            "fillpattern": {
             "fillmode": "overlay",
             "size": 10,
             "solidity": 0.2
            },
            "type": "scatter"
           }
          ],
          "scatter3d": [
           {
            "line": {
             "colorbar": {
              "outlinewidth": 0,
              "ticks": ""
             }
            },
            "marker": {
             "colorbar": {
              "outlinewidth": 0,
              "ticks": ""
             }
            },
            "type": "scatter3d"
           }
          ],
          "scattercarpet": [
           {
            "marker": {
             "colorbar": {
              "outlinewidth": 0,
              "ticks": ""
             }
            },
            "type": "scattercarpet"
           }
          ],
          "scattergeo": [
           {
            "marker": {
             "colorbar": {
              "outlinewidth": 0,
              "ticks": ""
             }
            },
            "type": "scattergeo"
           }
          ],
          "scattergl": [
           {
            "marker": {
             "colorbar": {
              "outlinewidth": 0,
              "ticks": ""
             }
            },
            "type": "scattergl"
           }
          ],
          "scattermapbox": [
           {
            "marker": {
             "colorbar": {
              "outlinewidth": 0,
              "ticks": ""
             }
            },
            "type": "scattermapbox"
           }
          ],
          "scatterpolar": [
           {
            "marker": {
             "colorbar": {
              "outlinewidth": 0,
              "ticks": ""
             }
            },
            "type": "scatterpolar"
           }
          ],
          "scatterpolargl": [
           {
            "marker": {
             "colorbar": {
              "outlinewidth": 0,
              "ticks": ""
             }
            },
            "type": "scatterpolargl"
           }
          ],
          "scatterternary": [
           {
            "marker": {
             "colorbar": {
              "outlinewidth": 0,
              "ticks": ""
             }
            },
            "type": "scatterternary"
           }
          ],
          "surface": [
           {
            "colorbar": {
             "outlinewidth": 0,
             "ticks": ""
            },
            "colorscale": [
             [
              0,
              "#0d0887"
             ],
             [
              0.1111111111111111,
              "#46039f"
             ],
             [
              0.2222222222222222,
              "#7201a8"
             ],
             [
              0.3333333333333333,
              "#9c179e"
             ],
             [
              0.4444444444444444,
              "#bd3786"
             ],
             [
              0.5555555555555556,
              "#d8576b"
             ],
             [
              0.6666666666666666,
              "#ed7953"
             ],
             [
              0.7777777777777778,
              "#fb9f3a"
             ],
             [
              0.8888888888888888,
              "#fdca26"
             ],
             [
              1,
              "#f0f921"
             ]
            ],
            "type": "surface"
           }
          ],
          "table": [
           {
            "cells": {
             "fill": {
              "color": "#EBF0F8"
             },
             "line": {
              "color": "white"
             }
            },
            "header": {
             "fill": {
              "color": "#C8D4E3"
             },
             "line": {
              "color": "white"
             }
            },
            "type": "table"
           }
          ]
         },
         "layout": {
          "annotationdefaults": {
           "arrowcolor": "#2a3f5f",
           "arrowhead": 0,
           "arrowwidth": 1
          },
          "autotypenumbers": "strict",
          "coloraxis": {
           "colorbar": {
            "outlinewidth": 0,
            "ticks": ""
           }
          },
          "colorscale": {
           "diverging": [
            [
             0,
             "#8e0152"
            ],
            [
             0.1,
             "#c51b7d"
            ],
            [
             0.2,
             "#de77ae"
            ],
            [
             0.3,
             "#f1b6da"
            ],
            [
             0.4,
             "#fde0ef"
            ],
            [
             0.5,
             "#f7f7f7"
            ],
            [
             0.6,
             "#e6f5d0"
            ],
            [
             0.7,
             "#b8e186"
            ],
            [
             0.8,
             "#7fbc41"
            ],
            [
             0.9,
             "#4d9221"
            ],
            [
             1,
             "#276419"
            ]
           ],
           "sequential": [
            [
             0,
             "#0d0887"
            ],
            [
             0.1111111111111111,
             "#46039f"
            ],
            [
             0.2222222222222222,
             "#7201a8"
            ],
            [
             0.3333333333333333,
             "#9c179e"
            ],
            [
             0.4444444444444444,
             "#bd3786"
            ],
            [
             0.5555555555555556,
             "#d8576b"
            ],
            [
             0.6666666666666666,
             "#ed7953"
            ],
            [
             0.7777777777777778,
             "#fb9f3a"
            ],
            [
             0.8888888888888888,
             "#fdca26"
            ],
            [
             1,
             "#f0f921"
            ]
           ],
           "sequentialminus": [
            [
             0,
             "#0d0887"
            ],
            [
             0.1111111111111111,
             "#46039f"
            ],
            [
             0.2222222222222222,
             "#7201a8"
            ],
            [
             0.3333333333333333,
             "#9c179e"
            ],
            [
             0.4444444444444444,
             "#bd3786"
            ],
            [
             0.5555555555555556,
             "#d8576b"
            ],
            [
             0.6666666666666666,
             "#ed7953"
            ],
            [
             0.7777777777777778,
             "#fb9f3a"
            ],
            [
             0.8888888888888888,
             "#fdca26"
            ],
            [
             1,
             "#f0f921"
            ]
           ]
          },
          "colorway": [
           "#636efa",
           "#EF553B",
           "#00cc96",
           "#ab63fa",
           "#FFA15A",
           "#19d3f3",
           "#FF6692",
           "#B6E880",
           "#FF97FF",
           "#FECB52"
          ],
          "font": {
           "color": "#2a3f5f"
          },
          "geo": {
           "bgcolor": "white",
           "lakecolor": "white",
           "landcolor": "#E5ECF6",
           "showlakes": true,
           "showland": true,
           "subunitcolor": "white"
          },
          "hoverlabel": {
           "align": "left"
          },
          "hovermode": "closest",
          "mapbox": {
           "style": "light"
          },
          "paper_bgcolor": "white",
          "plot_bgcolor": "#E5ECF6",
          "polar": {
           "angularaxis": {
            "gridcolor": "white",
            "linecolor": "white",
            "ticks": ""
           },
           "bgcolor": "#E5ECF6",
           "radialaxis": {
            "gridcolor": "white",
            "linecolor": "white",
            "ticks": ""
           }
          },
          "scene": {
           "xaxis": {
            "backgroundcolor": "#E5ECF6",
            "gridcolor": "white",
            "gridwidth": 2,
            "linecolor": "white",
            "showbackground": true,
            "ticks": "",
            "zerolinecolor": "white"
           },
           "yaxis": {
            "backgroundcolor": "#E5ECF6",
            "gridcolor": "white",
            "gridwidth": 2,
            "linecolor": "white",
            "showbackground": true,
            "ticks": "",
            "zerolinecolor": "white"
           },
           "zaxis": {
            "backgroundcolor": "#E5ECF6",
            "gridcolor": "white",
            "gridwidth": 2,
            "linecolor": "white",
            "showbackground": true,
            "ticks": "",
            "zerolinecolor": "white"
           }
          },
          "shapedefaults": {
           "line": {
            "color": "#2a3f5f"
           }
          },
          "ternary": {
           "aaxis": {
            "gridcolor": "white",
            "linecolor": "white",
            "ticks": ""
           },
           "baxis": {
            "gridcolor": "white",
            "linecolor": "white",
            "ticks": ""
           },
           "bgcolor": "#E5ECF6",
           "caxis": {
            "gridcolor": "white",
            "linecolor": "white",
            "ticks": ""
           }
          },
          "title": {
           "x": 0.05
          },
          "xaxis": {
           "automargin": true,
           "gridcolor": "white",
           "linecolor": "white",
           "ticks": "",
           "title": {
            "standoff": 15
           },
           "zerolinecolor": "white",
           "zerolinewidth": 2
          },
          "yaxis": {
           "automargin": true,
           "gridcolor": "white",
           "linecolor": "white",
           "ticks": "",
           "title": {
            "standoff": 15
           },
           "zerolinecolor": "white",
           "zerolinewidth": 2
          }
         }
        },
        "title": {
         "text": "Ebola Outbreak Survival Rate by Country",
         "x": 0.5,
         "xanchor": "center",
         "y": 0.95,
         "yanchor": "top"
        }
       }
      }
     },
     "metadata": {},
     "output_type": "display_data"
    }
   ],
   "source": [
    "\n",
    "layout = go.Layout(\n",
    "      title={\n",
    "        'text': \"Ebola Outbreak Survival Rate by Country\",\n",
    "        'x': 0.5,\n",
    "        'y': 0.95, \n",
    "        'xanchor': 'center', \n",
    "        'yanchor': 'top' \n",
    "    },\n",
    "    geo=dict(\n",
    "        showframe=False, \n",
    "        showcoastlines=True,  \n",
    "        projection_type='equirectangular',\n",
    "\n",
    "    )\n",
    ")\n",
    "\n",
    "fig = go.Figure(data=go.Choropleth(\n",
    "    locations=Report1['Country'],  \n",
    "    z=Report1['Survival'],  \n",
    "    locationmode='country names',  \n",
    "    colorscale='icefire',  \n",
    "    colorbar_title='Survived'  \n",
    "))\n",
    "\n",
    "# Update the layout\n",
    "fig.update_layout(layout)\n",
    "\n",
    "# Show the plot\n",
    "fig.show()"
   ]
  },
  {
   "cell_type": "code",
   "execution_count": null,
   "id": "9e200fb2",
   "metadata": {},
   "outputs": [],
   "source": []
  },
  {
   "cell_type": "code",
   "execution_count": null,
   "id": "779ed34a",
   "metadata": {},
   "outputs": [],
   "source": []
  },
  {
   "cell_type": "code",
   "execution_count": null,
   "id": "3b74445f",
   "metadata": {},
   "outputs": [],
   "source": []
  }
 ],
 "metadata": {
  "kernelspec": {
   "display_name": "base",
   "language": "python",
   "name": "python3"
  },
  "language_info": {
   "codemirror_mode": {
    "name": "ipython",
    "version": 3
   },
   "file_extension": ".py",
   "mimetype": "text/x-python",
   "name": "python",
   "nbconvert_exporter": "python",
   "pygments_lexer": "ipython3",
   "version": "3.12.4"
  }
 },
 "nbformat": 4,
 "nbformat_minor": 5
}
